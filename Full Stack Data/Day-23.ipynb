{
 "cells": [
  {
   "cell_type": "code",
   "execution_count": 12,
   "id": "0e418fd7-ee12-4fa0-8f8e-2ab70b510f57",
   "metadata": {},
   "outputs": [
    {
     "data": {
      "text/plain": [
       "'welcome'"
      ]
     },
     "execution_count": 12,
     "metadata": {},
     "output_type": "execute_result"
    }
   ],
   "source": [
    "# casefold\n",
    "\n",
    "\n",
    "string1= \"Welcome\"\n",
    "string1.casefold()"
   ]
  },
  {
   "cell_type": "markdown",
   "id": "1c23a6da-4eb4-42fb-bc62-d8ad5102a13e",
   "metadata": {},
   "source": [
    "- capitalize   : first letter as capital\n",
    "- upper        : all letters in upper case\n",
    "- lower        : all letters in lower case\n",
    "- casefold     : Case less comparision(lower case)"
   ]
  },
  {
   "cell_type": "code",
   "execution_count": 1,
   "id": "d1e000d8-3d25-4d18-9fb4-921d5418f7e3",
   "metadata": {},
   "outputs": [
    {
     "data": {
      "text/plain": [
       "1"
      ]
     },
     "execution_count": 1,
     "metadata": {},
     "output_type": "execute_result"
    }
   ],
   "source": [
    "# count\n",
    "\n",
    "strin = (\"hi, how are you\")\n",
    "# How many 'a' are there\n",
    "strin.count('a')\n"
   ]
  },
  {
   "cell_type": "code",
   "execution_count": 3,
   "id": "d091c51c-a12b-4dab-bff6-fc4b5938ee16",
   "metadata": {},
   "outputs": [
    {
     "data": {
      "text/plain": [
       "1"
      ]
     },
     "execution_count": 3,
     "metadata": {},
     "output_type": "execute_result"
    }
   ],
   "source": [
    "strin.count('hi')"
   ]
  },
  {
   "cell_type": "code",
   "execution_count": 13,
   "id": "aa5d1bfb-4804-4734-8da9-02cf5faa1239",
   "metadata": {},
   "outputs": [
    {
     "name": "stdout",
     "output_type": "stream",
     "text": [
      "3\n",
      "2\n",
      "3\n",
      "0\n"
     ]
    }
   ],
   "source": [
    "stri1 = 'ola ola ola'\n",
    "print(stri1.count('ola'))    #3\n",
    "print(stri1.count('ola '))   #2\n",
    "print(stri1.count('ol'))   #3\n",
    "print(stri1.count('oa'))   #0\n"
   ]
  },
  {
   "cell_type": "code",
   "execution_count": 25,
   "id": "5983c396-692b-473a-b0aa-bd816f125ddf",
   "metadata": {},
   "outputs": [
    {
     "name": "stdout",
     "output_type": "stream",
     "text": [
      "2\n",
      "0\n",
      "2\n",
      "2\n",
      "0\n"
     ]
    }
   ],
   "source": [
    "stri1 = 'ola ola ola'\n",
    "print(stri1.count('a',4)) #we are counting the number of 'a' from index 4   ====>output:2\n",
    "print(stri1.count('a',4,6)) #we are counting the number of 'a' from index 4 and end 6 excluding 6 ===>output:0\n",
    "print(stri1.count('a',6)) #we are counting the number of 'a' from index 6 including the index 6   ====> output:2\n",
    "print(stri1.count('A'.lower(),4))  #output:2\n",
    "print(stri1.count('a'.upper(),4))  #output:0"
   ]
  },
  {
   "cell_type": "code",
   "execution_count": 27,
   "id": "b09a8d01-7b01-4c00-85aa-ff07fcdee7e1",
   "metadata": {},
   "outputs": [
    {
     "name": "stdout",
     "output_type": "stream",
     "text": [
      "3\n"
     ]
    }
   ],
   "source": [
    "# developer method how many 'ola' =======> Use index and slicing concept \n",
    "count = 0\n",
    "for i in range(len(stri1)):\n",
    "    if stri1[i:i+3] == 'ola':\n",
    "        count+=1\n",
    "print(count)"
   ]
  },
  {
   "cell_type": "code",
   "execution_count": 31,
   "id": "29781f8a-2b5e-4730-8199-a65329d96672",
   "metadata": {},
   "outputs": [],
   "source": [
    "#$replace$\n"
   ]
  },
  {
   "cell_type": "code",
   "execution_count": 35,
   "id": "ce695b44-1bc1-4503-9a86-63d756f3efdd",
   "metadata": {},
   "outputs": [
    {
     "data": {
      "text/plain": [
       "'weLcome'"
      ]
     },
     "execution_count": 35,
     "metadata": {},
     "output_type": "execute_result"
    }
   ],
   "source": [
    "st = \"welcome\"\n",
    "# replace 'l' with 'L'\n",
    "st.replace('l','L')"
   ]
  },
  {
   "cell_type": "code",
   "execution_count": 39,
   "id": "91d5757d-8ea1-46b2-8327-dfd4c666ef4a",
   "metadata": {},
   "outputs": [
    {
     "data": {
      "text/plain": [
       "'$esta$t'"
      ]
     },
     "execution_count": 39,
     "metadata": {},
     "output_type": "execute_result"
    }
   ],
   "source": [
    "str1 = 'restart'\n",
    "# replace 'r' with '$'\n",
    "str1.replace('r','$')"
   ]
  },
  {
   "cell_type": "code",
   "execution_count": 41,
   "id": "9842ec30-67c9-4cb3-bfaa-07611eecbcc8",
   "metadata": {},
   "outputs": [
    {
     "data": {
      "text/plain": [
       "'$estart'"
      ]
     },
     "execution_count": 41,
     "metadata": {},
     "output_type": "execute_result"
    }
   ],
   "source": [
    "str1 = 'restart'\n",
    "# replace 'r' with '$'\n",
    "str1.replace('r','$',1)"
   ]
  },
  {
   "cell_type": "code",
   "execution_count": 45,
   "id": "fb835887-199f-4b4a-824e-f10b489b0d0a",
   "metadata": {},
   "outputs": [
    {
     "data": {
      "text/plain": [
       "'$esta$t'"
      ]
     },
     "execution_count": 45,
     "metadata": {},
     "output_type": "execute_result"
    }
   ],
   "source": [
    "str1 = 'restart'\n",
    "# replace 'r' with '$'\n",
    "str1.replace('r','$',-1)  # -1 is just a flag"
   ]
  },
  {
   "cell_type": "code",
   "execution_count": 61,
   "id": "4cd45738-450c-4973-b542-93299a898c1b",
   "metadata": {},
   "outputs": [
    {
     "data": {
      "text/plain": [
       "'resta$t'"
      ]
     },
     "execution_count": 61,
     "metadata": {},
     "output_type": "execute_result"
    }
   ],
   "source": [
    "str1 = 'restart'\n",
    "s1 = str1[0]\n",
    "s2 = str1[1:].replace('r','$')\n",
    "s1 + s2\n",
    "# replace 'r' with '$'\n",
    "# str1.replace('r','$')"
   ]
  },
  {
   "cell_type": "code",
   "execution_count": null,
   "id": "f039a0d6-e7c0-4404-99aa-8c41e5855632",
   "metadata": {},
   "outputs": [],
   "source": []
  },
  {
   "cell_type": "code",
   "execution_count": null,
   "id": "a2e9db1d-410b-49dd-b831-d315fef8bf05",
   "metadata": {},
   "outputs": [],
   "source": []
  },
  {
   "cell_type": "code",
   "execution_count": 69,
   "id": "b7bc1ed3-e10f-4587-9beb-fd816b55efc8",
   "metadata": {},
   "outputs": [
    {
     "data": {
      "text/plain": [
       "'resta$t'"
      ]
     },
     "execution_count": 69,
     "metadata": {},
     "output_type": "execute_result"
    }
   ],
   "source": [
    "str1[::-1].replace('r','$',1)[::-1]"
   ]
  },
  {
   "cell_type": "code",
   "execution_count": 3,
   "id": "949505f2-f94b-40d0-a0f3-eba5751bd922",
   "metadata": {},
   "outputs": [
    {
     "data": {
      "text/plain": [
       "3"
      ]
     },
     "execution_count": 3,
     "metadata": {},
     "output_type": "execute_result"
    }
   ],
   "source": [
    "# index\n",
    "str1 = 'Welcome Python'\n",
    "str1.index('c')"
   ]
  },
  {
   "cell_type": "code",
   "execution_count": 73,
   "id": "9a199dcb-ac6e-4b10-8c8c-371d4f13f954",
   "metadata": {},
   "outputs": [
    {
     "ename": "ValueError",
     "evalue": "substring not found",
     "output_type": "error",
     "traceback": [
      "\u001b[0;31m---------------------------------------------------------------------------\u001b[0m",
      "\u001b[0;31mValueError\u001b[0m                                Traceback (most recent call last)",
      "Cell \u001b[0;32mIn[73], line 1\u001b[0m\n\u001b[0;32m----> 1\u001b[0m str1\u001b[38;5;241m.\u001b[39mindex(\u001b[38;5;124m'\u001b[39m\u001b[38;5;124mz\u001b[39m\u001b[38;5;124m'\u001b[39m)\n",
      "\u001b[0;31mValueError\u001b[0m: substring not found"
     ]
    }
   ],
   "source": [
    "str1.index('z')\n",
    "# error occurs when char is not in the string"
   ]
  },
  {
   "cell_type": "code",
   "execution_count": 79,
   "id": "19a6f5ae-be02-46dd-ba2d-edbc0f891ef2",
   "metadata": {},
   "outputs": [],
   "source": [
    "str1 = 'Welcome Python'\n",
    "# index of 'c' \n",
    "\n",
    "for i in range(len(str1)):\n",
    "    if str1[i] == 'a':\n",
    "        print(i)\n",
    "    "
   ]
  },
  {
   "cell_type": "code",
   "execution_count": 81,
   "id": "d0d0483f-9a0b-4c67-b087-6192eb62915b",
   "metadata": {},
   "outputs": [
    {
     "name": "stdout",
     "output_type": "stream",
     "text": [
      "4\n",
      "12\n"
     ]
    }
   ],
   "source": [
    "str1 = 'Welcome Python'\n",
    "# index of 'c' \n",
    "\n",
    "for i in range(len(str1)):\n",
    "    if str1[i] == 'o':\n",
    "        print(i)\n"
   ]
  },
  {
   "cell_type": "code",
   "execution_count": 33,
   "id": "6941aaa8-1778-48da-99d6-05fa76f80554",
   "metadata": {},
   "outputs": [
    {
     "name": "stdout",
     "output_type": "stream",
     "text": [
      "13\n"
     ]
    },
    {
     "data": {
      "text/plain": [
       "15"
      ]
     },
     "execution_count": 33,
     "metadata": {},
     "output_type": "execute_result"
    }
   ],
   "source": [
    "string2 = 'hi hi hi deepaka'\n",
    "# string2.index('a')  # only first occurance of 'a' is 13\n",
    "i1= string2.index('a',string2.index('a')) # occurance of 1 times is 13 \n",
    "print(i1)\n",
    "string2.index('a',i1+1) #  2nd occurance of 2 times is 13 & 15"
   ]
  },
  {
   "cell_type": "code",
   "execution_count": 80,
   "id": "f4c27a3c-4c1a-4084-9b4d-a99e93d2e8b2",
   "metadata": {},
   "outputs": [
    {
     "data": {
      "text/plain": [
       "9"
      ]
     },
     "execution_count": 80,
     "metadata": {},
     "output_type": "execute_result"
    }
   ],
   "source": [
    "string1 = 'hai hai hai hai'\n",
    "# I want to first occurance of 'a'\n",
    "i1 = string1.index('a')\n",
    "i2 = string1.index('a',i1+ 1)\n",
    "string1.index('a',i2+1)    # 3rd occurance is 9\n"
   ]
  },
  {
   "cell_type": "code",
   "execution_count": null,
   "id": "f5701c2d-e9f8-41de-bbc5-fbaa21ff7650",
   "metadata": {},
   "outputs": [],
   "source": [
    "stri = 'welcome hello hello hello'\n",
    "# stri.index('l')\n",
    "# stri.index('l',stri.index('l')+1)\n",
    "stri.index('l',stri.index('l',stri.index('l')+1)+1)\n",
    "stri.index('l',stri.index('l',stri.index('l',stri.index('l')+1)+1)+1)"
   ]
  },
  {
   "cell_type": "code",
   "execution_count": 134,
   "id": "41faa393-1aab-468a-9b2a-aa0e0372bf6b",
   "metadata": {},
   "outputs": [
    {
     "data": {
      "text/plain": [
       "-1"
      ]
     },
     "execution_count": 134,
     "metadata": {},
     "output_type": "execute_result"
    }
   ],
   "source": [
    "# take one string\n",
    "# apply shift+tab\n",
    "# read what it says\n",
    "# implement that what is occuring\n",
    "\n",
    "st = 'hello Deepak'\n",
    "st.find('a')\n",
    "st.find('z')\n",
    "# if substring not found in find > then -1 is displayed no error occured\n",
    "st.index('z') \n",
    "# if substring not found in find > then  displayed  error occured\n",
    "st.count('z')\n",
    "# if substring not found in find > then 0 is displayed no error occured\n"
   ]
  },
  {
   "cell_type": "markdown",
   "id": "e6a9dfee-a87b-4b6d-b8c9-f397db152269",
   "metadata": {},
   "source": [
    "- capitalize/upper/lower/casefold\n",
    "- index/find\n",
    "-count\n",
    "-replace"
   ]
  },
  {
   "cell_type": "code",
   "execution_count": 146,
   "id": "b1ce321e-449d-4297-819e-0afea6060a04",
   "metadata": {},
   "outputs": [
    {
     "data": {
      "text/plain": [
       "1"
      ]
     },
     "execution_count": 146,
     "metadata": {},
     "output_type": "execute_result"
    }
   ],
   "source": [
    "str3 = \"Hi Deepak, how are youi\"\n",
    "str3.index('i')  #first occurance"
   ]
  },
  {
   "cell_type": "code",
   "execution_count": 148,
   "id": "7cf271ad-461b-4d4e-b34f-b88b8739e250",
   "metadata": {},
   "outputs": [
    {
     "data": {
      "text/plain": [
       "22"
      ]
     },
     "execution_count": 148,
     "metadata": {},
     "output_type": "execute_result"
    }
   ],
   "source": [
    "str3.index('i',str3.index('i')+1)"
   ]
  },
  {
   "cell_type": "code",
   "execution_count": 154,
   "id": "429eb7e4-22f8-41db-a3b4-2a4123db88ac",
   "metadata": {},
   "outputs": [
    {
     "name": "stdout",
     "output_type": "stream",
     "text": [
      "hello how are you\n",
      "hello how are you\n",
      " hello how are you\n"
     ]
    }
   ],
   "source": [
    "# strip=lstrip=rstrip =======> remove covering\n",
    "\n",
    "\n",
    "str1 = 'hello how are you'\n",
    "str2 = ' hello how are you'\n",
    "str3 = 'hello how are you '\n",
    "# I want remove the spaces\n",
    "# If you want to remove the spaces both sides use strip method\n",
    "# If you want to remove the spaces only on the left side, then use lstrip: left strip\n",
    "# If you want to remove the spaces only on the right side, then use rstrip: right strip\n",
    "\n",
    "print(str2.strip())\n",
    "print(str2.lstrip())\n",
    "print(str2.rstrip())\n"
   ]
  },
  {
   "cell_type": "code",
   "execution_count": 152,
   "id": "bb0ab876-d3d0-49f1-99c3-997db9e90353",
   "metadata": {},
   "outputs": [
    {
     "name": "stdout",
     "output_type": "stream",
     "text": [
      "hello how are you\n",
      "hello how are you\n",
      "hello how are you\n"
     ]
    }
   ],
   "source": [
    "print(str1.strip())\n",
    "print(str2.strip())\n",
    "print(str3.strip())"
   ]
  },
  {
   "cell_type": "code",
   "execution_count": 216,
   "id": "6b4c76a0-5e75-412e-b38c-fe86b3c493ad",
   "metadata": {},
   "outputs": [],
   "source": [
    "# WAP to extract\n",
    "str1 = 'python.anaconda@nareshit.com'\n",
    "# Extract first name: python\n",
    "# Extract second name: anaconda \n",
    " \n",
    "# Extract company name: nareshit"
   ]
  },
  {
   "cell_type": "code",
   "execution_count": 306,
   "id": "a114a127-513a-4605-b85e-a5cafd2817f8",
   "metadata": {},
   "outputs": [
    {
     "name": "stdout",
     "output_type": "stream",
     "text": [
      "First Word: python\n",
      "After first dot: .anaconda\n",
      "Last Word: com\n",
      "After @ : nareshit\n"
     ]
    }
   ],
   "source": [
    "first_dot = str1.index('.')\n",
    "before_first_word = str1[:first_dot]\n",
    "print(\"First Word:\",before_first_word)\n",
    "\n",
    "\n",
    "after_first = str1[first_dot:str1.find('@')]\n",
    "print(\"After first dot:\",after_first)\n",
    "\n",
    "second_dot = str1.index('.',first_dot+1)\n",
    "after_second_word = str1[second_dot+1:]\n",
    "print(\"Last Word:\",after_second_word)\n",
    "\n",
    "\n",
    "print(\"After @ :\",str1[str1.find('@')+1:second_dot])"
   ]
  },
  {
   "cell_type": "code",
   "execution_count": 320,
   "id": "e3565890-8980-4799-836b-3689cd27fa3b",
   "metadata": {},
   "outputs": [
    {
     "name": "stdout",
     "output_type": "stream",
     "text": [
      "3\n",
      "1489\n",
      "234\n"
     ]
    }
   ],
   "source": [
    "str1 = '3.1489.234'\n",
    "print(str1[:str1.find('.')])\n",
    "print(str1[str1.find('.')+1:str1.find('.',str1.find('.')+1)])\n",
    "print(str1[str1.find('.',str1.find('.')+1)+1:])"
   ]
  },
  {
   "cell_type": "code",
   "execution_count": 338,
   "id": "4d3e45f5-9bf0-4875-83bb-78782f605cf2",
   "metadata": {},
   "outputs": [
    {
     "data": {
      "text/plain": [
       "False"
      ]
     },
     "execution_count": 338,
     "metadata": {},
     "output_type": "execute_result"
    }
   ],
   "source": [
    "# startswith - endswith\n",
    "\n",
    "\n",
    "\n",
    "str1 =( \"Hi, how are you \")\n",
    "str1.startswith('Hi')\n",
    "str1.startswith('H')\n",
    "str1.startswith('i')\n",
    "str1.startswith('you')"
   ]
  },
  {
   "cell_type": "code",
   "execution_count": 340,
   "id": "6c728893-244f-43af-9382-25faeefdbed6",
   "metadata": {},
   "outputs": [
    {
     "data": {
      "text/plain": [
       "True"
      ]
     },
     "execution_count": 340,
     "metadata": {},
     "output_type": "execute_result"
    }
   ],
   "source": [
    "str1.endswith('you')\n",
    "str1.endswith('')\n"
   ]
  },
  {
   "cell_type": "code",
   "execution_count": 342,
   "id": "3461056d-cd7e-4605-a25a-edfbbeb84bbb",
   "metadata": {},
   "outputs": [
    {
     "data": {
      "text/plain": [
       "True"
      ]
     },
     "execution_count": 342,
     "metadata": {},
     "output_type": "execute_result"
    }
   ],
   "source": [
    "str1.startswith(str1)"
   ]
  },
  {
   "cell_type": "code",
   "execution_count": 344,
   "id": "0da865c3-ce6f-4b99-8be6-db34c92a1fb5",
   "metadata": {},
   "outputs": [
    {
     "data": {
      "text/plain": [
       "True"
      ]
     },
     "execution_count": 344,
     "metadata": {},
     "output_type": "execute_result"
    }
   ],
   "source": [
    "str1.endswith(str1)"
   ]
  },
  {
   "cell_type": "code",
   "execution_count": 346,
   "id": "a369332a-4714-4e8a-bc9b-52f8814cc62a",
   "metadata": {},
   "outputs": [
    {
     "data": {
      "text/plain": [
       "['__add__',\n",
       " '__class__',\n",
       " '__contains__',\n",
       " '__delattr__',\n",
       " '__dir__',\n",
       " '__doc__',\n",
       " '__eq__',\n",
       " '__format__',\n",
       " '__ge__',\n",
       " '__getattribute__',\n",
       " '__getitem__',\n",
       " '__getnewargs__',\n",
       " '__getstate__',\n",
       " '__gt__',\n",
       " '__hash__',\n",
       " '__init__',\n",
       " '__init_subclass__',\n",
       " '__iter__',\n",
       " '__le__',\n",
       " '__len__',\n",
       " '__lt__',\n",
       " '__mod__',\n",
       " '__mul__',\n",
       " '__ne__',\n",
       " '__new__',\n",
       " '__reduce__',\n",
       " '__reduce_ex__',\n",
       " '__repr__',\n",
       " '__rmod__',\n",
       " '__rmul__',\n",
       " '__setattr__',\n",
       " '__sizeof__',\n",
       " '__str__',\n",
       " '__subclasshook__',\n",
       " 'capitalize',\n",
       " 'casefold',\n",
       " 'center',\n",
       " 'count',\n",
       " 'encode',\n",
       " 'endswith',\n",
       " 'expandtabs',\n",
       " 'find',\n",
       " 'format',\n",
       " 'format_map',\n",
       " 'index',\n",
       " 'isalnum',\n",
       " 'isalpha',\n",
       " 'isascii',\n",
       " 'isdecimal',\n",
       " 'isdigit',\n",
       " 'isidentifier',\n",
       " 'islower',\n",
       " 'isnumeric',\n",
       " 'isprintable',\n",
       " 'isspace',\n",
       " 'istitle',\n",
       " 'isupper',\n",
       " 'join',\n",
       " 'ljust',\n",
       " 'lower',\n",
       " 'lstrip',\n",
       " 'maketrans',\n",
       " 'partition',\n",
       " 'removeprefix',\n",
       " 'removesuffix',\n",
       " 'replace',\n",
       " 'rfind',\n",
       " 'rindex',\n",
       " 'rjust',\n",
       " 'rpartition',\n",
       " 'rsplit',\n",
       " 'rstrip',\n",
       " 'split',\n",
       " 'splitlines',\n",
       " 'startswith',\n",
       " 'strip',\n",
       " 'swapcase',\n",
       " 'title',\n",
       " 'translate',\n",
       " 'upper',\n",
       " 'zfill']"
      ]
     },
     "execution_count": 346,
     "metadata": {},
     "output_type": "execute_result"
    }
   ],
   "source": [
    "dir(\"\")\n"
   ]
  },
  {
   "cell_type": "code",
   "execution_count": 428,
   "id": "812b3dde-764e-4a0a-be44-11591b630fe8",
   "metadata": {},
   "outputs": [
    {
     "data": {
      "text/plain": [
       "False"
      ]
     },
     "execution_count": 428,
     "metadata": {},
     "output_type": "execute_result"
    }
   ],
   "source": [
    "string = '2324eedee'\n",
    "string.isnumeric()"
   ]
  },
  {
   "cell_type": "code",
   "execution_count": 430,
   "id": "018c0feb-f340-447e-bcf5-22d6de505c94",
   "metadata": {},
   "outputs": [
    {
     "data": {
      "text/plain": [
       "False"
      ]
     },
     "execution_count": 430,
     "metadata": {},
     "output_type": "execute_result"
    }
   ],
   "source": [
    "string.isalpha()"
   ]
  },
  {
   "cell_type": "code",
   "execution_count": 432,
   "id": "e0476189-e755-4e4d-8db1-eba44f199979",
   "metadata": {},
   "outputs": [
    {
     "data": {
      "text/plain": [
       "True"
      ]
     },
     "execution_count": 432,
     "metadata": {},
     "output_type": "execute_result"
    }
   ],
   "source": [
    "string.islower()"
   ]
  },
  {
   "cell_type": "code",
   "execution_count": 436,
   "id": "043df9c0-9b35-40f3-b500-7f7c15268085",
   "metadata": {},
   "outputs": [
    {
     "data": {
      "text/plain": [
       "False"
      ]
     },
     "execution_count": 436,
     "metadata": {},
     "output_type": "execute_result"
    }
   ],
   "source": [
    "string.isupper()"
   ]
  },
  {
   "cell_type": "code",
   "execution_count": 456,
   "id": "ba52b23d-2562-4914-acb8-67c51cddd9f3",
   "metadata": {},
   "outputs": [
    {
     "data": {
      "text/plain": [
       "True"
      ]
     },
     "execution_count": 456,
     "metadata": {},
     "output_type": "execute_result"
    }
   ],
   "source": [
    "string1 = '@#a123'\n",
    "string1.isalnum()     # False\n",
    "\n",
    "# but\n",
    "string2 = 'a123'\n",
    "string2.isalnum()    # True\n"
   ]
  },
  {
   "cell_type": "code",
   "execution_count": 398,
   "id": "a56bb80a-1840-4971-8cc3-2de2d7867009",
   "metadata": {},
   "outputs": [
    {
     "data": {
      "text/plain": [
       "['', '', '', '', 'Hi how', '', '', ' ,are you', '', '', '']"
      ]
     },
     "execution_count": 398,
     "metadata": {},
     "output_type": "execute_result"
    }
   ],
   "source": [
    "# split\n",
    "string1 = \"%%%%Hi how%%% ,are you%%%\"\n",
    "string1.split()\n",
    "string1.split(\",\")\n",
    "string1.split(\"%\")\n"
   ]
  },
  {
   "cell_type": "code",
   "execution_count": null,
   "id": "b3cc97b1-e687-44ec-af4f-81be3677c555",
   "metadata": {},
   "outputs": [],
   "source": [
    "# capitalize/upper/lower/casefold\n",
    "# idex/find\n",
    "# count\n",
    "# replace\n",
    "# lstrip/rstrip/strip\n",
    "# startwith/startsend\n",
    "# isalpha/isnumeric/isalnum\n",
    "# split"
   ]
  },
  {
   "cell_type": "code",
   "execution_count": null,
   "id": "50b5dc5f-8fd1-4891-b861-41579e9729a7",
   "metadata": {},
   "outputs": [],
   "source": [
    "# WAP to identify the longest word and shortest word in a given sentence \n",
    "\n",
    "# WAP to identify the most repeated word in a given sentence \n",
    "\n",
    "# WAP out of 3 strings 'hyd', 'blr', 'mumbai' which is greater and which is lower"
   ]
  },
  {
   "cell_type": "code",
   "execution_count": 1,
   "id": "e144559a-7ba1-4110-8e49-9ec86e12baac",
   "metadata": {},
   "outputs": [],
   "source": [
    "# List =====> array of elements\n",
    "# Lecture 27&29\n",
    "\n",
    "\n",
    "string1 = 'python'\n"
   ]
  },
  {
   "cell_type": "code",
   "execution_count": 3,
   "id": "4ce9db2f-6d1b-4b51-8bc5-90aa0da2ef86",
   "metadata": {},
   "outputs": [
    {
     "data": {
      "text/plain": [
       "[1, 2, 3, 4]"
      ]
     },
     "execution_count": 3,
     "metadata": {},
     "output_type": "execute_result"
    }
   ],
   "source": [
    "list1 = [1,2,3,4]\n",
    "list1"
   ]
  },
  {
   "cell_type": "code",
   "execution_count": 5,
   "id": "9ce8b410-ff37-4041-9a44-1634bb456699",
   "metadata": {},
   "outputs": [
    {
     "data": {
      "text/plain": [
       "['A', 'B', 'C', 'D']"
      ]
     },
     "execution_count": 5,
     "metadata": {},
     "output_type": "execute_result"
    }
   ],
   "source": [
    "list2 = ['A','B','C','D']\n",
    "list2"
   ]
  },
  {
   "cell_type": "code",
   "execution_count": 7,
   "id": "80abc7f7-5011-4271-81cc-5f5aa90b7310",
   "metadata": {},
   "outputs": [
    {
     "data": {
      "text/plain": [
       "[1, 2, 3, 4, 'A', 'B', 'C', 'D']"
      ]
     },
     "execution_count": 7,
     "metadata": {},
     "output_type": "execute_result"
    }
   ],
   "source": [
    "list3 = [1,2,3,4,'A','B','C','D']\n",
    "list3"
   ]
  },
  {
   "cell_type": "code",
   "execution_count": null,
   "id": "412a7f64-5147-4c00-bf9a-f81864ef822a",
   "metadata": {},
   "outputs": [],
   "source": [
    "# list elements are heterogeneous datatypes are allowed"
   ]
  },
  {
   "cell_type": "code",
   "execution_count": 9,
   "id": "30557838-b465-462a-8e89-d861e7fa8ddf",
   "metadata": {},
   "outputs": [
    {
     "data": {
      "text/plain": [
       "[1, 'apple', 10.5, (10+20j), True]"
      ]
     },
     "execution_count": 9,
     "metadata": {},
     "output_type": "execute_result"
    }
   ],
   "source": [
    "list4 = [1,\"apple\", 10.5, 10+20j, True]\n",
    "list4"
   ]
  },
  {
   "cell_type": "code",
   "execution_count": 11,
   "id": "ae972c83-2132-4022-915d-f5ae537c5c98",
   "metadata": {},
   "outputs": [
    {
     "data": {
      "text/plain": [
       "[100, 100, 100]"
      ]
     },
     "execution_count": 11,
     "metadata": {},
     "output_type": "execute_result"
    }
   ],
   "source": [
    "list5 = [100,100,100]\n",
    "list5\n"
   ]
  },
  {
   "cell_type": "code",
   "execution_count": 13,
   "id": "59c57b5e-5b08-4bfe-99d9-c928c8317adc",
   "metadata": {},
   "outputs": [
    {
     "data": {
      "text/plain": [
       "[[1, 2, 3, 4]]"
      ]
     },
     "execution_count": 13,
     "metadata": {},
     "output_type": "execute_result"
    }
   ],
   "source": [
    "list6 = [[1,2,3,4]]\n",
    "list6\n"
   ]
  },
  {
   "cell_type": "code",
   "execution_count": null,
   "id": "1eaa721d-aa11-44b1-9554-5d76b8f5bfc3",
   "metadata": {},
   "outputs": [],
   "source": [
    "# list is an array of elements \n",
    "# list elements heterogeneous(different) data types are allowed\n",
    "# duplicates are allowed\n",
    "# list in list also works"
   ]
  },
  {
   "cell_type": "code",
   "execution_count": 15,
   "id": "614ab182-4882-4b71-a06f-1f26817d4efb",
   "metadata": {},
   "outputs": [
    {
     "data": {
      "text/plain": [
       "list"
      ]
     },
     "execution_count": 15,
     "metadata": {},
     "output_type": "execute_result"
    }
   ],
   "source": [
    "type(list3)"
   ]
  },
  {
   "cell_type": "code",
   "execution_count": 19,
   "id": "e93f6abe-739d-4646-a162-fcc4142536d1",
   "metadata": {},
   "outputs": [
    {
     "data": {
      "text/plain": [
       "4"
      ]
     },
     "execution_count": 19,
     "metadata": {},
     "output_type": "execute_result"
    }
   ],
   "source": [
    "max(list1)\n"
   ]
  },
  {
   "cell_type": "code",
   "execution_count": 21,
   "id": "ec5b5de4-ccff-4be9-a696-8b76ee38d00d",
   "metadata": {},
   "outputs": [
    {
     "data": {
      "text/plain": [
       "'D'"
      ]
     },
     "execution_count": 21,
     "metadata": {},
     "output_type": "execute_result"
    }
   ],
   "source": [
    "max(list2)\n",
    "# ascii ord"
   ]
  },
  {
   "cell_type": "code",
   "execution_count": 25,
   "id": "d308a4ef-fd8e-47b2-8d10-6c81d660667f",
   "metadata": {},
   "outputs": [
    {
     "ename": "TypeError",
     "evalue": "'>' not supported between instances of 'str' and 'int'",
     "output_type": "error",
     "traceback": [
      "\u001b[0;31m---------------------------------------------------------------------------\u001b[0m",
      "\u001b[0;31mTypeError\u001b[0m                                 Traceback (most recent call last)",
      "Cell \u001b[0;32mIn[25], line 1\u001b[0m\n\u001b[0;32m----> 1\u001b[0m \u001b[38;5;28mmax\u001b[39m(list3)\n",
      "\u001b[0;31mTypeError\u001b[0m: '>' not supported between instances of 'str' and 'int'"
     ]
    }
   ],
   "source": [
    "max(list3)   # '>' not supported between instances of 'str' and 'int'"
   ]
  },
  {
   "cell_type": "code",
   "execution_count": 41,
   "id": "8b94d18e-dd79-4acf-99c2-8b7ea815e63c",
   "metadata": {},
   "outputs": [
    {
     "data": {
      "text/plain": [
       "1"
      ]
     },
     "execution_count": 41,
     "metadata": {},
     "output_type": "execute_result"
    }
   ],
   "source": [
    "min(list1)"
   ]
  },
  {
   "cell_type": "code",
   "execution_count": 43,
   "id": "84aa8113-a304-47aa-8425-7a7dcd903deb",
   "metadata": {},
   "outputs": [
    {
     "data": {
      "text/plain": [
       "'A'"
      ]
     },
     "execution_count": 43,
     "metadata": {},
     "output_type": "execute_result"
    }
   ],
   "source": [
    "min(list2)"
   ]
  },
  {
   "cell_type": "code",
   "execution_count": 45,
   "id": "571deb69-5850-4516-8e46-c5277f8ecc7d",
   "metadata": {},
   "outputs": [
    {
     "ename": "TypeError",
     "evalue": "'<' not supported between instances of 'str' and 'int'",
     "output_type": "error",
     "traceback": [
      "\u001b[0;31m---------------------------------------------------------------------------\u001b[0m",
      "\u001b[0;31mTypeError\u001b[0m                                 Traceback (most recent call last)",
      "Cell \u001b[0;32mIn[45], line 1\u001b[0m\n\u001b[0;32m----> 1\u001b[0m \u001b[38;5;28mmin\u001b[39m(list3)\n",
      "\u001b[0;31mTypeError\u001b[0m: '<' not supported between instances of 'str' and 'int'"
     ]
    }
   ],
   "source": [
    "min(list3)"
   ]
  },
  {
   "cell_type": "code",
   "execution_count": 49,
   "id": "35b52d2a-ad21-4585-afee-d7c563186b76",
   "metadata": {},
   "outputs": [
    {
     "name": "stdout",
     "output_type": "stream",
     "text": [
      "4\n"
     ]
    }
   ],
   "source": [
    "print(len(list1))  # 4"
   ]
  },
  {
   "cell_type": "code",
   "execution_count": 51,
   "id": "99837413-2ad4-4273-840f-3dccc85067e7",
   "metadata": {},
   "outputs": [
    {
     "name": "stdout",
     "output_type": "stream",
     "text": [
      "4\n"
     ]
    }
   ],
   "source": [
    "print(len(list2))  # 4"
   ]
  },
  {
   "cell_type": "code",
   "execution_count": 53,
   "id": "b654a99a-ef94-4197-8bcc-1dae10d2a6e6",
   "metadata": {},
   "outputs": [
    {
     "name": "stdout",
     "output_type": "stream",
     "text": [
      "8\n"
     ]
    }
   ],
   "source": [
    "print(len(list3))  # 8"
   ]
  },
  {
   "cell_type": "code",
   "execution_count": 57,
   "id": "33d1d631-dd7e-491f-9759-ca3b02531bf4",
   "metadata": {},
   "outputs": [
    {
     "name": "stdout",
     "output_type": "stream",
     "text": [
      "10\n"
     ]
    }
   ],
   "source": [
    "print(sum(list1))\n",
    "# print(sum(list2))  # only maths works no str"
   ]
  },
  {
   "cell_type": "code",
   "execution_count": 63,
   "id": "5032dea1-d948-476c-8942-6832100b4bd3",
   "metadata": {},
   "outputs": [
    {
     "name": "stdout",
     "output_type": "stream",
     "text": [
      "1\n",
      "2\n",
      "3\n",
      "4\n"
     ]
    }
   ],
   "source": [
    "# in\n",
    "\n",
    "1 in list1\n",
    "2 in list1\n",
    "3 in list1\n",
    "4 in list1\n",
    "\n",
    "\n",
    "5 in list1   # false\n",
    "\n",
    "# using for loop\n",
    "for i in list1:\n",
    "    print(i)"
   ]
  },
  {
   "cell_type": "code",
   "execution_count": 67,
   "id": "e7d581a1-10df-4925-8d46-e886d5bd874c",
   "metadata": {},
   "outputs": [
    {
     "name": "stdout",
     "output_type": "stream",
     "text": [
      "[1, 2, 3, 4, 'A', 'B', 'C', 'D']\n"
     ]
    }
   ],
   "source": [
    "# concatenation\n",
    "\n",
    "print(list1 + list2)"
   ]
  },
  {
   "cell_type": "code",
   "execution_count": 69,
   "id": "8a8bca48-83a3-4b2b-a404-9a8d16bb9552",
   "metadata": {},
   "outputs": [
    {
     "name": "stdout",
     "output_type": "stream",
     "text": [
      "['A', 'B', 'C', 'D', 1, 2, 3, 4]\n"
     ]
    }
   ],
   "source": [
    "new_list = list2 + list1\n",
    "print(new_list)"
   ]
  },
  {
   "cell_type": "code",
   "execution_count": 73,
   "id": "644f4d18-f19e-4d31-93a3-d6f506a62228",
   "metadata": {},
   "outputs": [
    {
     "ename": "TypeError",
     "evalue": "unsupported operand type(s) for /: 'list' and 'list'",
     "output_type": "error",
     "traceback": [
      "\u001b[0;31m---------------------------------------------------------------------------\u001b[0m",
      "\u001b[0;31mTypeError\u001b[0m                                 Traceback (most recent call last)",
      "Cell \u001b[0;32mIn[73], line 1\u001b[0m\n\u001b[0;32m----> 1\u001b[0m list1\u001b[38;5;241m/\u001b[39mlist2\n\u001b[1;32m      2\u001b[0m list1\u001b[38;5;241m*\u001b[39mlist2\n\u001b[1;32m      3\u001b[0m list1\u001b[38;5;241m+\u001b[39mlist2\n",
      "\u001b[0;31mTypeError\u001b[0m: unsupported operand type(s) for /: 'list' and 'list'"
     ]
    }
   ],
   "source": [
    "list1/list2\n",
    "list1*list2\n",
    "list1+ list2\n",
    "\n",
    "# unsupported operand type(s) for /: 'list' and 'list'"
   ]
  },
  {
   "cell_type": "code",
   "execution_count": 75,
   "id": "1bc25408-116c-4f60-b00a-c5fae7f7da78",
   "metadata": {},
   "outputs": [
    {
     "data": {
      "text/plain": [
       "[1, 2, 3, 4, 'A', 'B', 'C', 'D']"
      ]
     },
     "execution_count": 75,
     "metadata": {},
     "output_type": "execute_result"
    }
   ],
   "source": [
    "# index operation\n",
    "list3"
   ]
  },
  {
   "cell_type": "code",
   "execution_count": 83,
   "id": "f0f27859-fb42-464b-83f6-e137c7f00631",
   "metadata": {},
   "outputs": [
    {
     "data": {
      "text/plain": [
       "(1, 2, 3, 4)"
      ]
     },
     "execution_count": 83,
     "metadata": {},
     "output_type": "execute_result"
    }
   ],
   "source": [
    "# python index start with zero\n",
    "list3[0],list3[1],list3[2],list3[3]\n",
    "\n",
    "\n",
    "# list3[i]\n",
    "# i = 0,1,2,3"
   ]
  },
  {
   "cell_type": "code",
   "execution_count": 87,
   "id": "0adf5d87-0f53-4e7f-a111-badfb645a573",
   "metadata": {},
   "outputs": [
    {
     "name": "stdout",
     "output_type": "stream",
     "text": [
      "Positive index is: 0 and negative index is -8: for an element 1\n",
      "Positive index is: 1 and negative index is -7: for an element 2\n",
      "Positive index is: 2 and negative index is -6: for an element 3\n",
      "Positive index is: 3 and negative index is -5: for an element 4\n",
      "Positive index is: 4 and negative index is -4: for an element A\n",
      "Positive index is: 5 and negative index is -3: for an element B\n",
      "Positive index is: 6 and negative index is -2: for an element C\n",
      "Positive index is: 7 and negative index is -1: for an element D\n"
     ]
    }
   ],
   "source": [
    "for i in range(len(list3)):\n",
    "    print(\"Positive index is: {} and negative index is {}: for an element\".format(i,i-len(list3)),list3[i])"
   ]
  },
  {
   "cell_type": "code",
   "execution_count": 95,
   "id": "bbe53302-6d33-4eff-b753-cee510a3c416",
   "metadata": {},
   "outputs": [
    {
     "name": "stdout",
     "output_type": "stream",
     "text": [
      "Ab\n",
      "Cd\n",
      "Ef\n"
     ]
    }
   ],
   "source": [
    "# WAP find the elements which are having len<3\n",
    "\n",
    "list9 = [\"Apple\", \"Ball\", \"Cat\", \"Ab\", \"Cd\", \"Ef\"]\n",
    "for i in range(len(list9)):\n",
    "    if len(list9[i])<3:\n",
    "        print(list9[i])"
   ]
  },
  {
   "cell_type": "code",
   "execution_count": 97,
   "id": "99b76261-7d36-4117-b8e5-1f9bb79aaf9c",
   "metadata": {},
   "outputs": [
    {
     "name": "stdout",
     "output_type": "stream",
     "text": [
      "Ab\n",
      "Cd\n",
      "Ef\n"
     ]
    }
   ],
   "source": [
    "for i in list9:\n",
    "    if len(i) < 3:\n",
    "        print(i)"
   ]
  },
  {
   "cell_type": "code",
   "execution_count": 101,
   "id": "56b3746b-2e71-46be-8431-cc28043251a0",
   "metadata": {},
   "outputs": [
    {
     "name": "stdout",
     "output_type": "stream",
     "text": [
      "App#le\n",
      "Ba#ll\n",
      "C#at\n",
      "3\n"
     ]
    }
   ],
   "source": [
    "# WAP find the elements which are having #\n",
    "\n",
    "list7 = [\"App#le\", \"Ba#ll\", \"C#at\", \"Ab\", \"Cd\", \"Ef\"]\n",
    "count = 0\n",
    "for i in list7:\n",
    "    if '#' in i:\n",
    "        count+=1\n",
    "        print(i)\n",
    "print(count)"
   ]
  },
  {
   "cell_type": "code",
   "execution_count": 107,
   "id": "32aa14f6-6caf-4c83-b2e0-cc0173c23f30",
   "metadata": {},
   "outputs": [
    {
     "data": {
      "text/plain": [
       "'Ball'"
      ]
     },
     "execution_count": 107,
     "metadata": {},
     "output_type": "execute_result"
    }
   ],
   "source": [
    "list1 = [1,2,3, [\"Apple\", \"Ball\"]]\n",
    "# retrive ball using index\n",
    "list1[3][1]"
   ]
  },
  {
   "cell_type": "code",
   "execution_count": 111,
   "id": "e3b4c80d-ddcb-4a7b-9b09-3fe0cb02f3d1",
   "metadata": {},
   "outputs": [
    {
     "data": {
      "text/plain": [
       "'Cherry'"
      ]
     },
     "execution_count": 111,
     "metadata": {},
     "output_type": "execute_result"
    }
   ],
   "source": [
    "list2 = [[[[[[['Cherry']]]]]]]\n",
    "list2[0][0][0][0][0][0][0]"
   ]
  },
  {
   "cell_type": "code",
   "execution_count": 115,
   "id": "b70ce7d9-fe10-4a68-b68b-0b1e7d7d886b",
   "metadata": {},
   "outputs": [
    {
     "data": {
      "text/plain": [
       "'Car'"
      ]
     },
     "execution_count": 115,
     "metadata": {},
     "output_type": "execute_result"
    }
   ],
   "source": [
    "list3 = [[[[\"A\",\"B\",[[[1,2,3,['Car']]]]]]]]\n",
    "list3[0][0][0][2][0][0][3][0]"
   ]
  },
  {
   "cell_type": "code",
   "execution_count": 117,
   "id": "27dd3644-56c7-4a99-870a-17b48a3839d2",
   "metadata": {},
   "outputs": [
    {
     "ename": "TypeError",
     "evalue": "'str' object does not support item assignment",
     "output_type": "error",
     "traceback": [
      "\u001b[0;31m---------------------------------------------------------------------------\u001b[0m",
      "\u001b[0;31mTypeError\u001b[0m                                 Traceback (most recent call last)",
      "Cell \u001b[0;32mIn[117], line 4\u001b[0m\n\u001b[1;32m      1\u001b[0m \u001b[38;5;66;03m# mutable or immutable\u001b[39;00m\n\u001b[1;32m      3\u001b[0m string1 \u001b[38;5;241m=\u001b[39m \u001b[38;5;124m'\u001b[39m\u001b[38;5;124mwelcome\u001b[39m\u001b[38;5;124m'\u001b[39m\n\u001b[0;32m----> 4\u001b[0m string1[\u001b[38;5;241m2\u001b[39m] \u001b[38;5;241m=\u001b[39m \u001b[38;5;124m'\u001b[39m\u001b[38;5;124mL\u001b[39m\u001b[38;5;124m'\u001b[39m\n",
      "\u001b[0;31mTypeError\u001b[0m: 'str' object does not support item assignment"
     ]
    }
   ],
   "source": [
    "# mutable or immutable\n",
    "\n",
    "string1 = 'welcome'\n",
    "string1[2] = 'L'\n"
   ]
  },
  {
   "cell_type": "code",
   "execution_count": 119,
   "id": "ad079448-1f91-4026-a31e-70c156af7a59",
   "metadata": {},
   "outputs": [
    {
     "data": {
      "text/plain": [
       "[100, 'B', 'C']"
      ]
     },
     "execution_count": 119,
     "metadata": {},
     "output_type": "execute_result"
    }
   ],
   "source": [
    "list1 = ['A','B','C']\n",
    "list1[0] = 100\n",
    "list1"
   ]
  },
  {
   "cell_type": "code",
   "execution_count": 145,
   "id": "814ed111-d51c-4669-861f-4856830691ea",
   "metadata": {},
   "outputs": [
    {
     "name": "stdout",
     "output_type": "stream",
     "text": [
      "[3, 'P', 'H', 'a']\n",
      "[]\n",
      "[]\n",
      "[3]\n",
      "['c']\n",
      "['c']\n",
      "['c', 'N', 'T', 5]\n",
      "[]\n"
     ]
    }
   ],
   "source": [
    "list1 = [1,2,3,4,5,'P','Y','T','H','O','N','a','b','c',\"D\"]\n",
    "print(list1[2:14:3])  #p\n",
    "print(list1[2:14:-3]) #np\n",
    "print(list1[2:-14:3])  #np\n",
    "print(list1[2:-14:-3]) #p\n",
    "print(list1[-2:14:3])  #p\n",
    "print(list1[-2:14:3])  #np\n",
    "print(list1[-2:-14:-3] ) #p\n",
    "print(list1[-2:14:-3])  #np\n"
   ]
  },
  {
   "cell_type": "code",
   "execution_count": 147,
   "id": "b4289794-234c-4376-a754-5cd48e61ed20",
   "metadata": {},
   "outputs": [
    {
     "data": {
      "text/plain": [
       "['__add__',\n",
       " '__class__',\n",
       " '__class_getitem__',\n",
       " '__contains__',\n",
       " '__delattr__',\n",
       " '__delitem__',\n",
       " '__dir__',\n",
       " '__doc__',\n",
       " '__eq__',\n",
       " '__format__',\n",
       " '__ge__',\n",
       " '__getattribute__',\n",
       " '__getitem__',\n",
       " '__getstate__',\n",
       " '__gt__',\n",
       " '__hash__',\n",
       " '__iadd__',\n",
       " '__imul__',\n",
       " '__init__',\n",
       " '__init_subclass__',\n",
       " '__iter__',\n",
       " '__le__',\n",
       " '__len__',\n",
       " '__lt__',\n",
       " '__mul__',\n",
       " '__ne__',\n",
       " '__new__',\n",
       " '__reduce__',\n",
       " '__reduce_ex__',\n",
       " '__repr__',\n",
       " '__reversed__',\n",
       " '__rmul__',\n",
       " '__setattr__',\n",
       " '__setitem__',\n",
       " '__sizeof__',\n",
       " '__str__',\n",
       " '__subclasshook__',\n",
       " 'append',\n",
       " 'clear',\n",
       " 'copy',\n",
       " 'count',\n",
       " 'extend',\n",
       " 'index',\n",
       " 'insert',\n",
       " 'pop',\n",
       " 'remove',\n",
       " 'reverse',\n",
       " 'sort']"
      ]
     },
     "execution_count": 147,
     "metadata": {},
     "output_type": "execute_result"
    }
   ],
   "source": [
    "# methods in list\n",
    "\n",
    "dir(list)"
   ]
  },
  {
   "cell_type": "code",
   "execution_count": 153,
   "id": "afe2705d-9ea7-477a-bddf-a03f9257e9df",
   "metadata": {},
   "outputs": [
    {
     "name": "stdout",
     "output_type": "stream",
     "text": [
      "list1: []\n",
      "list2: [1, 2, 3, 4, 5, 'P', 'Y', 'T', 'H', 'O', 'N', 'a', 'b', 'c', 'D']\n"
     ]
    }
   ],
   "source": [
    "# $clear-copy$\n",
    "list2 = list1.copy()\n",
    "list2\n",
    "list1.clear()\n",
    "print('list1:', list1)\n",
    "print('list2:', list2)"
   ]
  },
  {
   "cell_type": "code",
   "execution_count": 157,
   "id": "568dcd62-5ec7-45db-b7a2-2607251c4fe8",
   "metadata": {},
   "outputs": [
    {
     "name": "stdout",
     "output_type": "stream",
     "text": [
      "[100, 200, 300]\n"
     ]
    }
   ],
   "source": [
    "# append == > add something to the end of \n",
    "\n",
    "\n",
    "list1 = [100,200]\n",
    "list1.append(300)\n",
    "print(list1)"
   ]
  },
  {
   "cell_type": "code",
   "execution_count": 161,
   "id": "5e5f0a7b-cf62-4b41-956d-c352c5297bb1",
   "metadata": {},
   "outputs": [
    {
     "name": "stdout",
     "output_type": "stream",
     "text": [
      "[100, 200, 300]\n"
     ]
    }
   ],
   "source": [
    "list1 = []\n",
    "list1.append(100)\n",
    "list1.append(200)\n",
    "list1.append(300)\n",
    "print(list1)"
   ]
  },
  {
   "cell_type": "code",
   "execution_count": 163,
   "id": "ec2f7dad-ef2e-46e9-8412-b3dfd4d5ac06",
   "metadata": {},
   "outputs": [
    {
     "ename": "TypeError",
     "evalue": "list.append() takes exactly one argument (2 given)",
     "output_type": "error",
     "traceback": [
      "\u001b[0;31m---------------------------------------------------------------------------\u001b[0m",
      "\u001b[0;31mTypeError\u001b[0m                                 Traceback (most recent call last)",
      "Cell \u001b[0;32mIn[163], line 1\u001b[0m\n\u001b[0;32m----> 1\u001b[0m list1\u001b[38;5;241m.\u001b[39mappend(\u001b[38;5;241m100\u001b[39m,\u001b[38;5;241m500\u001b[39m)\n",
      "\u001b[0;31mTypeError\u001b[0m: list.append() takes exactly one argument (2 given)"
     ]
    }
   ],
   "source": [
    "list1.append(100,500)"
   ]
  },
  {
   "cell_type": "code",
   "execution_count": 167,
   "id": "8ee1dd4c-2684-4831-926c-8b2dc40f4e83",
   "metadata": {},
   "outputs": [
    {
     "name": "stdout",
     "output_type": "stream",
     "text": [
      "[100, 200, 300, [100, 200], 'apple', [100, 200], 'apple']\n"
     ]
    }
   ],
   "source": [
    "list1.append([100,200])\n",
    "list1.append('apple')\n",
    "print(list1)"
   ]
  },
  {
   "cell_type": "code",
   "execution_count": 169,
   "id": "2d2065ac-586a-4733-aa01-4f9899fb83e8",
   "metadata": {},
   "outputs": [
    {
     "name": "stdout",
     "output_type": "stream",
     "text": [
      "1\n",
      "4\n",
      "9\n",
      "16\n",
      "25\n"
     ]
    }
   ],
   "source": [
    "list11 = [1,2,3,4,5]\n",
    "for i in list11: \n",
    "    print(i*i)"
   ]
  },
  {
   "cell_type": "code",
   "execution_count": 171,
   "id": "74be2f1c-a5ef-4de5-84bf-1a9ee11f06fe",
   "metadata": {},
   "outputs": [
    {
     "data": {
      "text/plain": [
       "[1, 4, 9, 16, 25]"
      ]
     },
     "execution_count": 171,
     "metadata": {},
     "output_type": "execute_result"
    }
   ],
   "source": [
    "# To save the values\n",
    "list22 = [1,2,3,4,5]\n",
    "output = []\n",
    "for i in list22:\n",
    "    output.append(i*i)\n",
    "\n",
    "output"
   ]
  },
  {
   "cell_type": "code",
   "execution_count": 208,
   "id": "8d12f0f2-1a73-429a-ab89-c1de379a38fb",
   "metadata": {},
   "outputs": [
    {
     "data": {
      "text/plain": [
       "['__add__',\n",
       " '__class__',\n",
       " '__contains__',\n",
       " '__delattr__',\n",
       " '__dir__',\n",
       " '__doc__',\n",
       " '__eq__',\n",
       " '__format__',\n",
       " '__ge__',\n",
       " '__getattribute__',\n",
       " '__getitem__',\n",
       " '__getnewargs__',\n",
       " '__getstate__',\n",
       " '__gt__',\n",
       " '__hash__',\n",
       " '__init__',\n",
       " '__init_subclass__',\n",
       " '__iter__',\n",
       " '__le__',\n",
       " '__len__',\n",
       " '__lt__',\n",
       " '__mod__',\n",
       " '__mul__',\n",
       " '__ne__',\n",
       " '__new__',\n",
       " '__reduce__',\n",
       " '__reduce_ex__',\n",
       " '__repr__',\n",
       " '__rmod__',\n",
       " '__rmul__',\n",
       " '__setattr__',\n",
       " '__sizeof__',\n",
       " '__str__',\n",
       " '__subclasshook__',\n",
       " 'capitalize',\n",
       " 'casefold',\n",
       " 'center',\n",
       " 'count',\n",
       " 'encode',\n",
       " 'endswith',\n",
       " 'expandtabs',\n",
       " 'find',\n",
       " 'format',\n",
       " 'format_map',\n",
       " 'index',\n",
       " 'isalnum',\n",
       " 'isalpha',\n",
       " 'isascii',\n",
       " 'isdecimal',\n",
       " 'isdigit',\n",
       " 'isidentifier',\n",
       " 'islower',\n",
       " 'isnumeric',\n",
       " 'isprintable',\n",
       " 'isspace',\n",
       " 'istitle',\n",
       " 'isupper',\n",
       " 'join',\n",
       " 'ljust',\n",
       " 'lower',\n",
       " 'lstrip',\n",
       " 'maketrans',\n",
       " 'partition',\n",
       " 'removeprefix',\n",
       " 'removesuffix',\n",
       " 'replace',\n",
       " 'rfind',\n",
       " 'rindex',\n",
       " 'rjust',\n",
       " 'rpartition',\n",
       " 'rsplit',\n",
       " 'rstrip',\n",
       " 'split',\n",
       " 'splitlines',\n",
       " 'startswith',\n",
       " 'strip',\n",
       " 'swapcase',\n",
       " 'title',\n",
       " 'translate',\n",
       " 'upper',\n",
       " 'zfill']"
      ]
     },
     "execution_count": 208,
     "metadata": {},
     "output_type": "execute_result"
    }
   ],
   "source": [
    "dir(str)"
   ]
  },
  {
   "cell_type": "code",
   "execution_count": 226,
   "id": "623164e4-bd42-4bfc-9844-ba037e629e69",
   "metadata": {},
   "outputs": [
    {
     "name": "stdout",
     "output_type": "stream",
     "text": [
      "Hydrabad\n",
      "Benguluru\n",
      "Delhi\n"
     ]
    }
   ],
   "source": [
    "\n",
    "list2 = [\"hydrabad\",\"benguluru\",\"delhi\"]\n",
    "\n",
    "for i in list2:\n",
    "    print(i.capitalize())\n",
    " "
   ]
  },
  {
   "cell_type": "code",
   "execution_count": 228,
   "id": "4f755270-56cd-43ea-8f32-5fa60436130d",
   "metadata": {},
   "outputs": [
    {
     "data": {
      "text/plain": [
       "['h#d', 'bengu#luru']"
      ]
     },
     "execution_count": 228,
     "metadata": {},
     "output_type": "execute_result"
    }
   ],
   "source": [
    "output = []\n",
    "list3 = ['h#d','bengu#luru','delhi']\n",
    "for i in list3:\n",
    "    if '#' in i:\n",
    "        output.append(i)\n",
    "output"
   ]
  },
  {
   "cell_type": "code",
   "execution_count": 236,
   "id": "876d7605-22fa-43ad-bbf3-16036e4f00a4",
   "metadata": {},
   "outputs": [
    {
     "name": "stdout",
     "output_type": "stream",
     "text": [
      "[1, 4, 9, 16, 25]\n"
     ]
    }
   ],
   "source": [
    "# list comprehension\n",
    "\n",
    "# code in a single line ==== > speed the process\n",
    "list111 = [1,2,3,4,5]\n",
    "output1 = [i*i for i in list111]\n",
    "print(output1)"
   ]
  },
  {
   "cell_type": "code",
   "execution_count": 238,
   "id": "598019dc-81f9-4e6a-a8c6-7fd666889316",
   "metadata": {},
   "outputs": [
    {
     "data": {
      "text/plain": [
       "['Hydrabad', 'Benguluru', 'Delhi']"
      ]
     },
     "execution_count": 238,
     "metadata": {},
     "output_type": "execute_result"
    }
   ],
   "source": [
    "output11 = [i.capitalize() for i in list2]\n",
    "output11"
   ]
  },
  {
   "cell_type": "code",
   "execution_count": 246,
   "id": "eafb4626-50ec-4f7b-8f35-40d3e4044ff6",
   "metadata": {},
   "outputs": [
    {
     "data": {
      "text/plain": [
       "[1, 2, 3, 4, 5, 6, 7, 8, 9, 10, 11, 12, 13, 14, 15, 16, 17, 18, 19, 20]"
      ]
     },
     "execution_count": 246,
     "metadata": {},
     "output_type": "execute_result"
    }
   ],
   "source": [
    "# create a list of 20 numbers from 1 to 20\n",
    "############################ M-1\n",
    "numbers = []\n",
    "for i in range(1,21):\n",
    "    numbers.append(i)\n",
    "numbers\n",
    "########################### M-2\n",
    "\n",
    "opt = [i for i in range(1,21)]\n",
    "opt"
   ]
  },
  {
   "cell_type": "code",
   "execution_count": 3,
   "id": "9e798d2c-ad65-46b5-9a26-7b90be957ee5",
   "metadata": {},
   "outputs": [
    {
     "data": {
      "text/plain": [
       "['hb#d', 'de#hli']"
      ]
     },
     "execution_count": 3,
     "metadata": {},
     "output_type": "execute_result"
    }
   ],
   "source": [
    "# list comprehension with if conditions\n",
    "\n",
    "list111 = ['hb#d', 'benguluru', 'de#hli']\n",
    "output1 = [i for i in list111 if '#' in i]\n",
    "output1"
   ]
  },
  {
   "cell_type": "code",
   "execution_count": 5,
   "id": "57ccf668-35af-43d2-8b33-9fb24479ccaf",
   "metadata": {},
   "outputs": [
    {
     "data": {
      "text/plain": [
       "['ac', 'a']"
      ]
     },
     "execution_count": 5,
     "metadata": {},
     "output_type": "execute_result"
    }
   ],
   "source": [
    "list4 = ['abcd','abc','ac','a']\n",
    "# elements less than 3\n",
    "# ['ac','a']\n",
    "\n",
    "output = [i for i in list4 if len(i)<3]\n",
    "output\n"
   ]
  },
  {
   "cell_type": "code",
   "execution_count": 17,
   "id": "57c6689d-d550-4051-b123-19aef48b5c9e",
   "metadata": {},
   "outputs": [
    {
     "data": {
      "text/plain": [
       "['odd:1', 'even:2', 'odd:3', 'even:4', 'odd:5', 'even:6']"
      ]
     },
     "execution_count": 17,
     "metadata": {},
     "output_type": "execute_result"
    }
   ],
   "source": [
    "# if else\n",
    "list1 = [1,2,3,4,5,6]\n",
    "outp=[]\n",
    "for i in list1:\n",
    "    if i%2 == 0:\n",
    "        outp.append(f'even:{i}')\n",
    "    else:\n",
    "        outp.append(f'odd:{i}')\n",
    "outp"
   ]
  },
  {
   "cell_type": "code",
   "execution_count": 23,
   "id": "441dafd0-91a0-439c-9450-b4c251d794cb",
   "metadata": {},
   "outputs": [
    {
     "data": {
      "text/plain": [
       "['odd:1', 'even:2', 'odd:3', 'even:4', 'odd:5', 'even:6']"
      ]
     },
     "execution_count": 23,
     "metadata": {},
     "output_type": "execute_result"
    }
   ],
   "source": [
    "[f'even:{i}' if i%2 == 0 else f'odd:{i}' for i in list1]"
   ]
  },
  {
   "cell_type": "code",
   "execution_count": 27,
   "id": "8d33c015-9b75-4a76-b67f-b34eccb8afdd",
   "metadata": {},
   "outputs": [
    {
     "data": {
      "text/plain": [
       "3"
      ]
     },
     "execution_count": 27,
     "metadata": {},
     "output_type": "execute_result"
    }
   ],
   "source": [
    "list2 = [1,2,3,'A','B','B','B','C']\n",
    "list2.count('B')"
   ]
  },
  {
   "cell_type": "code",
   "execution_count": 33,
   "id": "5c142ea7-bcd3-45c0-9aa8-e99732c85127",
   "metadata": {},
   "outputs": [
    {
     "data": {
      "text/plain": [
       "['A', 'B', 'C', 'D', 1, 2, 3]"
      ]
     },
     "execution_count": 33,
     "metadata": {},
     "output_type": "execute_result"
    }
   ],
   "source": [
    "# Extend\n",
    "\n",
    "list1 = [\"A\",\"B\",\"C\",\"D\"]\n",
    "list2 = [1,2,3]\n",
    "list1.extend(list2)\n",
    "list1\n",
    "# here list1 will be updated with list2 values"
   ]
  },
  {
   "cell_type": "code",
   "execution_count": 37,
   "id": "2501b842-037e-4f43-bc4b-0254e482bb1d",
   "metadata": {},
   "outputs": [
    {
     "data": {
      "text/plain": [
       "['A', 'B', 'C', 'D', 1, 2, 3, 1, 2, 3]"
      ]
     },
     "execution_count": 37,
     "metadata": {},
     "output_type": "execute_result"
    }
   ],
   "source": [
    "l= list1+list2\n",
    "l"
   ]
  },
  {
   "cell_type": "code",
   "execution_count": 41,
   "id": "1226b6cc-cbe0-4772-938e-3bfea9a1499d",
   "metadata": {},
   "outputs": [
    {
     "data": {
      "text/plain": [
       "['A', 'B', 'C', 'D', [1, 2, 3]]"
      ]
     },
     "execution_count": 41,
     "metadata": {},
     "output_type": "execute_result"
    }
   ],
   "source": [
    "list1 = [\"A\",\"B\",\"C\",\"D\"]\n",
    "list2 = [1,2,3]\n",
    "list1.append(list2)  # Output : ['A', 'B', 'C', 'D', [1, 2, 3]]\n",
    "list1"
   ]
  },
  {
   "cell_type": "markdown",
   "id": "df7d7447-b700-4fbe-a0e6-e9c5c492601a",
   "metadata": {},
   "source": [
    "- append will add the element at last, that the element can be any type\n",
    "\n",
    "    -list1 = [1,2,3]\n",
    "    -list2 = ['A','B']\n",
    "    -list1.append(list2) = [1,2,3,['A','B']]\n",
    "\n",
    "- extend will update the list by adding new elements, the result also save in a same list\n",
    "\n",
    "    - list1 = [\"A\",\"B\",\"C\",\"D\"]\n",
    "    - list2 = [1,2,3]\n",
    "    - list1.extend(list2) = ['A', 'B', 'C', 'D', 1, 2, 3]\n",
    "\n",
    "- concat will add twoo list, but the result will not update in a same list\n",
    "\n",
    "    - list1 = [\"A\",\"B\",\"C\",\"D\"]\n",
    "    - list2 = [1,2,3]\n",
    "    - l= list1+list2\n",
    "    - l = ['A', 'B', 'C', 'D', 1, 2, 3, 1, 2, 3]"
   ]
  },
  {
   "cell_type": "markdown",
   "id": "257efd5b-d7aa-4ba4-ab67-b0ffb32951b2",
   "metadata": {},
   "source": [
    "# iterator\n",
    "\n",
    "- iterator word ======= > loop\n",
    "\n",
    "- the elements we can print using for loop\n",
    "\n",
    "- string = 'python'  we can print each letter using for loop\n",
    "\n",
    "- list1 = [1,2,3] we can print each element using for loop"
   ]
  },
  {
   "cell_type": "code",
   "execution_count": 45,
   "id": "18ca7f73-80cd-4595-af1c-581f0e69b93c",
   "metadata": {},
   "outputs": [
    {
     "name": "stdout",
     "output_type": "stream",
     "text": [
      "n\n",
      "o\n",
      "h\n",
      "t\n",
      "y\n",
      "p\n"
     ]
    }
   ],
   "source": [
    "val = reversed('python')\n",
    "val\n",
    "\n",
    "for i in val:\n",
    "    print(i)"
   ]
  },
  {
   "cell_type": "code",
   "execution_count": 49,
   "id": "3a60353a-6236-4474-9687-93484aeaefd6",
   "metadata": {},
   "outputs": [
    {
     "data": {
      "text/plain": [
       "[1, 2, 3, 'p', 'y', 't', 'h', 'o', 'n']"
      ]
     },
     "execution_count": 49,
     "metadata": {},
     "output_type": "execute_result"
    }
   ],
   "source": [
    "list1 = [1,2,3]\n",
    "list1.extend('python')\n",
    "list1"
   ]
  },
  {
   "cell_type": "code",
   "execution_count": 89,
   "id": "224a956b-f235-4a53-b5bd-a293aef2a92d",
   "metadata": {},
   "outputs": [
    {
     "data": {
      "text/plain": [
       "[1, 2, 3, 'python']"
      ]
     },
     "execution_count": 89,
     "metadata": {},
     "output_type": "execute_result"
    }
   ],
   "source": [
    "list2 = [1,2,3]\n",
    "list2.append('python')\n",
    "list2"
   ]
  },
  {
   "cell_type": "code",
   "execution_count": 91,
   "id": "d737b6bf-4f26-4629-ba8e-8fe4d2b7e2b4",
   "metadata": {},
   "outputs": [
    {
     "data": {
      "text/plain": [
       "[1, 2, 3, 'python']"
      ]
     },
     "execution_count": 91,
     "metadata": {},
     "output_type": "execute_result"
    }
   ],
   "source": [
    "# pop & remove & del\n",
    "\n",
    "list2 "
   ]
  },
  {
   "cell_type": "code",
   "execution_count": 95,
   "id": "fc0933c3-80b5-40e8-9a97-866c1545890a",
   "metadata": {},
   "outputs": [
    {
     "ename": "IndexError",
     "evalue": "pop index out of range",
     "output_type": "error",
     "traceback": [
      "\u001b[0;31m---------------------------------------------------------------------------\u001b[0m",
      "\u001b[0;31mIndexError\u001b[0m                                Traceback (most recent call last)",
      "Cell \u001b[0;32mIn[95], line 1\u001b[0m\n\u001b[0;32m----> 1\u001b[0m list1\u001b[38;5;241m.\u001b[39mpop(\u001b[38;5;241m100\u001b[39m)\n",
      "\u001b[0;31mIndexError\u001b[0m: pop index out of range"
     ]
    }
   ],
   "source": [
    "list1.pop(100)"
   ]
  },
  {
   "cell_type": "code",
   "execution_count": 93,
   "id": "77eba163-b555-42b5-8e19-c733dc342c8f",
   "metadata": {},
   "outputs": [
    {
     "data": {
      "text/plain": [
       "'python'"
      ]
     },
     "execution_count": 93,
     "metadata": {},
     "output_type": "execute_result"
    }
   ],
   "source": [
    "list2.pop()\n",
    "# in side bracket default argument is there index = -1\n",
    "# -1 means last value \n",
    "# if you not provide any value\n",
    "# it will remove last value\n",
    "# if i provide any index, it will remove that element\n",
    "\n",
    "# it is also returning, which element it is removing"
   ]
  },
  {
   "cell_type": "code",
   "execution_count": null,
   "id": "eb9cc7c5-1698-4b99-bd40-6f1f0d110fa7",
   "metadata": {},
   "outputs": [],
   "source": []
  },
  {
   "cell_type": "code",
   "execution_count": null,
   "id": "42fc5aef-582b-40aa-8377-51f0d4878765",
   "metadata": {},
   "outputs": [],
   "source": []
  },
  {
   "cell_type": "code",
   "execution_count": null,
   "id": "8944dc1e-da8b-4c12-9595-2ce888cbecd2",
   "metadata": {},
   "outputs": [],
   "source": []
  },
  {
   "cell_type": "code",
   "execution_count": 109,
   "id": "d62400e9-c7c8-4d17-b599-24789523ef9f",
   "metadata": {},
   "outputs": [
    {
     "data": {
      "text/plain": [
       "[200, 100, 300]"
      ]
     },
     "execution_count": 109,
     "metadata": {},
     "output_type": "execute_result"
    }
   ],
   "source": [
    "list1 = [100,200,100,300]  # duplicate are allowed\n",
    "list1.remove(100)          # first occurance will be gone\n",
    "list1                      # it will not return any value"
   ]
  },
  {
   "cell_type": "code",
   "execution_count": 111,
   "id": "425afde4-2c1f-4f3f-90d1-25d646431b33",
   "metadata": {},
   "outputs": [],
   "source": [
    "del(list1)"
   ]
  },
  {
   "cell_type": "code",
   "execution_count": 113,
   "id": "2119be38-bb44-4906-8941-cab6291131eb",
   "metadata": {},
   "outputs": [
    {
     "ename": "NameError",
     "evalue": "name 'list1' is not defined",
     "output_type": "error",
     "traceback": [
      "\u001b[0;31m---------------------------------------------------------------------------\u001b[0m",
      "\u001b[0;31mNameError\u001b[0m                                 Traceback (most recent call last)",
      "Cell \u001b[0;32mIn[113], line 1\u001b[0m\n\u001b[0;32m----> 1\u001b[0m list1\n",
      "\u001b[0;31mNameError\u001b[0m: name 'list1' is not defined"
     ]
    }
   ],
   "source": [
    "list1"
   ]
  },
  {
   "cell_type": "code",
   "execution_count": 117,
   "id": "8f7ec1b2-9786-4b83-8487-b90ea11ab723",
   "metadata": {},
   "outputs": [
    {
     "data": {
      "text/plain": [
       "[100, 200, 300]"
      ]
     },
     "execution_count": 117,
     "metadata": {},
     "output_type": "execute_result"
    }
   ],
   "source": [
    "list1 = [100,200,300,100]\n",
    "del list1[3]   # del is keyword\n",
    "list1"
   ]
  },
  {
   "cell_type": "code",
   "execution_count": 119,
   "id": "5e77bc24-f149-4132-9648-b1cf06f3644a",
   "metadata": {},
   "outputs": [
    {
     "data": {
      "text/plain": [
       "['__add__',\n",
       " '__class__',\n",
       " '__class_getitem__',\n",
       " '__contains__',\n",
       " '__delattr__',\n",
       " '__delitem__',\n",
       " '__dir__',\n",
       " '__doc__',\n",
       " '__eq__',\n",
       " '__format__',\n",
       " '__ge__',\n",
       " '__getattribute__',\n",
       " '__getitem__',\n",
       " '__getstate__',\n",
       " '__gt__',\n",
       " '__hash__',\n",
       " '__iadd__',\n",
       " '__imul__',\n",
       " '__init__',\n",
       " '__init_subclass__',\n",
       " '__iter__',\n",
       " '__le__',\n",
       " '__len__',\n",
       " '__lt__',\n",
       " '__mul__',\n",
       " '__ne__',\n",
       " '__new__',\n",
       " '__reduce__',\n",
       " '__reduce_ex__',\n",
       " '__repr__',\n",
       " '__reversed__',\n",
       " '__rmul__',\n",
       " '__setattr__',\n",
       " '__setitem__',\n",
       " '__sizeof__',\n",
       " '__str__',\n",
       " '__subclasshook__',\n",
       " 'append',\n",
       " 'clear',\n",
       " 'copy',\n",
       " 'count',\n",
       " 'extend',\n",
       " 'index',\n",
       " 'insert',\n",
       " 'pop',\n",
       " 'remove',\n",
       " 'reverse',\n",
       " 'sort']"
      ]
     },
     "execution_count": 119,
     "metadata": {},
     "output_type": "execute_result"
    }
   ],
   "source": [
    "dir(list)"
   ]
  },
  {
   "cell_type": "markdown",
   "id": "51cee2c1-9c0c-42eb-b45a-ba52f5c687ab",
   "metadata": {},
   "source": [
    "# index & insert\n",
    "\n",
    "- index\n",
    "\n",
    "- insert\n",
    "\n",
    "- reverse  ======== reversed\n",
    "\n",
    "- sort   ========= sorted"
   ]
  },
  {
   "cell_type": "code",
   "execution_count": 141,
   "id": "55d26e57-0c42-49ef-a487-0369deaf5bb0",
   "metadata": {},
   "outputs": [
    {
     "data": {
      "text/plain": [
       "0"
      ]
     },
     "execution_count": 141,
     "metadata": {},
     "output_type": "execute_result"
    }
   ],
   "source": [
    "list1 = [100,100,200,300,400]\n",
    "list1.index(100)"
   ]
  },
  {
   "cell_type": "code",
   "execution_count": null,
   "id": "6e81c668-b065-4fec-9675-c1d360f7b943",
   "metadata": {},
   "outputs": [],
   "source": []
  },
  {
   "cell_type": "code",
   "execution_count": 143,
   "id": "d677e589-2d7e-402b-ace4-8ef3a69ac939",
   "metadata": {},
   "outputs": [
    {
     "data": {
      "text/plain": [
       "[100, 100, 200, 'A', 500, 300, 400]"
      ]
     },
     "execution_count": 143,
     "metadata": {},
     "output_type": "execute_result"
    }
   ],
   "source": [
    "list1.insert(3,500)\n",
    "list1.insert(3,\"A\")\n",
    "list1"
   ]
  },
  {
   "cell_type": "code",
   "execution_count": null,
   "id": "35700e20-0a30-40a1-82d6-e341f299a22a",
   "metadata": {},
   "outputs": [],
   "source": []
  },
  {
   "cell_type": "code",
   "execution_count": null,
   "id": "d22aca85-dac0-41d2-9280-7ba1ae6ab8ae",
   "metadata": {},
   "outputs": [],
   "source": []
  },
  {
   "cell_type": "code",
   "execution_count": 155,
   "id": "5caabcc7-0d70-496f-87d3-2eaad6e3d323",
   "metadata": {},
   "outputs": [
    {
     "data": {
      "text/plain": [
       "[400, 300, 500, 'A', 200, 100, 100]"
      ]
     },
     "execution_count": 155,
     "metadata": {},
     "output_type": "execute_result"
    }
   ],
   "source": [
    "# list1.reverse(-1)  # list.reverse() takes no arguments (1 given)\n",
    "list1.reverse()\n",
    "list1"
   ]
  },
  {
   "cell_type": "code",
   "execution_count": 167,
   "id": "1a665725-1dff-47da-b211-a226921b1230",
   "metadata": {},
   "outputs": [
    {
     "data": {
      "text/plain": [
       "[1, 3, 5, 7, 8, 9, 34, 42, 43, 65]"
      ]
     },
     "execution_count": 167,
     "metadata": {},
     "output_type": "execute_result"
    }
   ],
   "source": [
    "list2 = [1,34,65,7,8,9,5,43,3,42]\n",
    "list2.sort()\n",
    "list2"
   ]
  },
  {
   "cell_type": "code",
   "execution_count": 171,
   "id": "7d8b724c-46a9-4249-86d8-226ed41a03af",
   "metadata": {},
   "outputs": [
    {
     "name": "stdout",
     "output_type": "stream",
     "text": [
      "RAM age is 25\n",
      "ROBERT age is 30\n",
      "RAHEEM age is 35\n"
     ]
    }
   ],
   "source": [
    "list1 = ['RAM', 'ROBERT','RAHEEM']\n",
    "list2 = [25,30,35]\n",
    "for i,j in zip(list1,list2):\n",
    "    print(f'{i} age is {j}')"
   ]
  },
  {
   "cell_type": "code",
   "execution_count": 177,
   "id": "4f77aced-0b0a-4711-954f-efce82fd9e39",
   "metadata": {},
   "outputs": [
    {
     "data": {
      "text/plain": [
       "[125, 230, 335]"
      ]
     },
     "execution_count": 177,
     "metadata": {},
     "output_type": "execute_result"
    }
   ],
   "source": [
    "list1 = [100,200,300]\n",
    "list2 = [25,30,35]\n",
    "# for i,j in zip(list1,list2):\n",
    "#     print(i+j)\n",
    "output = [i+j for i,j in zip(list1,list2)]\n",
    "output"
   ]
  },
  {
   "cell_type": "code",
   "execution_count": 181,
   "id": "1a52127a-44e5-44bb-aa1c-02603a2144fd",
   "metadata": {},
   "outputs": [
    {
     "data": {
      "text/plain": [
       "['__add__',\n",
       " '__class__',\n",
       " '__contains__',\n",
       " '__delattr__',\n",
       " '__dir__',\n",
       " '__doc__',\n",
       " '__eq__',\n",
       " '__format__',\n",
       " '__ge__',\n",
       " '__getattribute__',\n",
       " '__getitem__',\n",
       " '__getnewargs__',\n",
       " '__getstate__',\n",
       " '__gt__',\n",
       " '__hash__',\n",
       " '__init__',\n",
       " '__init_subclass__',\n",
       " '__iter__',\n",
       " '__le__',\n",
       " '__len__',\n",
       " '__lt__',\n",
       " '__mod__',\n",
       " '__mul__',\n",
       " '__ne__',\n",
       " '__new__',\n",
       " '__reduce__',\n",
       " '__reduce_ex__',\n",
       " '__repr__',\n",
       " '__rmod__',\n",
       " '__rmul__',\n",
       " '__setattr__',\n",
       " '__sizeof__',\n",
       " '__str__',\n",
       " '__subclasshook__',\n",
       " 'capitalize',\n",
       " 'casefold',\n",
       " 'center',\n",
       " 'count',\n",
       " 'encode',\n",
       " 'endswith',\n",
       " 'expandtabs',\n",
       " 'find',\n",
       " 'format',\n",
       " 'format_map',\n",
       " 'index',\n",
       " 'isalnum',\n",
       " 'isalpha',\n",
       " 'isascii',\n",
       " 'isdecimal',\n",
       " 'isdigit',\n",
       " 'isidentifier',\n",
       " 'islower',\n",
       " 'isnumeric',\n",
       " 'isprintable',\n",
       " 'isspace',\n",
       " 'istitle',\n",
       " 'isupper',\n",
       " 'join',\n",
       " 'ljust',\n",
       " 'lower',\n",
       " 'lstrip',\n",
       " 'maketrans',\n",
       " 'partition',\n",
       " 'removeprefix',\n",
       " 'removesuffix',\n",
       " 'replace',\n",
       " 'rfind',\n",
       " 'rindex',\n",
       " 'rjust',\n",
       " 'rpartition',\n",
       " 'rsplit',\n",
       " 'rstrip',\n",
       " 'split',\n",
       " 'splitlines',\n",
       " 'startswith',\n",
       " 'strip',\n",
       " 'swapcase',\n",
       " 'title',\n",
       " 'translate',\n",
       " 'upper',\n",
       " 'zfill']"
      ]
     },
     "execution_count": 181,
     "metadata": {},
     "output_type": "execute_result"
    }
   ],
   "source": [
    "dir(str)"
   ]
  },
  {
   "cell_type": "code",
   "execution_count": 193,
   "id": "75c199cb-144a-42dd-812b-e986cbbb3f5c",
   "metadata": {},
   "outputs": [
    {
     "name": "stdout",
     "output_type": "stream",
     "text": [
      "What is your favorite food?\n"
     ]
    },
    {
     "name": "stdin",
     "output_type": "stream",
     "text": [
      "Enter the answer roti\n"
     ]
    },
    {
     "ename": "ValueError",
     "evalue": "0 is not in list",
     "output_type": "error",
     "traceback": [
      "\u001b[0;31m---------------------------------------------------------------------------\u001b[0m",
      "\u001b[0;31mValueError\u001b[0m                                Traceback (most recent call last)",
      "Cell \u001b[0;32mIn[193], line 20\u001b[0m\n\u001b[1;32m     18\u001b[0m \u001b[38;5;28mprint\u001b[39m(list1[i])\n\u001b[1;32m     19\u001b[0m answer \u001b[38;5;241m=\u001b[39m \u001b[38;5;28minput\u001b[39m(\u001b[38;5;124m\"\u001b[39m\u001b[38;5;124mEnter the answer\u001b[39m\u001b[38;5;124m\"\u001b[39m)\u001b[38;5;241m.\u001b[39mcapitalize()\n\u001b[0;32m---> 20\u001b[0m \u001b[38;5;28;01mif\u001b[39;00m answer \u001b[38;5;241m==\u001b[39m list2\u001b[38;5;241m.\u001b[39mindex(i):\n\u001b[1;32m     21\u001b[0m     marks\u001b[38;5;241m+\u001b[39m\u001b[38;5;241m=\u001b[39m\u001b[38;5;241m1\u001b[39m\n\u001b[1;32m     22\u001b[0m     correct\u001b[38;5;241m+\u001b[39m\u001b[38;5;241m=\u001b[39m\u001b[38;5;241m1\u001b[39m\n",
      "\u001b[0;31mValueError\u001b[0m: 0 is not in list"
     ]
    }
   ],
   "source": [
    "# Take 5  questions in list1\n",
    "# take corresponding 5 answers in another list2\n",
    "# iterate through list1\n",
    "# every question should print\n",
    "# answer = input(\"Tell the answer\")\n",
    "# answer will check in list2\n",
    "# if it is there: marks = marks+1\n",
    "# else: no maraks\n",
    "\n",
    "\n",
    "\n",
    "\n",
    "list1 = ['What is your favorite food?', 'Who is your favorite actress?', 'What is your pet name?']\n",
    "list2 = ['Roti', 'Rashmika', 'Moon']\n",
    "marks = 0\n",
    "\n",
    "print(\"Welcome to the Quiz!\\n\")\n",
    "\n",
    "for i in range(len(list1)):\n",
    "    print(f\"Question {i+1}: {list1[i]}\")\n",
    "    answer = input(\"Your answer: \").strip().capitalize()  # Standardize input format\n",
    "    \n",
    "    # Check if answer matches corresponding answer in list2\n",
    "    if answer == list2[i]:\n",
    "        print(\"Correct!\\n\")\n",
    "        marks += 1\n",
    "    else:\n",
    "        print(f\"Wrong! The correct answer is: {list2[i]}\\n\")\n",
    "\n",
    "print(f\"\\nTotal marks obtained: {marks} out of {len(list1)}\")"
   ]
  },
  {
   "cell_type": "code",
   "execution_count": 1,
   "id": "4c90d9fd-682a-44f8-9086-3d85d26a01c3",
   "metadata": {},
   "outputs": [
    {
     "name": "stdout",
     "output_type": "stream",
     "text": [
      "1 Ram\n",
      "2 Raheem\n",
      "3 Robert\n"
     ]
    }
   ],
   "source": [
    "list1 = [1,2,3]\n",
    "list2 = ['Ram','Raheem','Robert']\n",
    "for i,j in zip(list1,list2):\n",
    "    print(i,j)"
   ]
  },
  {
   "cell_type": "code",
   "execution_count": null,
   "id": "35efe0f0-220d-4b6a-878f-4e430b8f3b8a",
   "metadata": {},
   "outputs": [],
   "source": [
    "# {key:value}"
   ]
  },
  {
   "cell_type": "code",
   "execution_count": 27,
   "id": "39e40ec9-1b46-4182-a703-b43fa1d5d241",
   "metadata": {},
   "outputs": [
    {
     "data": {
      "text/plain": [
       "{'Ram': 25, 'Raheem': 30, 'Robert': 35}"
      ]
     },
     "execution_count": 27,
     "metadata": {},
     "output_type": "execute_result"
    }
   ],
   "source": [
    "d1 = {'Ram':25,\"Raheem\":30,\"Robert\":35}\n",
    "\n",
    "d1"
   ]
  },
  {
   "cell_type": "code",
   "execution_count": 5,
   "id": "2c38d626-b400-4848-a25a-cdb3f3c2461d",
   "metadata": {},
   "outputs": [
    {
     "data": {
      "text/plain": [
       "{25: 'Ram', 30: 'Raheem', 35: 'Robert'}"
      ]
     },
     "execution_count": 5,
     "metadata": {},
     "output_type": "execute_result"
    }
   ],
   "source": [
    "d2 = {25: \"Ram\", 30: \"Raheem\", 35:\"Robert\"}\n",
    "d2"
   ]
  },
  {
   "cell_type": "code",
   "execution_count": 7,
   "id": "0ebfdbd6-7242-4f8b-bf80-39acdc119e79",
   "metadata": {},
   "outputs": [
    {
     "data": {
      "text/plain": [
       "{'even': [2, 4, 6], 'odd': [1, 3, 5]}"
      ]
     },
     "execution_count": 7,
     "metadata": {},
     "output_type": "execute_result"
    }
   ],
   "source": [
    "d3 = {'even' : [2,4,6],\n",
    "         'odd': [1,3,5]}\n",
    "d3\n"
   ]
  },
  {
   "cell_type": "code",
   "execution_count": 9,
   "id": "8829bc39-2b09-4707-abdd-9c9c3c929ca4",
   "metadata": {},
   "outputs": [
    {
     "ename": "TypeError",
     "evalue": "unhashable type: 'list'",
     "output_type": "error",
     "traceback": [
      "\u001b[0;31m---------------------------------------------------------------------------\u001b[0m",
      "\u001b[0;31mTypeError\u001b[0m                                 Traceback (most recent call last)",
      "Cell \u001b[0;32mIn[9], line 1\u001b[0m\n\u001b[0;32m----> 1\u001b[0m d4 \u001b[38;5;241m=\u001b[39m {[\u001b[38;5;241m2\u001b[39m,\u001b[38;5;241m4\u001b[39m,\u001b[38;5;241m6\u001b[39m] : \u001b[38;5;124m'\u001b[39m\u001b[38;5;124meven\u001b[39m\u001b[38;5;124m'\u001b[39m,\n\u001b[1;32m      2\u001b[0m          [\u001b[38;5;241m1\u001b[39m,\u001b[38;5;241m3\u001b[39m,\u001b[38;5;241m5\u001b[39m]: \u001b[38;5;124m'\u001b[39m\u001b[38;5;124modd\u001b[39m\u001b[38;5;124m'\u001b[39m}\n\u001b[1;32m      3\u001b[0m d4\n",
      "\u001b[0;31mTypeError\u001b[0m: unhashable type: 'list'"
     ]
    }
   ],
   "source": [
    "d4 = {[2,4,6] : 'even',\n",
    "         [1,3,5]: 'odd'}\n",
    "d4"
   ]
  },
  {
   "cell_type": "code",
   "execution_count": 11,
   "id": "bef8c4c2-9905-4ac2-8f8e-ec90403e3e06",
   "metadata": {},
   "outputs": [
    {
     "data": {
      "text/plain": [
       "{'even': (2, 4, 6), 'odd': (1, 3, 5)}"
      ]
     },
     "execution_count": 11,
     "metadata": {},
     "output_type": "execute_result"
    }
   ],
   "source": [
    "d3 = {'even' : (2,4,6),\n",
    "         'odd': (1,3,5)}\n",
    "d3"
   ]
  },
  {
   "cell_type": "code",
   "execution_count": 13,
   "id": "f8bc0f1a-36f5-4c56-ab86-97a931d531cc",
   "metadata": {},
   "outputs": [
    {
     "data": {
      "text/plain": [
       "{(2, 4, 6): 'even', (1, 3, 5): 'odd'}"
      ]
     },
     "execution_count": 13,
     "metadata": {},
     "output_type": "execute_result"
    }
   ],
   "source": [
    "d4 = {(2,4,6) : 'even',\n",
    "         (1,3,5): 'odd'}\n",
    "d4"
   ]
  },
  {
   "cell_type": "code",
   "execution_count": null,
   "id": "2784b65d-7179-4ba3-98d3-4f7bf089c383",
   "metadata": {},
   "outputs": [],
   "source": [
    "a = [1,2]\n",
    "b = (1,2)"
   ]
  },
  {
   "cell_type": "code",
   "execution_count": 19,
   "id": "ebc90cdb-4ad8-41c4-a589-f4d7dd8b3376",
   "metadata": {},
   "outputs": [
    {
     "data": {
      "text/plain": [
       "1"
      ]
     },
     "execution_count": 19,
     "metadata": {},
     "output_type": "execute_result"
    }
   ],
   "source": [
    "a,b = [1,2]\n",
    "c,d = (1,2)\n"
   ]
  },
  {
   "cell_type": "code",
   "execution_count": 21,
   "id": "6a427a4c-1094-4c0f-bdbf-1608c39cd96c",
   "metadata": {},
   "outputs": [
    {
     "data": {
      "text/plain": [
       "(1, 2)"
      ]
     },
     "execution_count": 21,
     "metadata": {},
     "output_type": "execute_result"
    }
   ],
   "source": [
    "a = 1,2\n",
    "a"
   ]
  },
  {
   "cell_type": "code",
   "execution_count": 29,
   "id": "0559f273-0b28-418d-af91-b4c987cb0ffe",
   "metadata": {},
   "outputs": [
    {
     "data": {
      "text/plain": [
       "{'A': 1, 'B': 2, 'C': 3}"
      ]
     },
     "execution_count": 29,
     "metadata": {},
     "output_type": "execute_result"
    }
   ],
   "source": [
    "d1 = {'A':1,'B':2,\"C\":3}\n",
    "d1"
   ]
  },
  {
   "cell_type": "markdown",
   "id": "974ddca2-db70-40eb-a1a4-53d35931fa6a",
   "metadata": {},
   "source": [
    "- Dictionary is a key: value pair\n",
    "\n",
    "- at values position you can take any data types\n",
    "\n",
    "- but at keys positons list and dictionary will fail\n",
    "\n",
    "- duplicates are not allowed\n",
    "\n",
    "- if you will update a key value,latest value it will take"
   ]
  },
  {
   "cell_type": "code",
   "execution_count": 31,
   "id": "e08da3bb-4303-4aad-b348-8da0a7412ca6",
   "metadata": {},
   "outputs": [
    {
     "data": {
      "text/plain": [
       "dict"
      ]
     },
     "execution_count": 31,
     "metadata": {},
     "output_type": "execute_result"
    }
   ],
   "source": [
    "# type\n",
    "\n",
    "type(d1)"
   ]
  },
  {
   "cell_type": "markdown",
   "id": "d7512788-b685-494f-a811-74de0efe3953",
   "metadata": {},
   "source": [
    "- str\n",
    "- list\n",
    "- dict\n",
    "- int\n",
    "- float\n",
    "- bool\n",
    "- complex\n",
    "- tuple\n",
    "- set\n",
    "  "
   ]
  },
  {
   "cell_type": "code",
   "execution_count": 41,
   "id": "ac525696-4cd2-4d86-92ed-c64bf8250883",
   "metadata": {},
   "outputs": [
    {
     "data": {
      "text/plain": [
       "'Robert'"
      ]
     },
     "execution_count": 41,
     "metadata": {},
     "output_type": "execute_result"
    }
   ],
   "source": [
    "d1 = {'Ram':25,\"Raheem\":30,\"Robert\":35}\n",
    "\n",
    "max(d1)  "
   ]
  },
  {
   "cell_type": "code",
   "execution_count": 43,
   "id": "1b6e8adb-fd57-4445-812c-786bc87c7d00",
   "metadata": {},
   "outputs": [
    {
     "data": {
      "text/plain": [
       "'Raheem'"
      ]
     },
     "execution_count": 43,
     "metadata": {},
     "output_type": "execute_result"
    }
   ],
   "source": [
    "d1 = {'Ram':25,\"Raheem\":30,\"Robert\":35}\n",
    "\n",
    "min(d1)"
   ]
  },
  {
   "cell_type": "code",
   "execution_count": 45,
   "id": "08dfe2bb-193d-44dd-a433-55aedbc91233",
   "metadata": {},
   "outputs": [
    {
     "data": {
      "text/plain": [
       "3"
      ]
     },
     "execution_count": 45,
     "metadata": {},
     "output_type": "execute_result"
    }
   ],
   "source": [
    "len(d1)"
   ]
  },
  {
   "cell_type": "code",
   "execution_count": 47,
   "id": "c823803f-97d1-46ed-a4de-16357e57e1f7",
   "metadata": {},
   "outputs": [
    {
     "ename": "TypeError",
     "evalue": "unsupported operand type(s) for +: 'int' and 'str'",
     "output_type": "error",
     "traceback": [
      "\u001b[0;31m---------------------------------------------------------------------------\u001b[0m",
      "\u001b[0;31mTypeError\u001b[0m                                 Traceback (most recent call last)",
      "Cell \u001b[0;32mIn[47], line 1\u001b[0m\n\u001b[0;32m----> 1\u001b[0m \u001b[38;5;28msum\u001b[39m(d1)\n",
      "\u001b[0;31mTypeError\u001b[0m: unsupported operand type(s) for +: 'int' and 'str'"
     ]
    }
   ],
   "source": [
    "sum(d1)   # unsupported operand type(s) for +: 'int' and 'str'"
   ]
  },
  {
   "cell_type": "code",
   "execution_count": 51,
   "id": "30233da9-d1c9-4ec1-b9ae-f051f1d1eb71",
   "metadata": {},
   "outputs": [
    {
     "data": {
      "text/plain": [
       "8"
      ]
     },
     "execution_count": 51,
     "metadata": {},
     "output_type": "execute_result"
    }
   ],
   "source": [
    "d2 = {5:2,3:4}\n",
    "sum(d2)  # key are important than values"
   ]
  },
  {
   "cell_type": "markdown",
   "id": "892dc451-14f1-4885-b02e-4b5fa067d419",
   "metadata": {},
   "source": [
    "- maximum and minimum are based on key\n",
    "- if keys have numeric value then we can do sum"
   ]
  },
  {
   "cell_type": "code",
   "execution_count": 79,
   "id": "8aec8f93-cb36-47e7-9ec8-76531a351dbe",
   "metadata": {},
   "outputs": [
    {
     "name": "stdout",
     "output_type": "stream",
     "text": [
      "Ram\n",
      "Raheem\n",
      "Robert\n"
     ]
    }
   ],
   "source": [
    "# in operator\n",
    "\n",
    "d1 = {'Ram':25,\"Raheem\":30,\"Robert\":35}\n",
    "\n",
    "for i in d1:\n",
    "    print(i)  # key will be printed\n",
    "\n"
   ]
  },
  {
   "cell_type": "code",
   "execution_count": 91,
   "id": "e28b5475-458b-4f13-908b-c7cd595f5022",
   "metadata": {},
   "outputs": [
    {
     "data": {
      "text/plain": [
       "25"
      ]
     },
     "execution_count": 91,
     "metadata": {},
     "output_type": "execute_result"
    }
   ],
   "source": [
    "# index\n",
    "d1 = {'Ram':25,\"Raheem\":30,\"Robert\":35}\n",
    "\n",
    "d1['Ram'] \n"
   ]
  },
  {
   "cell_type": "code",
   "execution_count": 93,
   "id": "01d23d60-872d-4deb-8970-45be4e41a164",
   "metadata": {},
   "outputs": [
    {
     "name": "stdout",
     "output_type": "stream",
     "text": [
      "apple\n"
     ]
    }
   ],
   "source": [
    "# Creating a empty dictionary and update\n",
    "\n",
    "s = \"\"\n",
    "for i in 'apple':\n",
    "    s = s + i\n",
    "print(s)"
   ]
  },
  {
   "cell_type": "code",
   "execution_count": 99,
   "id": "015271b1-9056-4ddb-9935-d43872bb30cc",
   "metadata": {},
   "outputs": [
    {
     "data": {
      "text/plain": [
       "[]"
      ]
     },
     "execution_count": 99,
     "metadata": {},
     "output_type": "execute_result"
    }
   ],
   "source": [
    "l = [i for i in range(10)]\n",
    "l = []\n",
    "# for i in range(10):\n",
    "#     l.append(i)\n",
    "l"
   ]
  },
  {
   "cell_type": "code",
   "execution_count": 101,
   "id": "439ce14c-dc69-44ef-90b7-a59a3b42681d",
   "metadata": {},
   "outputs": [
    {
     "data": {
      "text/plain": [
       "{'fruit': 'apple'}"
      ]
     },
     "execution_count": 101,
     "metadata": {},
     "output_type": "execute_result"
    }
   ],
   "source": [
    "d1 = {}\n",
    "d1['fruit'] = 'apple'\n",
    "d1"
   ]
  },
  {
   "cell_type": "code",
   "execution_count": 107,
   "id": "796478c8-d664-4578-94ad-1a7febc3d2ea",
   "metadata": {},
   "outputs": [
    {
     "data": {
      "text/plain": [
       "{'Name': 'Deepak', 'Roll No.': '7', 'Address': 'Pokhara'}"
      ]
     },
     "execution_count": 107,
     "metadata": {},
     "output_type": "execute_result"
    }
   ],
   "source": [
    "d2 = {}\n",
    "d2['Name'] = 'Deepak'\n",
    "d2['Roll No.'] = '7'\n",
    "d2['Address'] = 'Pokhara'\n",
    "d2"
   ]
  },
  {
   "cell_type": "code",
   "execution_count": 135,
   "id": "e02046b8-3987-4e0e-b7ff-4b176ae264cc",
   "metadata": {},
   "outputs": [],
   "source": [
    "names = ['Ram',\"Raheem\",\"Robert\"]\n",
    "age = [25,30,35]\n",
    "dict1 = {}\n",
    "for i,j in zip(names,age):\n",
    "    dict1[i] = j\n",
    "dict1\n",
    "#################################################\n",
    "dict1 = {names:age for names,age in zip(names,age)}"
   ]
  },
  {
   "cell_type": "code",
   "execution_count": 137,
   "id": "04302525-8929-4b56-9a69-72a2e5a41af5",
   "metadata": {},
   "outputs": [
    {
     "data": {
      "text/plain": [
       "{'Ram': 25, 'Raheem': 30, 'Robert': 35}"
      ]
     },
     "execution_count": 137,
     "metadata": {},
     "output_type": "execute_result"
    }
   ],
   "source": [
    "dict2 = {}\n",
    "for i in range(len(names)):\n",
    "    dict2[names[i]] = age[i]\n",
    "dict2\n",
    "##############################################\n",
    "dict2 = {names[i]:age[i] for i in range(len(names)) }\n",
    "dict2"
   ]
  },
  {
   "cell_type": "code",
   "execution_count": 125,
   "id": "a2eff852-9c59-4b66-85e6-3ef3a42da371",
   "metadata": {},
   "outputs": [
    {
     "data": {
      "text/plain": [
       "{'Ram': 25, 'Raheem': 30, 'Robert': 35}"
      ]
     },
     "execution_count": 125,
     "metadata": {},
     "output_type": "execute_result"
    }
   ],
   "source": [
    "dict2 = {names[i]:age[i] for i in range(len(names)) }\n",
    "dict2"
   ]
  },
  {
   "cell_type": "code",
   "execution_count": 229,
   "id": "133aa047-f22e-4733-8881-fcc9f2ad0721",
   "metadata": {},
   "outputs": [
    {
     "data": {
      "text/plain": [
       "{'even': [20, 20, 22], 'odd': [21, 23]}"
      ]
     },
     "execution_count": 229,
     "metadata": {},
     "output_type": "execute_result"
    }
   ],
   "source": [
    "# WAP take 5 random numbers\n",
    "# and create a dictionary with even and odd\n",
    "# output: {\"even\": [20,22],'odd':[19,21,23]}\n",
    "n = {}\n",
    "import random\n",
    "even = []\n",
    "odd = []\n",
    "for i in range(5):\n",
    "    numbers = random.randint(19,23)\n",
    "    if numbers % 2 == 0:\n",
    "        even.append(numbers)\n",
    "    else:\n",
    "        odd.append(numbers)\n",
    "n['even'] = even\n",
    "n['odd'] = odd\n",
    "n"
   ]
  },
  {
   "cell_type": "code",
   "execution_count": 221,
   "id": "0f9a876c-b904-4282-8638-b34b72cc5761",
   "metadata": {},
   "outputs": [
    {
     "data": {
      "text/plain": [
       "['BPF',\n",
       " 'LOG4',\n",
       " 'NV_MAGICCONST',\n",
       " 'RECIP_BPF',\n",
       " 'Random',\n",
       " 'SG_MAGICCONST',\n",
       " 'SystemRandom',\n",
       " 'TWOPI',\n",
       " '_ONE',\n",
       " '_Sequence',\n",
       " '__all__',\n",
       " '__builtins__',\n",
       " '__cached__',\n",
       " '__doc__',\n",
       " '__file__',\n",
       " '__loader__',\n",
       " '__name__',\n",
       " '__package__',\n",
       " '__spec__',\n",
       " '_accumulate',\n",
       " '_acos',\n",
       " '_bisect',\n",
       " '_ceil',\n",
       " '_cos',\n",
       " '_e',\n",
       " '_exp',\n",
       " '_fabs',\n",
       " '_floor',\n",
       " '_index',\n",
       " '_inst',\n",
       " '_isfinite',\n",
       " '_lgamma',\n",
       " '_log',\n",
       " '_log2',\n",
       " '_os',\n",
       " '_pi',\n",
       " '_random',\n",
       " '_repeat',\n",
       " '_sha512',\n",
       " '_sin',\n",
       " '_sqrt',\n",
       " '_test',\n",
       " '_test_generator',\n",
       " '_urandom',\n",
       " '_warn',\n",
       " 'betavariate',\n",
       " 'binomialvariate',\n",
       " 'choice',\n",
       " 'choices',\n",
       " 'expovariate',\n",
       " 'gammavariate',\n",
       " 'gauss',\n",
       " 'getrandbits',\n",
       " 'getstate',\n",
       " 'lognormvariate',\n",
       " 'normalvariate',\n",
       " 'paretovariate',\n",
       " 'randbytes',\n",
       " 'randint',\n",
       " 'random',\n",
       " 'randrange',\n",
       " 'sample',\n",
       " 'seed',\n",
       " 'setstate',\n",
       " 'shuffle',\n",
       " 'triangular',\n",
       " 'uniform',\n",
       " 'vonmisesvariate',\n",
       " 'weibullvariate']"
      ]
     },
     "execution_count": 221,
     "metadata": {},
     "output_type": "execute_result"
    }
   ],
   "source": [
    "dir(random)"
   ]
  },
  {
   "cell_type": "code",
   "execution_count": 235,
   "id": "6cfb4a8b-5d1f-42be-8ead-431b773a7e02",
   "metadata": {},
   "outputs": [],
   "source": [
    "import os"
   ]
  },
  {
   "cell_type": "code",
   "execution_count": 237,
   "id": "8ae21f5b-a506-4a2a-8fc3-88fce673dcf3",
   "metadata": {},
   "outputs": [
    {
     "data": {
      "text/plain": [
       "'/Users/mac/Desktop/Data Science Course/Full Stack Data '"
      ]
     },
     "execution_count": 237,
     "metadata": {},
     "output_type": "execute_result"
    }
   ],
   "source": [
    "os.getcwd()"
   ]
  },
  {
   "cell_type": "markdown",
   "id": "1f74c8e0-da47-42f1-9447-7ddb03b06c0c",
   "metadata": {},
   "source": [
    "dictionary method"
   ]
  },
  {
   "cell_type": "code",
   "execution_count": 239,
   "id": "c126ceae-362e-4543-8e4f-c2a40b57fbbf",
   "metadata": {},
   "outputs": [
    {
     "data": {
      "text/plain": [
       "['__class__',\n",
       " '__class_getitem__',\n",
       " '__contains__',\n",
       " '__delattr__',\n",
       " '__delitem__',\n",
       " '__dir__',\n",
       " '__doc__',\n",
       " '__eq__',\n",
       " '__format__',\n",
       " '__ge__',\n",
       " '__getattribute__',\n",
       " '__getitem__',\n",
       " '__getstate__',\n",
       " '__gt__',\n",
       " '__hash__',\n",
       " '__init__',\n",
       " '__init_subclass__',\n",
       " '__ior__',\n",
       " '__iter__',\n",
       " '__le__',\n",
       " '__len__',\n",
       " '__lt__',\n",
       " '__ne__',\n",
       " '__new__',\n",
       " '__or__',\n",
       " '__reduce__',\n",
       " '__reduce_ex__',\n",
       " '__repr__',\n",
       " '__reversed__',\n",
       " '__ror__',\n",
       " '__setattr__',\n",
       " '__setitem__',\n",
       " '__sizeof__',\n",
       " '__str__',\n",
       " '__subclasshook__',\n",
       " 'clear',\n",
       " 'copy',\n",
       " 'fromkeys',\n",
       " 'get',\n",
       " 'items',\n",
       " 'keys',\n",
       " 'pop',\n",
       " 'popitem',\n",
       " 'setdefault',\n",
       " 'update',\n",
       " 'values']"
      ]
     },
     "execution_count": 239,
     "metadata": {},
     "output_type": "execute_result"
    }
   ],
   "source": [
    "dir(dict)"
   ]
  },
  {
   "cell_type": "markdown",
   "id": "46eb85df-a72a-40f8-aff6-63e7624e0a32",
   "metadata": {},
   "source": [
    "items- keys- values"
   ]
  },
  {
   "cell_type": "code",
   "execution_count": 241,
   "id": "9a102afb-6701-440a-a86f-c4becb3e655e",
   "metadata": {},
   "outputs": [
    {
     "data": {
      "text/plain": [
       "{'Ram': 25, 'Raheem': 30, 'Robert': 35}"
      ]
     },
     "execution_count": 241,
     "metadata": {},
     "output_type": "execute_result"
    }
   ],
   "source": [
    "d1 = {'Ram':25,\"Raheem\":30,\"Robert\":35}\n",
    "\n",
    "d1"
   ]
  },
  {
   "cell_type": "code",
   "execution_count": 261,
   "id": "0e7081a2-288f-421d-9d10-5beff149bdcd",
   "metadata": {},
   "outputs": [
    {
     "data": {
      "text/plain": [
       "dict_items([('Ram', 25), ('Raheem', 30), ('Robert', 35)])"
      ]
     },
     "execution_count": 261,
     "metadata": {},
     "output_type": "execute_result"
    }
   ],
   "source": [
    "# items\n",
    "items = d1.items()\n",
    "items"
   ]
  },
  {
   "cell_type": "code",
   "execution_count": null,
   "id": "cb0bdf9d-a874-4c54-bce0-6c6e924d9c0d",
   "metadata": {},
   "outputs": [],
   "source": []
  },
  {
   "cell_type": "code",
   "execution_count": 257,
   "id": "00ece96c-4a49-4049-8280-22f8453c1a8d",
   "metadata": {},
   "outputs": [
    {
     "data": {
      "text/plain": [
       "dict_items"
      ]
     },
     "execution_count": 257,
     "metadata": {},
     "output_type": "execute_result"
    }
   ],
   "source": [
    "type(items)"
   ]
  },
  {
   "cell_type": "code",
   "execution_count": 263,
   "id": "66460904-80c8-4829-b1a8-18710e3e1bdb",
   "metadata": {},
   "outputs": [
    {
     "data": {
      "text/plain": [
       "dict_keys(['Ram', 'Raheem', 'Robert'])"
      ]
     },
     "execution_count": 263,
     "metadata": {},
     "output_type": "execute_result"
    }
   ],
   "source": [
    "# keys\n",
    "keys = d1.keys()\n",
    "keys"
   ]
  },
  {
   "cell_type": "code",
   "execution_count": 265,
   "id": "926fe791-c787-4cb1-a474-8c72040dcdb5",
   "metadata": {},
   "outputs": [
    {
     "data": {
      "text/plain": [
       "dict_keys"
      ]
     },
     "execution_count": 265,
     "metadata": {},
     "output_type": "execute_result"
    }
   ],
   "source": [
    "type(keys)"
   ]
  },
  {
   "cell_type": "code",
   "execution_count": 267,
   "id": "2d7184db-0e43-4fcd-8c8b-62e6b3e13797",
   "metadata": {},
   "outputs": [
    {
     "data": {
      "text/plain": [
       "dict_values([25, 30, 35])"
      ]
     },
     "execution_count": 267,
     "metadata": {},
     "output_type": "execute_result"
    }
   ],
   "source": [
    "# values\n",
    "values = d1.values()\n",
    "values\n"
   ]
  },
  {
   "cell_type": "code",
   "execution_count": null,
   "id": "be247f21-cfca-422b-8cc6-b58a077f2ae6",
   "metadata": {},
   "outputs": [],
   "source": []
  },
  {
   "cell_type": "code",
   "execution_count": 269,
   "id": "0cdf0e61-8786-4499-bdaa-75de4f7b15ed",
   "metadata": {},
   "outputs": [
    {
     "data": {
      "text/plain": [
       "dict_values"
      ]
     },
     "execution_count": 269,
     "metadata": {},
     "output_type": "execute_result"
    }
   ],
   "source": [
    "type(values) "
   ]
  },
  {
   "cell_type": "code",
   "execution_count": 255,
   "id": "166a388e-a2b7-4323-a406-14ee0c076b37",
   "metadata": {},
   "outputs": [
    {
     "data": {
      "text/plain": [
       "[25, 30, 35, 400]"
      ]
     },
     "execution_count": 255,
     "metadata": {},
     "output_type": "execute_result"
    }
   ],
   "source": [
    "l1 = [25,30,35]\n",
    "l1.append(400)\n",
    "l1"
   ]
  },
  {
   "cell_type": "code",
   "execution_count": 271,
   "id": "1b7dee49-435d-42e6-8081-7c962a833fb9",
   "metadata": {},
   "outputs": [
    {
     "data": {
      "text/plain": [
       "['Ram', 'Raheem', 'Robert']"
      ]
     },
     "execution_count": 271,
     "metadata": {},
     "output_type": "execute_result"
    }
   ],
   "source": [
    "keys_list = list(keys)\n",
    "keys_list"
   ]
  },
  {
   "cell_type": "code",
   "execution_count": 273,
   "id": "fb5e3db2-1482-4131-8c7a-523ecd8b188a",
   "metadata": {},
   "outputs": [],
   "source": [
    "d1 = {'Ram':25,\"Raheem\":30,\"Robert\":35}\n",
    "keys = list(d1.keys())\n",
    "values = list(d1.values())"
   ]
  },
  {
   "cell_type": "code",
   "execution_count": 275,
   "id": "80e3d020-a418-4354-9d6b-8871223496b7",
   "metadata": {},
   "outputs": [
    {
     "data": {
      "text/plain": [
       "(['Ram', 'Raheem', 'Robert'], [25, 30, 35])"
      ]
     },
     "execution_count": 275,
     "metadata": {},
     "output_type": "execute_result"
    }
   ],
   "source": [
    "keys,values"
   ]
  },
  {
   "cell_type": "code",
   "execution_count": 283,
   "id": "5f51f524-3ad5-488c-9ff2-19e7b6cd698e",
   "metadata": {},
   "outputs": [
    {
     "data": {
      "text/plain": [
       "{'Ram': 25, 'Raheem': 30, 'Robert': 35}"
      ]
     },
     "execution_count": 283,
     "metadata": {},
     "output_type": "execute_result"
    }
   ],
   "source": [
    "dict1 = {}\n",
    "for i in range(len(keys)):\n",
    "    d1[keys[i]] = values[i]\n",
    "d1\n",
    "# {i:j for i,j in zip(keys,values)}"
   ]
  },
  {
   "cell_type": "code",
   "execution_count": 285,
   "id": "fbf8a1f1-e39a-40a2-928d-90bf81f94768",
   "metadata": {},
   "outputs": [
    {
     "data": {
      "text/plain": [
       "{'Ram': 25, 'Raheem': 30, 'Robert': 35}"
      ]
     },
     "execution_count": 285,
     "metadata": {},
     "output_type": "execute_result"
    }
   ],
   "source": [
    "dict(zip(keys,values"
   ]
  },
  {
   "cell_type": "code",
   "execution_count": 382,
   "id": "06b504f7-f391-4d4e-84b2-0364673bc48b",
   "metadata": {},
   "outputs": [
    {
     "data": {
      "text/plain": [
       "{'can': 4, 'you': 2, 'canner': 2, 'able': 1, 'to': 1}"
      ]
     },
     "execution_count": 382,
     "metadata": {},
     "output_type": "execute_result"
    }
   ],
   "source": [
    "str2 = 'can can you canner can you able to can canner'\n",
    "l1 = str2.split(' ')\n",
    "d = {}\n",
    "for i in l1:\n",
    "    d[i] = l1.count(i)\n",
    "d"
   ]
  },
  {
   "cell_type": "code",
   "execution_count": 358,
   "id": "d4ab8999-4c75-426f-a62b-a843beb81a11",
   "metadata": {},
   "outputs": [
    {
     "data": {
      "text/plain": [
       "{'f_name': ['virat', 'rohit', 'kl'],\n",
       " 's_name': ['kholi', 'sharma', 'rahul'],\n",
       " 'company': ['blr', 'mumbai', 'lucknow']}"
      ]
     },
     "execution_count": 358,
     "metadata": {},
     "output_type": "execute_result"
    }
   ],
   "source": [
    "str1 = 0\n",
    "d1 = {}\n",
    "f_name = [str1[:str1.find('.')] for str1 in s1.split(',')]\n",
    "s_name = [str1[str1.find('.')+1:str1.find('@')] for str1 in s1.split(',')]\n",
    "company = [str1[str1.find('@')+1:str1.find('.',str1.find('.')+1)] for str1 in s1.split(',')]\n",
    "d1['f_name'] = f_name\n",
    "d1['s_name'] = s_name\n",
    "d1['company'] = company\n",
    "d1"
   ]
  },
  {
   "cell_type": "code",
   "execution_count": 422,
   "id": "f93d8208-9b40-4de9-8e52-20f205f87803",
   "metadata": {},
   "outputs": [
    {
     "data": {
      "text/plain": [
       "{'a': 50, 'b': 100, 'c': 200, 'd': 500, 'e': 600}"
      ]
     },
     "execution_count": 422,
     "metadata": {},
     "output_type": "execute_result"
    }
   ],
   "source": [
    "d1 = {'a' : 20,'b': 30,'c':40}\n",
    "d2 = {'a' :50,'b':100,'c':200,'d':500,'e':600}\n",
    "if len(d1) == len(d2):\n",
    "    for i in d2:\n",
    "        d1[i]+=d2[i]\n",
    "d2"
   ]
  },
  {
   "cell_type": "markdown",
   "id": "9d06bc60-9cfa-42a1-b959-f483afb90b40",
   "metadata": {},
   "source": [
    "clear & copy"
   ]
  },
  {
   "cell_type": "code",
   "execution_count": 38,
   "id": "1740f92f-aa88-48ca-8aed-c6573011646b",
   "metadata": {},
   "outputs": [
    {
     "name": "stdout",
     "output_type": "stream",
     "text": [
      "{'a': 50, 'b': 100, 'c': 200, 'd': 500, 'e': 600}\n",
      "{}\n"
     ]
    }
   ],
   "source": [
    "d = {'a' : 20,'b': 30,'c':40}\n",
    "d5 = {'a' :50,'b':100,'c':200,'d':500,'e':600}\n",
    "d=d5.copy()\n",
    "d5.clear()\n",
    "print(d)\n",
    "print(d5)"
   ]
  },
  {
   "cell_type": "markdown",
   "id": "1eaa8d6d-0805-441c-9b96-079436f45ff1",
   "metadata": {},
   "source": [
    "pop- popitem-del"
   ]
  },
  {
   "cell_type": "markdown",
   "id": "a73dfdcd-8d54-420f-b4e1-ad551607f4ef",
   "metadata": {},
   "source": [
    "- what is pop\n",
    "\n",
    "    - pop will remove specify key\n",
    "\n",
    "    - return item by removing the specified key and value\n",
    " \n",
    "    - returning only the value\n",
    "- what is popitem\n",
    "\n",
    "    - automatically remove the last item default\n",
    " \n",
    "    - returning the pair\n",
    " \n",
    "    - don't take argument but remove default\n",
    "\n",
    "    \n",
    "- what is del\n",
    "  \n",
    "    - del is a keyword\n",
    "\n",
    "    - it can delete an item providing key "
   ]
  },
  {
   "cell_type": "code",
   "execution_count": 40,
   "id": "2223f16d-a155-438e-8e19-f3e2caf2eaec",
   "metadata": {},
   "outputs": [
    {
     "data": {
      "text/plain": [
       "50"
      ]
     },
     "execution_count": 40,
     "metadata": {},
     "output_type": "execute_result"
    }
   ],
   "source": [
    "d.pop('a')"
   ]
  },
  {
   "cell_type": "code",
   "execution_count": 34,
   "id": "56da5643-952d-4c77-ab60-1a5323870fa7",
   "metadata": {},
   "outputs": [
    {
     "data": {
      "text/plain": [
       "{}"
      ]
     },
     "execution_count": 34,
     "metadata": {},
     "output_type": "execute_result"
    }
   ],
   "source": [
    "d"
   ]
  },
  {
   "cell_type": "code",
   "execution_count": 42,
   "id": "a9d403fc-50ea-41d2-b71b-a54d11982116",
   "metadata": {},
   "outputs": [
    {
     "data": {
      "text/plain": [
       "('e', 600)"
      ]
     },
     "execution_count": 42,
     "metadata": {},
     "output_type": "execute_result"
    }
   ],
   "source": [
    "d.popitem()"
   ]
  },
  {
   "cell_type": "code",
   "execution_count": 44,
   "id": "d478c702-c1ad-4bc3-af47-1bcba0fb93f2",
   "metadata": {},
   "outputs": [
    {
     "data": {
      "text/plain": [
       "{'b': 100, 'c': 200, 'd': 500}"
      ]
     },
     "execution_count": 44,
     "metadata": {},
     "output_type": "execute_result"
    }
   ],
   "source": [
    "d"
   ]
  },
  {
   "cell_type": "code",
   "execution_count": 48,
   "id": "91631a25-86b7-40c2-b6c0-e1dc7e5e579a",
   "metadata": {},
   "outputs": [],
   "source": [
    "del d['c']"
   ]
  },
  {
   "cell_type": "code",
   "execution_count": 50,
   "id": "ef58b1fb-75e8-4434-8597-68d10243256b",
   "metadata": {},
   "outputs": [
    {
     "data": {
      "text/plain": [
       "{'b': 100, 'd': 500}"
      ]
     },
     "execution_count": 50,
     "metadata": {},
     "output_type": "execute_result"
    }
   ],
   "source": [
    "d"
   ]
  },
  {
   "cell_type": "markdown",
   "id": "b12768ed-d5a8-42e3-bce2-4429447c36ff",
   "metadata": {},
   "source": [
    "- items/values/keys\n",
    "\n",
    "- if I provide two lists you know how to make dict\n",
    "\n",
    "- if I provide dict you know how to make two list\n",
    "\n"
   ]
  },
  {
   "cell_type": "code",
   "execution_count": 52,
   "id": "200ee146-ab6a-4e32-bc1e-34fa7593002f",
   "metadata": {},
   "outputs": [
    {
     "data": {
      "text/plain": [
       "30"
      ]
     },
     "execution_count": 52,
     "metadata": {},
     "output_type": "execute_result"
    }
   ],
   "source": [
    "# fromkeys-get\n",
    "\n",
    "\n",
    "d1 = {'a':20,'b':30,'c':40,'d':50}\n",
    "d1['b']"
   ]
  },
  {
   "cell_type": "code",
   "execution_count": 54,
   "id": "eced01b7-9c1a-4807-a3cb-3e436044fb43",
   "metadata": {},
   "outputs": [
    {
     "data": {
      "text/plain": [
       "30"
      ]
     },
     "execution_count": 54,
     "metadata": {},
     "output_type": "execute_result"
    }
   ],
   "source": [
    "d1.get('b')"
   ]
  },
  {
   "cell_type": "code",
   "execution_count": 56,
   "id": "fdfc9a93-f3b0-457e-94a3-6c8bea23ea0a",
   "metadata": {},
   "outputs": [],
   "source": [
    "d1.get('z')"
   ]
  },
  {
   "cell_type": "code",
   "execution_count": 58,
   "id": "1fc4137a-bae6-4f67-b7aa-7d8408dfe8c8",
   "metadata": {},
   "outputs": [
    {
     "ename": "TypeError",
     "evalue": "'dict' object is not callable",
     "output_type": "error",
     "traceback": [
      "\u001b[0;31m---------------------------------------------------------------------------\u001b[0m",
      "\u001b[0;31mTypeError\u001b[0m                                 Traceback (most recent call last)",
      "Cell \u001b[0;32mIn[58], line 1\u001b[0m\n\u001b[0;32m----> 1\u001b[0m d1(\u001b[38;5;124m'\u001b[39m\u001b[38;5;124mz\u001b[39m\u001b[38;5;124m'\u001b[39m)\n",
      "\u001b[0;31mTypeError\u001b[0m: 'dict' object is not callable"
     ]
    }
   ],
   "source": [
    "d1('z')"
   ]
  },
  {
   "cell_type": "markdown",
   "id": "49dbc8ee-2ede-4f3c-9f49-fd50d0a5bf28",
   "metadata": {},
   "source": [
    "- how many ways we can do\n",
    "\n",
    "- what output it is returning\n",
    "\n",
    "- what is the difference between \n",
    "\n",
    "- we can access the values by providing key as index and key in get method\n",
    "\n",
    "- but if the key is not present in the dictionary, key as index will give key error\n",
    "\n",
    "- get method will not return anything and no error"
   ]
  },
  {
   "cell_type": "code",
   "execution_count": 62,
   "id": "45c3fca3-5569-4f41-878a-ca74b8e8e622",
   "metadata": {},
   "outputs": [
    {
     "data": {
      "text/plain": [
       "{'R': None, 'a': None, 'h': None, 'e': None, 'm': None}"
      ]
     },
     "execution_count": 62,
     "metadata": {},
     "output_type": "execute_result"
    }
   ],
   "source": [
    "d2 = d1.fromkeys('Raheem') \n",
    "d2\n",
    " # concept of iterable as same as the for loop "
   ]
  },
  {
   "cell_type": "code",
   "execution_count": 64,
   "id": "0e0fa7b6-872a-4ec5-bf12-86b6386638f8",
   "metadata": {},
   "outputs": [
    {
     "data": {
      "text/plain": [
       "{1: 'odd', 3: 'odd', 5: 'odd'}"
      ]
     },
     "execution_count": 64,
     "metadata": {},
     "output_type": "execute_result"
    }
   ],
   "source": [
    "d3 = {}.fromkeys([1,3,5],'odd')\n",
    "d3"
   ]
  },
  {
   "cell_type": "markdown",
   "id": "4b6bfe93-c46f-4672-8443-66223b2e7304",
   "metadata": {},
   "source": [
    "$ set as default$"
   ]
  },
  {
   "cell_type": "code",
   "execution_count": 66,
   "id": "c52ce5f6-5ed1-4e8b-96df-f4649e934a28",
   "metadata": {},
   "outputs": [
    {
     "data": {
      "text/plain": [
       "{'b': 100, 'd': 500}"
      ]
     },
     "execution_count": 66,
     "metadata": {},
     "output_type": "execute_result"
    }
   ],
   "source": [
    "d"
   ]
  },
  {
   "cell_type": "code",
   "execution_count": 72,
   "id": "d05edf8c-deea-4bf0-a1ea-8bf99995ae9f",
   "metadata": {},
   "outputs": [
    {
     "data": {
      "text/plain": [
       "'user'"
      ]
     },
     "execution_count": 72,
     "metadata": {},
     "output_type": "execute_result"
    }
   ],
   "source": [
    "d.setdefault('Deepak','admin')\n",
    "d.setdefault('Gautam','user')"
   ]
  },
  {
   "cell_type": "code",
   "execution_count": 74,
   "id": "4b6b85a7-d004-42dd-9cfa-5f1fef498a7b",
   "metadata": {},
   "outputs": [
    {
     "data": {
      "text/plain": [
       "{'b': 100, 'd': 500, 'Deepak': 'admin', 'Gautam': 'user'}"
      ]
     },
     "execution_count": 74,
     "metadata": {},
     "output_type": "execute_result"
    }
   ],
   "source": [
    "d"
   ]
  },
  {
   "cell_type": "code",
   "execution_count": 76,
   "id": "19cf2014-d2eb-4e21-bf3e-26b5ce038604",
   "metadata": {
    "scrolled": true
   },
   "outputs": [
    {
     "ename": "KeyError",
     "evalue": "'city'",
     "output_type": "error",
     "traceback": [
      "\u001b[0;31m---------------------------------------------------------------------------\u001b[0m",
      "\u001b[0;31mKeyError\u001b[0m                                  Traceback (most recent call last)",
      "Cell \u001b[0;32mIn[76], line 3\u001b[0m\n\u001b[1;32m      1\u001b[0m d5 \u001b[38;5;241m=\u001b[39m {}\n\u001b[1;32m      2\u001b[0m d5[\u001b[38;5;124m'\u001b[39m\u001b[38;5;124mnareshit\u001b[39m\u001b[38;5;124m'\u001b[39m] \u001b[38;5;241m=\u001b[39m \u001b[38;5;124m'\u001b[39m\u001b[38;5;124mDS\u001b[39m\u001b[38;5;124m'\u001b[39m\n\u001b[0;32m----> 3\u001b[0m d5[\u001b[38;5;124m'\u001b[39m\u001b[38;5;124mcity\u001b[39m\u001b[38;5;124m'\u001b[39m]\n",
      "\u001b[0;31mKeyError\u001b[0m: 'city'"
     ]
    }
   ],
   "source": [
    "d5 = {}\n",
    "d5['nareshit'] = 'DS'\n",
    "d5['city']"
   ]
  },
  {
   "cell_type": "code",
   "execution_count": 96,
   "id": "653e814d-df19-42f8-a037-87cfee069a05",
   "metadata": {},
   "outputs": [
    {
     "name": "stdout",
     "output_type": "stream",
     "text": [
      "{'a': 345, 'b': 545, 'c': 676, 'e': 676}\n"
     ]
    }
   ],
   "source": [
    "# update\n",
    "\n",
    "\n",
    "d1 = {'a': 345,'b': 456,'c': 676}\n",
    "d2 = {'b': 545, 'e': 676}\n",
    "d1.update(d2)\n",
    "print(d1)"
   ]
  },
  {
   "cell_type": "markdown",
   "id": "9db8b919-b9cf-43cb-b7d4-1c98efdd6902",
   "metadata": {},
   "source": [
    "update method will update  a dictionary with elements from another dictionary.\n",
    "It modifies the dictionary, doesnot take duplicate "
   ]
  },
  {
   "cell_type": "code",
   "execution_count": 92,
   "id": "ce8a8a4b-c1ee-474f-b4ad-de6e0d0ed424",
   "metadata": {},
   "outputs": [
    {
     "data": {
      "text/plain": [
       "{'b': 100, 'd': 500, 'Deepak': 'admin', 'Gautam': 'user'}"
      ]
     },
     "execution_count": 92,
     "metadata": {},
     "output_type": "execute_result"
    }
   ],
   "source": [
    "d"
   ]
  },
  {
   "cell_type": "code",
   "execution_count": 98,
   "id": "1e9d2255-a061-4675-ab7e-15734b064a79",
   "metadata": {},
   "outputs": [
    {
     "data": {
      "text/plain": [
       "{1: 2, 3: 4}"
      ]
     },
     "execution_count": 98,
     "metadata": {},
     "output_type": "execute_result"
    }
   ],
   "source": [
    "t1 = [(1,2),(3,4)]\n",
    "d1 = {}\n",
    "d1.update(t1)\n",
    "d1"
   ]
  },
  {
   "cell_type": "code",
   "execution_count": null,
   "id": "cd987d95-8b16-4434-afd1-286049064dbd",
   "metadata": {},
   "outputs": [],
   "source": []
  }
 ],
 "metadata": {
  "kernelspec": {
   "display_name": "Python [conda env:base] *",
   "language": "python",
   "name": "conda-base-py"
  },
  "language_info": {
   "codemirror_mode": {
    "name": "ipython",
    "version": 3
   },
   "file_extension": ".py",
   "mimetype": "text/x-python",
   "name": "python",
   "nbconvert_exporter": "python",
   "pygments_lexer": "ipython3",
   "version": "3.12.7"
  }
 },
 "nbformat": 4,
 "nbformat_minor": 5
}
