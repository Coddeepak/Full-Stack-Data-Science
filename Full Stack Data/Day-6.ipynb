{
 "cells": [
  {
   "cell_type": "markdown",
   "id": "63d8bd63-4459-44c3-aefa-e617fee31b7f",
   "metadata": {},
   "source": [
    "# Functions\n"
   ]
  },
  {
   "cell_type": "code",
   "execution_count": null,
   "id": "4fe823f6-877a-4262-b9d2-0fc2242dd33a",
   "metadata": {},
   "outputs": [],
   "source": [
    "-Reuse any part of code\n"
   ]
  },
  {
   "cell_type": "code",
   "execution_count": 2,
   "id": "35844f6b-51c0-4ca0-9bc5-18fd0e7f6838",
   "metadata": {},
   "outputs": [
    {
     "name": "stdout",
     "output_type": "stream",
     "text": [
      "The addition of 10 and 20 is 30\n"
     ]
    }
   ],
   "source": [
    "n1 = 10\n",
    "n2 = 20\n",
    "add = n1 + n2\n",
    "print(f\"The addition of {n1} and {n2} is {add}\")"
   ]
  },
  {
   "cell_type": "code",
   "execution_count": null,
   "id": "2f793ef7-8970-49b3-8bb6-2e85ac30420a",
   "metadata": {},
   "outputs": [],
   "source": [
    "def <function_name>():\n",
    "    #write your code here"
   ]
  },
  {
   "cell_type": "code",
   "execution_count": 18,
   "id": "a694a572-5f4f-4c03-bc95-4a45f9473a80",
   "metadata": {},
   "outputs": [],
   "source": [
    "def addition():\n",
    "    n1 = 10\n",
    "    n2 = 20\n",
    "    add = n1 + n2\n",
    "    print(f\"The addition of {n1} and {n2} is {add}\")\n",
    "\n",
    " "
   ]
  },
  {
   "cell_type": "code",
   "execution_count": 20,
   "id": "21d2b96e-53bd-4bd9-8bb1-93739c227c04",
   "metadata": {},
   "outputs": [
    {
     "name": "stdout",
     "output_type": "stream",
     "text": [
      "The addition of 10 and 20 is 30\n"
     ]
    }
   ],
   "source": [
    "addition()"
   ]
  },
  {
   "cell_type": "code",
   "execution_count": 26,
   "id": "d3d0d5f0-2bad-4ec0-a09c-0ac2ec32f504",
   "metadata": {},
   "outputs": [],
   "source": [
    "# WAP to take 3 numbers and print average\n",
    "def average():\n",
    "    try:\n",
    "        num1 = eval(input(\"Enter the first number:\"))\n",
    "        num2 = eval(input(\"Enter the second number:\"))\n",
    "        num3 = eval(input(\"Enter the third number:\"))\n",
    "        avg= (num1+num2+num3)/3\n",
    "        print(f\"The average number is {avg}\")\n",
    "    except Exception as e:\n",
    "        print(e)"
   ]
  },
  {
   "cell_type": "code",
   "execution_count": 28,
   "id": "30fe2997-11cb-4f76-8259-76dd0536217e",
   "metadata": {},
   "outputs": [
    {
     "name": "stdin",
     "output_type": "stream",
     "text": [
      "Enter the first number: 10\n",
      "Enter the second number: 20\n",
      "Enter the third number: 30\n"
     ]
    },
    {
     "name": "stdout",
     "output_type": "stream",
     "text": [
      "The average number is 20.0\n"
     ]
    }
   ],
   "source": [
    "average()"
   ]
  },
  {
   "cell_type": "markdown",
   "id": "50813516-9272-4f40-90e9-55c0ad1b29bc",
   "metadata": {},
   "source": [
    "# **Note**:\n",
    "# We are not sure, the function is defined correct or not \n",
    "# unless we call the function"
   ]
  },
  {
   "cell_type": "code",
   "execution_count": 36,
   "id": "b80ef785-21e5-48d0-bb0a-58921a664556",
   "metadata": {},
   "outputs": [
    {
     "name": "stdin",
     "output_type": "stream",
     "text": [
      "Enter the bill amount: 23\n",
      "Enter the tips amount: 434\n"
     ]
    },
    {
     "name": "stdout",
     "output_type": "stream",
     "text": [
      "The total bill amount is 457\n"
     ]
    }
   ],
   "source": [
    "# WAP ask the user enter bill amount\n",
    "#     ask the user enter tip amount\n",
    "#     calculate total bill\n",
    "def bill():\n",
    "    try:\n",
    "        amount = eval(input(\"Enter the bill amount:\"))\n",
    "        tips = eval(input(\"Enter the tips amount:\"))\n",
    "        t_amount = amount+tips\n",
    "        print(f\"The total bill amount is {t_amount}\")\n",
    "    except Exception as e:\n",
    "        print(e)\n",
    "\n",
    "bill()"
   ]
  },
  {
   "cell_type": "code",
   "execution_count": 50,
   "id": "be3da74b-bb64-4e7c-880d-0dff8983a8c9",
   "metadata": {},
   "outputs": [
    {
     "name": "stdout",
     "output_type": "stream",
     "text": [
      "The number is Even\n"
     ]
    }
   ],
   "source": [
    "# WAP ask the user get random number between 1 to 100\n",
    "# print odd or even\n",
    "import random\n",
    "def o_e():\n",
    "    try:\n",
    "        num = random.randint(1,100)\n",
    "        if num%2 == 0:\n",
    "            print(\"The number is Even\")\n",
    "        else:\n",
    "            print(f\"The number {num} is Odd\")\n",
    "    except Exception as e:\n",
    "        print(e)\n",
    "o_e()"
   ]
  }
 ],
 "metadata": {
  "kernelspec": {
   "display_name": "Python [conda env:base] *",
   "language": "python",
   "name": "conda-base-py"
  },
  "language_info": {
   "codemirror_mode": {
    "name": "ipython",
    "version": 3
   },
   "file_extension": ".py",
   "mimetype": "text/x-python",
   "name": "python",
   "nbconvert_exporter": "python",
   "pygments_lexer": "ipython3",
   "version": "3.12.7"
  }
 },
 "nbformat": 4,
 "nbformat_minor": 5
}
