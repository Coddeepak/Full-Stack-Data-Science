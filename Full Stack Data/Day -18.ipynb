{
 "cells": [
  {
   "cell_type": "markdown",
   "id": "d1640dfe-fac6-4e1f-81a9-5ca3423f7451",
   "metadata": {},
   "source": [
    "Global Variables\n",
    "                outside the function provided\n",
    "Local Variables\n",
    "                Inside the function provided"
   ]
  },
  {
   "cell_type": "code",
   "execution_count": 2,
   "id": "20a5e47f-5cd3-42c5-93fd-c73590ce619b",
   "metadata": {},
   "outputs": [
    {
     "data": {
      "text/plain": [
       "20.0"
      ]
     },
     "execution_count": 2,
     "metadata": {},
     "output_type": "execute_result"
    }
   ],
   "source": [
    "# Implement below code using with arguments\n",
    "num1 = 20\n",
    "num2 = 10\n",
    "num3 = 30\n",
    "def avg():\n",
    "    avg = (num1+num2+num3)/3\n",
    "    return(avg)\n",
    "\n",
    "avg()\n",
    "\n",
    "# **Global Variable**"
   ]
  },
  {
   "cell_type": "code",
   "execution_count": 4,
   "id": "c8e84cfd-15a7-4839-8de2-a3a146930b06",
   "metadata": {},
   "outputs": [
    {
     "data": {
      "text/plain": [
       "20.0"
      ]
     },
     "execution_count": 4,
     "metadata": {},
     "output_type": "execute_result"
    }
   ],
   "source": [
    "# Implement below code using with arguments\n",
    "\n",
    "def avg():\n",
    "    num1 = 20\n",
    "    num2 = 10\n",
    "    num3 = 30\n",
    "    avg = (num1+num2+num3)/3\n",
    "    return(avg)\n",
    "\n",
    "avg()\n",
    "\n",
    "# **Local Variable**"
   ]
  },
  {
   "cell_type": "code",
   "execution_count": 6,
   "id": "cb1caa32-0bf4-4a70-993a-3a0f4883d83c",
   "metadata": {},
   "outputs": [
    {
     "name": "stdout",
     "output_type": "stream",
     "text": [
      "n1 value inside function is: 110\n",
      "110\n"
     ]
    }
   ],
   "source": [
    "# If we want print local variable to outside the fucntion without any reference, you need to use the global \n",
    "\n",
    "n1 = 10\n",
    "def updated():\n",
    "    global n1\n",
    "    n1 = n1 + 100\n",
    "    print(\"n1 value inside function is:\",n1)\n",
    "\n",
    "updated()\n",
    "print(n1)"
   ]
  },
  {
   "cell_type": "code",
   "execution_count": 8,
   "id": "677dd612-c482-4efb-b60a-77192ecff8da",
   "metadata": {},
   "outputs": [
    {
     "ename": "UnboundLocalError",
     "evalue": "cannot access local variable 'n1' where it is not associated with a value",
     "output_type": "error",
     "traceback": [
      "\u001b[0;31m---------------------------------------------------------------------------\u001b[0m",
      "\u001b[0;31mUnboundLocalError\u001b[0m                         Traceback (most recent call last)",
      "Cell \u001b[0;32mIn[8], line 6\u001b[0m\n\u001b[1;32m      3\u001b[0m     n1 \u001b[38;5;241m=\u001b[39m n1 \u001b[38;5;241m+\u001b[39m \u001b[38;5;241m100\u001b[39m\n\u001b[1;32m      4\u001b[0m     \u001b[38;5;28mprint\u001b[39m(\u001b[38;5;124m\"\u001b[39m\u001b[38;5;124mn1 value inside function is:\u001b[39m\u001b[38;5;124m\"\u001b[39m,n1)\n\u001b[0;32m----> 6\u001b[0m value()\n\u001b[1;32m      7\u001b[0m \u001b[38;5;28mprint\u001b[39m(n1)\n",
      "Cell \u001b[0;32mIn[8], line 3\u001b[0m, in \u001b[0;36mvalue\u001b[0;34m()\u001b[0m\n\u001b[1;32m      2\u001b[0m \u001b[38;5;28;01mdef\u001b[39;00m \u001b[38;5;21mvalue\u001b[39m():\n\u001b[0;32m----> 3\u001b[0m     n1 \u001b[38;5;241m=\u001b[39m n1 \u001b[38;5;241m+\u001b[39m \u001b[38;5;241m100\u001b[39m\n\u001b[1;32m      4\u001b[0m     \u001b[38;5;28mprint\u001b[39m(\u001b[38;5;124m\"\u001b[39m\u001b[38;5;124mn1 value inside function is:\u001b[39m\u001b[38;5;124m\"\u001b[39m,n1)\n",
      "\u001b[0;31mUnboundLocalError\u001b[0m: cannot access local variable 'n1' where it is not associated with a value"
     ]
    }
   ],
   "source": [
    "n1 = 10\n",
    "def value():\n",
    "    n1 = n1 + 100\n",
    "    print(\"n1 value inside function is:\",n1)\n",
    "\n",
    "value()\n",
    "print(n1)\n",
    "# As we have called the local variable outside the function, so we get an error ====> updated in the above cell"
   ]
  },
  {
   "cell_type": "code",
   "execution_count": 10,
   "id": "dab9207d-8d4b-4aa0-ba2c-cda2d39afb09",
   "metadata": {},
   "outputs": [
    {
     "name": "stdout",
     "output_type": "stream",
     "text": [
      "hello\n",
      "python\n"
     ]
    }
   ],
   "source": [
    "# Function in function\n",
    "def greet():\n",
    "    print(\"hello\")\n",
    "def name():\n",
    "    print(\"python\")\n",
    "greet()\n",
    "name()"
   ]
  },
  {
   "cell_type": "code",
   "execution_count": 12,
   "id": "727967b0-fea0-416a-b645-dd8589dc4bed",
   "metadata": {},
   "outputs": [
    {
     "name": "stdout",
     "output_type": "stream",
     "text": [
      "python\n",
      "hello\n"
     ]
    }
   ],
   "source": [
    "# Function in function\n",
    "def greet():\n",
    "    print(\"hello\")\n",
    "def name():\n",
    "    print(\"python\")\n",
    "    greet()\n",
    "name()"
   ]
  },
  {
   "cell_type": "code",
   "execution_count": 18,
   "id": "24a97a97-c916-4116-aea2-78d5cd80b099",
   "metadata": {},
   "outputs": [
    {
     "name": "stdout",
     "output_type": "stream",
     "text": [
      "3\n",
      "10+10\n",
      "20\n",
      "Hello\n",
      "python\n",
      "3+5\n",
      "8\n",
      "Hello\n",
      "python\n",
      "good\n"
     ]
    }
   ],
   "source": [
    "print(3)\n",
    "\n",
    "def fun1():\n",
    "    print(\"Hello\")\n",
    "    print(\"python\")\n",
    "print(\"10+10\")\n",
    "def fun2():\n",
    "    print(\"3+5\")\n",
    "    print(3+5)\n",
    "    fun1()\n",
    "    print(\"good\")\n",
    "print(10+10)\n",
    "def fun3():\n",
    "    fun1()\n",
    "    fun2()\n",
    "fun3()"
   ]
  },
  {
   "cell_type": "code",
   "execution_count": null,
   "id": "f1d1388d-fc9b-4374-960e-6c7c11da40ac",
   "metadata": {},
   "outputs": [],
   "source": []
  },
  {
   "cell_type": "code",
   "execution_count": 1,
   "id": "5aeeb6a5-6244-4d71-b6e6-039abf2e6bbe",
   "metadata": {},
   "outputs": [
    {
     "name": "stdin",
     "output_type": "stream",
     "text": [
      "Enter the first number: 34\n",
      "Enter the second number: 34\n",
      "Enter (1-2-3-4) as operation: 2\n"
     ]
    },
    {
     "name": "stdout",
     "output_type": "stream",
     "text": [
      "Subtraction of 34 and 34 is 0\n"
     ]
    }
   ],
   "source": [
    "# create calculator\n",
    "a = eval(input(\"Enter the first number:\"))\n",
    "b = eval(input(\"Enter the second number:\"))\n",
    "i = input(\"Enter (1-2-3-4) as operation:\")\n",
    "def cal(x,y):\n",
    "    if i == '1':\n",
    "        print(f\"Addition of {a} and {b} is {a+b}\")\n",
    "\n",
    "    if i == '2':\n",
    "        print(f\"Subtraction of {a} and {b} is {a-b}\")\n",
    "\n",
    "    if i == '3':\n",
    "        print(f\"Multiplication of {a} and {b} is {a*b}\")\n",
    "\n",
    "    if i == '4':\n",
    "        print(f\"Division of {a} and {b} is {a/b}\")\n",
    "cal(a,b)\n",
    "\n",
    "    \n",
    "    "
   ]
  },
  {
   "cell_type": "code",
   "execution_count": 5,
   "id": "d4324e4b-65a3-4ddb-8a37-9f845936ce64",
   "metadata": {},
   "outputs": [
    {
     "name": "stdout",
     "output_type": "stream",
     "text": [
      "Hello\n",
      "Hello\n",
      "Hello\n"
     ]
    }
   ],
   "source": [
    "# For loop\n",
    "for i in range(3):\n",
    "    print(\"Hello\")\n",
    "    "
   ]
  },
  {
   "cell_type": "code",
   "execution_count": 7,
   "id": "1a872dd9-f832-4e0a-96f9-dba6dfc09071",
   "metadata": {},
   "outputs": [
    {
     "name": "stdout",
     "output_type": "stream",
     "text": [
      "Hi\n",
      "Hello\n",
      "Hello\n",
      "Hello\n",
      "Hello\n",
      "Hello\n",
      "Hello\n",
      "Hello\n",
      "Hello\n",
      "Hello\n",
      "Hello\n",
      "hi Deepak\n"
     ]
    }
   ],
   "source": [
    "print(\"Hi\")\n",
    "for i in range(10):\n",
    "    print(\"Hello\")\n",
    "print(\"hi Deepak\")"
   ]
  },
  {
   "cell_type": "code",
   "execution_count": 9,
   "id": "46e0cc5a-c6d5-4808-bcd2-fe6fa88de779",
   "metadata": {},
   "outputs": [
    {
     "name": "stdout",
     "output_type": "stream",
     "text": [
      "A\n",
      "A\n",
      "A\n",
      "B\n",
      "B\n",
      "C\n",
      "C\n",
      "C\n"
     ]
    }
   ],
   "source": [
    "for i in range(3):\n",
    "    print(\"A\")\n",
    "for i in range(2):\n",
    "    print(\"B\")\n",
    "for i in range(3):\n",
    "    print(\"C\")\n",
    "    \n",
    "\n"
   ]
  },
  {
   "cell_type": "code",
   "execution_count": 11,
   "id": "a168959a-5aea-4414-98f8-8a74942cc713",
   "metadata": {},
   "outputs": [
    {
     "name": "stdout",
     "output_type": "stream",
     "text": [
      "A\n",
      "B\n",
      "A\n",
      "B\n",
      "A\n",
      "B\n",
      "C\n",
      "C\n"
     ]
    }
   ],
   "source": [
    "for i in range(3):\n",
    "    print(\"A\")\n",
    "    print(\"B\")\n",
    "for i in range(2):\n",
    "    print(\"C\")"
   ]
  },
  {
   "cell_type": "code",
   "execution_count": 17,
   "id": "d60e041f-3aa4-40b5-9689-52d8b3865f24",
   "metadata": {},
   "outputs": [
    {
     "name": "stdout",
     "output_type": "stream",
     "text": [
      "The square of 10 is 100\n",
      "The square of 11 is 121\n",
      "The square of 12 is 144\n",
      "The square of 13 is 169\n",
      "The square of 14 is 196\n",
      "The square of 15 is 225\n"
     ]
    }
   ],
   "source": [
    "# WAP ask the user to get the square of the square of the numbers\n",
    "\n",
    "for i in range(10,16):\n",
    "    print(f\"The square of {i} is {i*i}\")"
   ]
  },
  {
   "cell_type": "code",
   "execution_count": 21,
   "id": "a73bffa5-9c98-4118-a1c5-5b6601d032b8",
   "metadata": {},
   "outputs": [
    {
     "name": "stdin",
     "output_type": "stream",
     "text": [
      "Enter the first variable: 23\n",
      "Enter the second variable: 25\n"
     ]
    },
    {
     "name": "stdout",
     "output_type": "stream",
     "text": [
      "The square of 23 is 529\n",
      "The square of 24 is 576\n"
     ]
    }
   ],
   "source": [
    "n1 = eval(input(\"Enter the first variable:\"))\n",
    "n2 = eval(input(\"Enter the second variable:\"))\n",
    "for i in range(n1,n2):\n",
    "    print(f\"The square of {i} is {i*i}\")"
   ]
  },
  {
   "cell_type": "code",
   "execution_count": 23,
   "id": "a1e9921c-ebec-4ecf-97ac-a47028469ba8",
   "metadata": {},
   "outputs": [
    {
     "name": "stdin",
     "output_type": "stream",
     "text": [
      "Enter the first variable: 23\n",
      "Enter the second variable: 25\n"
     ]
    },
    {
     "name": "stdout",
     "output_type": "stream",
     "text": [
      "The square of 23 is 529\n",
      "The square of 24 is 576\n"
     ]
    }
   ],
   "source": [
    "n1 = eval(input(\"Enter the first variable:\"))\n",
    "n2 = eval(input(\"Enter the second variable:\"))\n",
    "def square(x,y):\n",
    "    for i in range(n1,n2):\n",
    "        print(f\"The square of {i} is {i*i}\")\n",
    "square(n1,n2)\n",
    "    "
   ]
  },
  {
   "cell_type": "code",
   "execution_count": 29,
   "id": "6c876736-def1-481f-9d3d-fc5189f4549e",
   "metadata": {},
   "outputs": [
    {
     "name": "stdin",
     "output_type": "stream",
     "text": [
      "Enter a number: 1\n"
     ]
    },
    {
     "name": "stdout",
     "output_type": "stream",
     "text": [
      "The square of 1 is 1\n"
     ]
    },
    {
     "name": "stdin",
     "output_type": "stream",
     "text": [
      "Enter a number: 2\n"
     ]
    },
    {
     "name": "stdout",
     "output_type": "stream",
     "text": [
      "The square of 2 is 4\n"
     ]
    },
    {
     "name": "stdin",
     "output_type": "stream",
     "text": [
      "Enter a number: 3\n"
     ]
    },
    {
     "name": "stdout",
     "output_type": "stream",
     "text": [
      "The square of 3 is 9\n"
     ]
    },
    {
     "name": "stdin",
     "output_type": "stream",
     "text": [
      "Enter a number: 4\n"
     ]
    },
    {
     "name": "stdout",
     "output_type": "stream",
     "text": [
      "The square of 4 is 16\n"
     ]
    },
    {
     "name": "stdin",
     "output_type": "stream",
     "text": [
      "Enter a number: 5\n"
     ]
    },
    {
     "name": "stdout",
     "output_type": "stream",
     "text": [
      "The square of 5 is 25\n"
     ]
    }
   ],
   "source": [
    "# WAP ask the user to print square of the five numbers\n",
    "# and these five numbers you need ask user every time\n",
    "for i in range(5):\n",
    "    num = eval(input(\"Enter a number:\"))\n",
    "    print(f\"The square of {num} is {num*num}\")\n",
    "               "
   ]
  },
  {
   "cell_type": "code",
   "execution_count": 33,
   "id": "ff0e11ae-353d-4b3b-b92e-137e4ee5e8fb",
   "metadata": {},
   "outputs": [
    {
     "name": "stdout",
     "output_type": "stream",
     "text": [
      "The square of 8 is 64\n",
      "The square of 10 is 100\n",
      "The square of 1 is 1\n",
      "The square of 6 is 36\n",
      "The square of 4 is 16\n"
     ]
    }
   ],
   "source": [
    "# WAP ask the user to print the square of a number\n",
    "import random\n",
    "for i in range(5):\n",
    "    num = random.randint(1,10)\n",
    "    print(f\"The square of {num} is {num*num}\")"
   ]
  },
  {
   "cell_type": "code",
   "execution_count": 41,
   "id": "3ef2cbb2-d5a5-4e52-be83-0d7b82ae2a29",
   "metadata": {},
   "outputs": [
    {
     "name": "stdout",
     "output_type": "stream",
     "text": [
      "The given number 11 Odd Number\n",
      "The given number 11 Odd Number\n",
      "The given number 14 Even Number\n",
      "The given number 20 Even Number\n",
      "The given number 17 Odd Number\n"
     ]
    }
   ],
   "source": [
    "import random\n",
    "for i in range(5):\n",
    "    num = random.randint(10,30)\n",
    "    if num%2 == 0:\n",
    "        print(f\"The given number {num} Even Number\")\n",
    "    elif num == 0:\n",
    "        print(f\" The given number {num} Neither odd nor even\")\n",
    "    else:\n",
    "        print(f\"The given number {num} Odd Number\")"
   ]
  },
  {
   "cell_type": "code",
   "execution_count": 47,
   "id": "d4c745bf-68af-442e-bb71-e829c0ec6863",
   "metadata": {},
   "outputs": [
    {
     "name": "stdin",
     "output_type": "stream",
     "text": [
      "Enter the number between 1-10: 2\n"
     ]
    },
    {
     "name": "stdout",
     "output_type": "stream",
     "text": [
      "YOU WON\n"
     ]
    }
   ],
   "source": [
    "# Take random number from random package and ask user enter  a number\n",
    "# if the number == random number\n",
    "        # you won\n",
    "# else\n",
    "        # you lost\n",
    "import random\n",
    "for i in range(3):\n",
    "    num = eval(input(\"Enter the number between 1-10:\"))\n",
    "    n = random.randint(1,10)\n",
    "    if n == num:\n",
    "        print(\"YOU WON\")\n",
    "        break\n",
    "    else:\n",
    "        print(\"YOU LOST\")"
   ]
  },
  {
   "cell_type": "code",
   "execution_count": 51,
   "id": "f9d84e8d-cf21-4d39-9fcb-414de846365f",
   "metadata": {},
   "outputs": [
    {
     "name": "stdin",
     "output_type": "stream",
     "text": [
      "Enter the number between 1-10: 5\n"
     ]
    },
    {
     "name": "stdout",
     "output_type": "stream",
     "text": [
      "YOU LOST\n",
      "The number of chances left2\n"
     ]
    },
    {
     "name": "stdin",
     "output_type": "stream",
     "text": [
      "Enter the number between 1-10: 5\n"
     ]
    },
    {
     "name": "stdout",
     "output_type": "stream",
     "text": [
      "YOU LOST\n",
      "The number of chances left1\n"
     ]
    },
    {
     "name": "stdin",
     "output_type": "stream",
     "text": [
      "Enter the number between 1-10: 4\n"
     ]
    },
    {
     "name": "stdout",
     "output_type": "stream",
     "text": [
      "YOU LOST\n",
      "The number of chances left0\n"
     ]
    }
   ],
   "source": [
    "# Inprove above code\n",
    "# you need to mention of chances left   \n",
    "# the user whenever he fail lost\n"
   ]
  },
  {
   "cell_type": "code",
   "execution_count": 85,
   "id": "ccae7c2a-ad36-4dd6-b24d-6488d758af8d",
   "metadata": {},
   "outputs": [
    {
     "name": "stdin",
     "output_type": "stream",
     "text": [
      "Enter chances do you want: 2\n",
      "Enter the number between 1-10: 3\n"
     ]
    },
    {
     "name": "stdout",
     "output_type": "stream",
     "text": [
      "YOU LOST\n",
      "The number of chances left: 1\n"
     ]
    },
    {
     "name": "stdin",
     "output_type": "stream",
     "text": [
      "Enter the number between 1-10: 4\n"
     ]
    },
    {
     "name": "stdout",
     "output_type": "stream",
     "text": [
      "YOU LOST\n",
      "The number of chances left: 0\n"
     ]
    }
   ],
   "source": [
    "### Improved code adding choices\n",
    "import random\n",
    "ch = eval(input(\"Enter chances do you want:\"))\n",
    "def gambling(ch):\n",
    "    for i in range(ch):\n",
    "        num = eval(input(\"Enter the number between 1-10:\"))\n",
    "        n = random.randint(1,10)\n",
    "        if n == num:\n",
    "            print(\"YOU WON\")\n",
    "            break\n",
    "        elif ch == 0:\n",
    "            print(\"!Please try again after 10 minutes!\")\n",
    "        elif n != num:\n",
    "            print(\"YOU LOST\")\n",
    "            print(f\"The number of chances left: {ch-1-i}\")\n",
    "            \n",
    "        else:\n",
    "            print(\"Invalid\")\n",
    "gambling(ch)\n",
    "        "
   ]
  }
 ],
 "metadata": {
  "kernelspec": {
   "display_name": "Python [conda env:base] *",
   "language": "python",
   "name": "conda-base-py"
  },
  "language_info": {
   "codemirror_mode": {
    "name": "ipython",
    "version": 3
   },
   "file_extension": ".py",
   "mimetype": "text/x-python",
   "name": "python",
   "nbconvert_exporter": "python",
   "pygments_lexer": "ipython3",
   "version": "3.12.7"
  }
 },
 "nbformat": 4,
 "nbformat_minor": 5
}
