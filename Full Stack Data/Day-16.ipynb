{
 "cells": [
  {
   "cell_type": "code",
   "execution_count": 2,
   "id": "5f77ac3f-b17f-410b-8e38-3d30edb81a3d",
   "metadata": {},
   "outputs": [
    {
     "name": "stdout",
     "output_type": "stream",
     "text": [
      "Total Bill is 2150\n"
     ]
    }
   ],
   "source": [
    "def Bill(Bill_A,Tips_A):\n",
    "    try:\n",
    "        Total_Bill = Bill_A + Tips_A\n",
    "        print(f\"Total Bill is {Total_Bill}\")\n",
    "    except Exception as e:\n",
    "        print(e)\n",
    "    \n",
    "Bill(2000,150)"
   ]
  },
  {
   "cell_type": "code",
   "execution_count": 4,
   "id": "007b5055-84f1-48da-b31e-6030bd568a1c",
   "metadata": {},
   "outputs": [
    {
     "name": "stdout",
     "output_type": "stream",
     "text": [
      "The square of 7 is 49\n"
     ]
    }
   ],
   "source": [
    "# WAP to enter a number using function and finding square of it\n",
    "def square(num):\n",
    "    try: \n",
    "        print(f\"The square of {num} is {num*num}\")\n",
    "    except Exception as e:\n",
    "        print(e)\n",
    "square(7)"
   ]
  },
  {
   "cell_type": "code",
   "execution_count": 24,
   "id": "8db95c3b-d85d-497c-aa77-1def28fe9c3a",
   "metadata": {},
   "outputs": [
    {
     "name": "stdin",
     "output_type": "stream",
     "text": [
      "Enter a number: 23\n"
     ]
    },
    {
     "name": "stdout",
     "output_type": "stream",
     "text": [
      "18\n",
      "You Lost\n"
     ]
    }
   ],
   "source": [
    "## WAP  ask user a random number and another enter form the keyboard and compare these two numbers \n",
    "# if both are same then print \"won\" else print \"lost\"\n",
    "\n",
    "import random\n",
    "try:\n",
    "    num2 = eval(input(\"Enter a number:\"))\n",
    "    num = random.randint(1,20)\n",
    "    print(num)\n",
    "    def compare(num,num2):\n",
    "        if num == num2:\n",
    "            print(\"You Won\")\n",
    "        else:\n",
    "            print(\"You Lost\")\n",
    "    compare(num,num2)\n",
    "except Exception as e:\n",
    "    print(e)"
   ]
  },
  {
   "cell_type": "code",
   "execution_count": 37,
   "id": "39b5af34-b483-4b86-9d23-25296157f195",
   "metadata": {},
   "outputs": [
    {
     "name": "stdin",
     "output_type": "stream",
     "text": [
      "Enter the salary: 20000\n",
      "Enter the tax percnetage: 10\n"
     ]
    },
    {
     "name": "stdout",
     "output_type": "stream",
     "text": [
      "Total tax paid is Rs.2000.0\n",
      "Total income after tax pay is 18000.0\n"
     ]
    }
   ],
   "source": [
    "# WAP ask the user enter salary\n",
    "      # ask the user enter tax percentage\n",
    "      # calculate total tax to pay\n",
    "try:\n",
    "    sal = eval(input(\"Enter the salary:\"))\n",
    "    tax_p = eval(input(\"Enter the tax percnetage:\"))\n",
    "    def total(s,t):\n",
    "        tax = (tax_p*sal)/100\n",
    "        print(f\"Total tax paid is Rs.{tax}\")\n",
    "        print(f\"Total income after tax pay is {sal-tax}\")\n",
    "    total(sal,tax_p)\n",
    "except Exception as e:\n",
    "    print(e)"
   ]
  },
  {
   "cell_type": "code",
   "execution_count": 43,
   "id": "a255cfdc-c5fe-4b7f-85cf-3142419922e1",
   "metadata": {},
   "outputs": [
    {
     "name": "stdout",
     "output_type": "stream",
     "text": [
      "num1: 10\n",
      "num2: 30\n",
      "num3: 20\n",
      "Average: 20.0\n"
     ]
    }
   ],
   "source": [
    "def avg(num1,num2,num3=20):\n",
    "    print(\"num1:\",num1)\n",
    "    print(\"num2:\",num2)\n",
    "    print(\"num3:\",num3)\n",
    "    avg = (num1+num2+num3)/3\n",
    "    print(f\"Average: {avg}\")\n",
    "avg(10,30)"
   ]
  },
  {
   "cell_type": "code",
   "execution_count": 45,
   "id": "3e72ea95-1b8a-49e6-9d22-71c269de086f",
   "metadata": {},
   "outputs": [
    {
     "data": {
      "text/plain": [
       "<bound method Random.randint of <random.Random object at 0x131847a20>>"
      ]
     },
     "execution_count": 45,
     "metadata": {},
     "output_type": "execute_result"
    }
   ],
   "source": [
    "import random\n",
    "random.randint"
   ]
  },
  {
   "cell_type": "code",
   "execution_count": 47,
   "id": "b60c337d-0f4b-4dbe-8b50-cb3e0a84a705",
   "metadata": {},
   "outputs": [
    {
     "ename": "TypeError",
     "evalue": "Random.randint() missing 2 required positional arguments: 'a' and 'b'",
     "output_type": "error",
     "traceback": [
      "\u001b[0;31m---------------------------------------------------------------------------\u001b[0m",
      "\u001b[0;31mTypeError\u001b[0m                                 Traceback (most recent call last)",
      "Cell \u001b[0;32mIn[47], line 3\u001b[0m\n\u001b[1;32m      1\u001b[0m \u001b[38;5;66;03m# function = method\u001b[39;00m\n\u001b[1;32m      2\u001b[0m \u001b[38;5;28;01mimport\u001b[39;00m \u001b[38;5;21;01mrandom\u001b[39;00m\n\u001b[0;32m----> 3\u001b[0m random\u001b[38;5;241m.\u001b[39mrandint()\n",
      "\u001b[0;31mTypeError\u001b[0m: Random.randint() missing 2 required positional arguments: 'a' and 'b'"
     ]
    }
   ],
   "source": [
    "# function = method\n",
    "import random\n",
    "random.randint()"
   ]
  },
  {
   "cell_type": "code",
   "execution_count": 49,
   "id": "006b2b3c-d627-4a6f-ab21-b24e299a43f7",
   "metadata": {},
   "outputs": [
    {
     "data": {
      "text/plain": [
       "19"
      ]
     },
     "execution_count": 49,
     "metadata": {},
     "output_type": "execute_result"
    }
   ],
   "source": [
    "# Asking for the two arguments\n",
    "import random\n",
    "random.randint(10,20)"
   ]
  },
  {
   "cell_type": "code",
   "execution_count": 51,
   "id": "20623a5e-7224-4910-8f94-6f4f80630cc7",
   "metadata": {},
   "outputs": [
    {
     "data": {
      "text/plain": [
       "(7+0j)"
      ]
     },
     "execution_count": 51,
     "metadata": {},
     "output_type": "execute_result"
    }
   ],
   "source": [
    "complex(7)"
   ]
  },
  {
   "cell_type": "code",
   "execution_count": 53,
   "id": "78fa7c37-7b52-4dd6-9ab9-382f630455d2",
   "metadata": {},
   "outputs": [
    {
     "name": "stdout",
     "output_type": "stream",
     "text": [
      "200\n"
     ]
    }
   ],
   "source": [
    "def sum(a=0,b=0):\n",
    "    print(a+b)\n",
    "sum(10,20)\n",
    "# after calling the value updated"
   ]
  },
  {
   "cell_type": "markdown",
   "id": "d13d0b75-473f-484f-ba08-f05f10aa53c1",
   "metadata": {},
   "source": [
    "- Completed portion\n",
    "# data types\n",
    "# eval and input\n",
    "# try and exception\n",
    "# if-else\n",
    "# functions with arguments / without arguments "
   ]
  },
  {
   "cell_type": "code",
   "execution_count": 59,
   "id": "6cffd0c4-0188-4e41-80da-d3ef21bff2fe",
   "metadata": {},
   "outputs": [
    {
     "name": "stdin",
     "output_type": "stream",
     "text": [
      "Enter radius of the circle: 7\n"
     ]
    },
    {
     "name": "stdout",
     "output_type": "stream",
     "text": [
      "The area of circle is 153.94\n"
     ]
    }
   ],
   "source": [
    "# WAP to calculate the area of a circle\n",
    "from math import pi\n",
    "r = eval(input(\"Enter radius of the circle:\"))\n",
    "def area(r):\n",
    "\n",
    "    ar = round(pi*r*r,2)\n",
    "    print(f\"The area of circle is {ar}\")\n",
    "area(r)"
   ]
  },
  {
   "cell_type": "code",
   "execution_count": 65,
   "id": "c1e55c2d-0497-4d4c-918d-9f3a644d9f27",
   "metadata": {},
   "outputs": [
    {
     "name": "stdin",
     "output_type": "stream",
     "text": [
      "Enter the radius: 7\n"
     ]
    },
    {
     "name": "stdout",
     "output_type": "stream",
     "text": [
      "The area of the circle:153.94\n",
      "153.94\n",
      "3.141592653589793\n"
     ]
    }
   ],
   "source": [
    "import math\n",
    "def area_of_circle():\n",
    "    pii = math.pi\n",
    "    r = eval(input(\"Enter the radius:\"))\n",
    "    a = round(pii*r*r,2)\n",
    "    print(f\"The area of the circle:{a}\")\n",
    "    return(a,pii)\n",
    "Area,pii = area_of_circle()\n",
    "print(Area)\n",
    "print(pii)"
   ]
  },
  {
   "cell_type": "code",
   "execution_count": 69,
   "id": "3754156e-7d3a-4d30-ba3c-e4e0a8be2576",
   "metadata": {},
   "outputs": [
    {
     "name": "stdin",
     "output_type": "stream",
     "text": [
      "Enter the first number: 10\n",
      "Enter the second number: 20\n",
      "Enter the third number: 30\n"
     ]
    },
    {
     "name": "stdout",
     "output_type": "stream",
     "text": [
      "The sum is 60 and average is 20.0\n"
     ]
    }
   ],
   "source": [
    "# WAP to ask the user enter 3 numbers and find sum and average\n",
    "\n",
    "num1 = eval(input(\"Enter the first number:\"))\n",
    "num2 = eval(input(\"Enter the second number:\"))\n",
    "num3 = eval(input(\"Enter the third number:\"))\n",
    "def sum_avg(n1,n2,n3):\n",
    "    summ = num1 + num2 + num3\n",
    "    avg = summ/3\n",
    "    return(summ,avg)\n",
    "\n",
    "s,a = sum_avg(num1,num2,num3)\n",
    "print(f\"The sum is {s} and average is {a}\")\n",
    "    "
   ]
  },
  {
   "cell_type": "code",
   "execution_count": 71,
   "id": "ae612a3f-c3f3-4d33-9fa7-8d2eb9b69fda",
   "metadata": {},
   "outputs": [
    {
     "name": "stdin",
     "output_type": "stream",
     "text": [
      "Enter the first number: 10\n",
      "Enter the second number: 23\n",
      "Enter the third number: 34\n"
     ]
    },
    {
     "name": "stdout",
     "output_type": "stream",
     "text": [
      "34 is biggest\n"
     ]
    },
    {
     "data": {
      "text/plain": [
       "34"
      ]
     },
     "execution_count": 71,
     "metadata": {},
     "output_type": "execute_result"
    }
   ],
   "source": [
    "# Find the biggest number of 3 numbers\n",
    "n1 = eval(input(\"Enter the first number:\"))\n",
    "n2 = eval(input(\"Enter the second number:\"))\n",
    "n3 = eval(input(\"Enter the third number:\"))\n",
    "def biggest(n1,n2,n3):\n",
    "    if n1>n2>n3:\n",
    "        print(f\"{n1} is biggest\")\n",
    "        return(n1)\n",
    "    elif n2>n3:\n",
    "        print(f\"{n2} is biggest\")\n",
    "        return(n2)\n",
    "    else:\n",
    "        print(f\"{n3} is biggest\")\n",
    "        return(n3)\n",
    "greatest = biggest(n1,n2,n3)\n",
    "print(greatest)"
   ]
  },
  {
   "cell_type": "code",
   "execution_count": 73,
   "id": "594c2505-56f6-4ce2-bcf3-6cbfc8af9c31",
   "metadata": {},
   "outputs": [
    {
     "name": "stdout",
     "output_type": "stream",
     "text": [
      "50 -10 600 0.67\n"
     ]
    }
   ],
   "source": [
    "def aggregation(a,b):\n",
    "    return(a+b, a-b, a*b, a/b)\n",
    "add,sub,mul,div = aggregation(20,30)\n",
    "print(add,sub,mul,round(div,2))"
   ]
  }
 ],
 "metadata": {
  "kernelspec": {
   "display_name": "Python [conda env:base] *",
   "language": "python",
   "name": "conda-base-py"
  },
  "language_info": {
   "codemirror_mode": {
    "name": "ipython",
    "version": 3
   },
   "file_extension": ".py",
   "mimetype": "text/x-python",
   "name": "python",
   "nbconvert_exporter": "python",
   "pygments_lexer": "ipython3",
   "version": "3.12.7"
  }
 },
 "nbformat": 4,
 "nbformat_minor": 5
}
