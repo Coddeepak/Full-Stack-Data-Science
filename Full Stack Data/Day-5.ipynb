{
 "cells": [
  {
   "cell_type": "code",
   "execution_count": 5,
   "id": "be1a9454-80a8-4e21-baea-2c68215536a0",
   "metadata": {},
   "outputs": [
    {
     "name": "stdin",
     "output_type": "stream",
     "text": [
      "Enter the distance in km: 12324\n"
     ]
    },
    {
     "name": "stdout",
     "output_type": "stream",
     "text": [
      "The charge is Rs.100\n"
     ]
    }
   ],
   "source": [
    "# WAP ask the user enter distance in km.\n",
    "# If the distance is more 10km: print charge is Rs.100\n",
    "# If the distance is between 7 to  10km: print charge is Rs.70\n",
    "# If the distance is between 4 to 7km: print charge is Rs.40\n",
    "# Otherwise print charge is Rs.30\n",
    "\n",
    "# Input a number of km from the keyboard \n",
    "dist = eval(input(\"Enter the distance in km:\"))\n",
    "\n",
    "try:\n",
    "    # Check the distance is >10 or not \n",
    "    if dist>10:\n",
    "        print(\"The charge is Rs.100\")\n",
    "    elif dist>7:\n",
    "        print(\"The charge is Rs.70\")\n",
    "    else:\n",
    "        print(\"The charge is Rs.30\")\n",
    "except Execution as e:\n",
    "    print(e)"
   ]
  },
  {
   "cell_type": "code",
   "execution_count": 19,
   "id": "d7059a1c-4157-48ff-a9c0-e9bf68a9df64",
   "metadata": {},
   "outputs": [
    {
     "name": "stdin",
     "output_type": "stream",
     "text": [
      "Enter Salary: 1000000\n",
      "Enter the user tax percentage:  5\n"
     ]
    },
    {
     "name": "stdout",
     "output_type": "stream",
     "text": [
      "The amount of tax paid: 50000.0\n"
     ]
    }
   ],
   "source": [
    "# WAP ask the user enter salary\n",
    "# if salary >10lakhs:\n",
    "                    # Enter the user tax percentage : 10%\n",
    "                    # print: the amount of tax paid: (salary*tax_per)/100\n",
    "# if salary between 7 lakhs to 10 lakhs:\n",
    "                    # Enter the user tax percentage : 5%\n",
    "                    # print: the amount of tax paid\n",
    "# if salary between 4 to 7 lakhs: \n",
    "                    # ask the user enter tax percentage: 2.5%\n",
    "                    # print the amount of tax paid\n",
    "# otherwise: print (\"no tax required\")\n",
    "# if - elif - elif -else\n",
    "try:\n",
    "    salary = eval(input(\"Enter Salary:\"))\n",
    "    if salary >= 1000000:\n",
    "        tax_per = eval(input(\"Enter the user tax percentage: \"))\n",
    "        print(\"The amount of tax paid:\",(salary*tax_per)/100)\n",
    "    elif salary >= 700000:\n",
    "        tax_per = eval(input(\"Enter the user tax percentage:\" ))\n",
    "        print(\"The amount of tax paid:\",(salary*tax_per)/100)\n",
    "    elif salary >= 400000:\n",
    "        tax_per = eval(input(\"Enter the user tax percentage:\"))\n",
    "        print(\"The amount of tax paid:\",(salary*tax_per)/100)\n",
    "    else:\n",
    "        print(\"NO Tax required to pay\")\n",
    "except Exception as e:\n",
    "    print(e)"
   ]
  },
  {
   "cell_type": "code",
   "execution_count": 25,
   "id": "61b283f1-cd13-4752-b5d1-ab668d9b89a0",
   "metadata": {},
   "outputs": [
    {
     "name": "stdin",
     "output_type": "stream",
     "text": [
      "Enter the operand to perform:(Addition/Subtraction/Division/Multiplication) Division\n",
      "Enter the first number: 24\n",
      "Enter the second number: 12\n"
     ]
    },
    {
     "name": "stdout",
     "output_type": "stream",
     "text": [
      "We are doing Division operations\n",
      "The addition of 24 and 12 is 2.0\n"
     ]
    }
   ],
   "source": [
    "# WAP ask the user enter which operations you need to perform\n",
    "#operations are : addition/multiplication/subtraction/division\n",
    "\n",
    "\n",
    "try:\n",
    "    operation = input(\"Enter the operand to perform:(Addition/Subtraction/Division/Multiplication)\")\n",
    "    num1 = eval(input(\"Enter the first number:\"))\n",
    "    num2 = eval(input(\"Enter the second number:\"))\n",
    "    if operation == \"Addition\":\n",
    "        print(\"We are doing addition operations\")\n",
    "        print(f\"The addition of {num1} and {num2} is {num1+num2}\")\n",
    "    \n",
    "    elif operation == \"Subtraction\":\n",
    "        print(\"We are doing Subtraction operations\")\n",
    "        print(f\"The addition of {num1} and {num2} is {num1-num2}\")\n",
    "    \n",
    "    elif operation == \"Multiplication\":\n",
    "        print(\"We are doing Multiplication operations\")\n",
    "        print(f\"The addition of {num1} and {num2} is {num1*num2}\")\n",
    "    \n",
    "    elif operation == \"Division\":\n",
    "        print(\"We are doing Division operations\")\n",
    "        print(f\"The addition of {num1} and {num2} is {num1/num2}\")\n",
    "    \n",
    "    else: \n",
    "        print(\"Invalid Operantion entered\")\n",
    "except Exception as e:\n",
    "    print(e)"
   ]
  },
  {
   "cell_type": "code",
   "execution_count": 45,
   "id": "14fdae7f-bc1a-4ae4-96ea-2c10984a4a55",
   "metadata": {},
   "outputs": [
    {
     "name": "stdin",
     "output_type": "stream",
     "text": [
      "Enter a number: 23\n"
     ]
    },
    {
     "name": "stdout",
     "output_type": "stream",
     "text": [
      "The number is positive\n"
     ]
    }
   ],
   "source": [
    "# WAP to ask the user enter a number and check zero, positive and negative using nested if-else statement\n",
    "\n",
    "try:\n",
    "    num = eval(input(\"Enter a number:\"))\n",
    "    if num >= 0:\n",
    "        if num == 0:\n",
    "            print(\"The number is zero\")\n",
    "        else:\n",
    "            print(\"The number is positive\")\n",
    "    else:\n",
    "        print(\"The number is negative:\")\n",
    "except Exception as e:\n",
    "    print(e)"
   ]
  },
  {
   "cell_type": "code",
   "execution_count": 9,
   "id": "105665bc-bae0-4b63-85cf-e0a68277f53d",
   "metadata": {},
   "outputs": [
    {
     "name": "stdin",
     "output_type": "stream",
     "text": [
      "Enter a first number: 345\n",
      "Enter a second number: 34\n",
      "Enter a third number: 23\n"
     ]
    },
    {
     "name": "stdout",
     "output_type": "stream",
     "text": [
      "345 is greatest\n"
     ]
    }
   ],
   "source": [
    "# WAP ask the user Enter 3 numbers and find the greatest\n",
    "\n",
    "try:\n",
    "    n1 = eval(input(\"Enter a first number:\"))\n",
    "    n2 = eval(input(\"Enter a second number:\"))\n",
    "    n3 = eval(input(\"Enter a third number:\"))\n",
    "    if n1>n2>n3:\n",
    "        print(f\"{n1} is greatest\")\n",
    "    elif n2>n3:\n",
    "        print(f\"{n2} is greatest\")\n",
    "    else: \n",
    "        print(f\"{n3} is greatest\")\n",
    "\n",
    "except Exception as e:\n",
    "    print(e)"
   ]
  }
 ],
 "metadata": {
  "kernelspec": {
   "display_name": "Python [conda env:base] *",
   "language": "python",
   "name": "conda-base-py"
  },
  "language_info": {
   "codemirror_mode": {
    "name": "ipython",
    "version": 3
   },
   "file_extension": ".py",
   "mimetype": "text/x-python",
   "name": "python",
   "nbconvert_exporter": "python",
   "pygments_lexer": "ipython3",
   "version": "3.12.7"
  }
 },
 "nbformat": 4,
 "nbformat_minor": 5
}
