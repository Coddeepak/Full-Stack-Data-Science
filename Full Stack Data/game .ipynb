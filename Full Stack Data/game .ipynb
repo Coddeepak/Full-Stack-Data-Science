{
 "cells": [
  {
   "cell_type": "markdown",
   "id": "02cc9fa4-4a2b-4e25-bf37-4d15b009ba00",
   "metadata": {},
   "source": [
    "Suppose that a player wants to play a game which requires him Rs. 1000 to start. If the current balance in his account is less\n",
    "than Rs.1000 he needs to withdraw the extra money from his e-wallet.\n",
    "\n",
    "Note that if the sum of money in his current account and the amount withdrawn is greater than or equal to Rs. 1000, then he can\n",
    "start playing the game. However, if the sum is less than Rs. 1000, then the program should keep displaying the user the message \n",
    "\"You still do not have enough money to start playing,\" and keep prompting the user to withdraw money\n",
    ", unless it crosses Rs. 1000. Once ready, i.e. if his current account balance crosses Rs. 1000, it will display\n",
    "a message \"Now, you are ready to play the game.\"\n",
    "Your program should also display the account balance and the current in the e-wallet. \n",
    "[Consider: Initial account balance is Rs. 200 and money in the e-wallet is Rs. 5000.]\n",
    "[Do further improvement by checking if the e-wallet balance becomes NILL,etc.]"
   ]
  },
  {
   "cell_type": "code",
   "execution_count": 47,
   "id": "344a34a5-0f5c-484f-9edd-c7c04236e8be",
   "metadata": {},
   "outputs": [
    {
     "name": "stdin",
     "output_type": "stream",
     "text": [
      "\n",
      "Enter the current balance: 200\n",
      "\n",
      "Enter the e-wallet balance: 5678\n"
     ]
    },
    {
     "name": "stdout",
     "output_type": "stream",
     "text": [
      "\n",
      "Initial Account Balance: Rs. 200\n",
      "\n",
      "Initial E-Wallet Balance: Rs. 5678\n",
      "\n",
      "You still do not have enough money to start playing.\n"
     ]
    },
    {
     "name": "stdin",
     "output_type": "stream",
     "text": [
      "\n",
      "Would you like to withdraw from e-wallet? (yes/no):  y\n"
     ]
    },
    {
     "name": "stdout",
     "output_type": "stream",
     "text": [
      "\n",
      "Withdrawn: Rs. 800\n",
      "\n",
      "New Account Balance: Rs. 1000\n",
      "\n",
      "Remaining E-Wallet Balance: Rs. 4878\n",
      "\n",
      "Transaction Successful!\n",
      "\n",
      "Now, you are ready to play the game!\n",
      "\n",
      "Final Account Balance: Rs. 1000\n",
      "\n",
      "Final E-Wallet Balance: Rs. 4878\n"
     ]
    }
   ],
   "source": [
    "import time\n",
    "try:\n",
    "    # Initialize balances\n",
    "    current_balance = eval(input(\"\\nEnter the current balance:\"))\n",
    "    e_wallet = eval(input(\"\\nEnter the e-wallet balance:\"))\n",
    "    required_amount = 1000\n",
    "\n",
    "    print(f\"\\nInitial Account Balance: Rs. {current_balance}\")\n",
    "    time.sleep(2)\n",
    "    print(f\"\\nInitial E-Wallet Balance: Rs. {e_wallet}\\n\")\n",
    "    time.sleep(2)\n",
    "    # Check if already sufficient balance\n",
    "    if current_balance >= required_amount:\n",
    "        print(\"You're already ready to play the game!\")\n",
    "    else:\n",
    "        # Main withdrawal loop\n",
    "        while current_balance < required_amount:\n",
    "            print(\"You still do not have enough money to start playing.\")        \n",
    "            time.sleep(2)\n",
    "            \n",
    "            # Check e-wallet status\n",
    "            if e_wallet <= 0:\n",
    "                print(\"\\nYour e-wallet is empty!\")\n",
    "                break\n",
    "\n",
    "            # User interaction\n",
    "            choice = input(\"\\nWould you like to withdraw from e-wallet? (yes/no): \").strip().lower()           \n",
    "            time.sleep(2)\n",
    "            \n",
    "            \n",
    "            if choice == 'yes' or choice == 'y':\n",
    "                # Calculate withdrawal amount\n",
    "                needed = required_amount - current_balance\n",
    "                withdraw_amount = min(needed, e_wallet)\n",
    "                \n",
    "                # Update balances\n",
    "                current_balance += withdraw_amount\n",
    "                e_wallet -= withdraw_amount\n",
    "                \n",
    "                # Display transaction details\n",
    "                print(f\"\\nWithdrawn: Rs. {withdraw_amount}\")\n",
    "                time.sleep(2)\n",
    "                print(f\"\\nNew Account Balance: Rs. {current_balance}\")           \n",
    "                time.sleep(2)\n",
    "                print(f\"\\nRemaining E-Wallet Balance: Rs. {e_wallet}\")             \n",
    "                time.sleep(2)\n",
    "\n",
    "                # Check if ready after withdrawal\n",
    "                if current_balance >= required_amount:\n",
    "                    print(\"\\nTransaction Successful!\")\n",
    "                    break\n",
    "            elif choice == 'no' or choice == 'n':\n",
    "                print(\"\\nWithdrawal cancelled by user.\")\n",
    "                break\n",
    "            else:\n",
    "                print(\"\\nInvalid input!\")\n",
    "\n",
    "        # Final status check\n",
    "        if current_balance >= required_amount:\n",
    "            print(\"\\nNow, you are ready to play the game!\")\n",
    "        else:\n",
    "            print(\"\\nFailed to meet minimum balance requirement to play.\")\n",
    "\n",
    "        # Display final balances\n",
    "        print(f\"\\nFinal Account Balance: Rs. {current_balance}\")\n",
    "        time.sleep(2)\n",
    "        print(f\"\\nFinal E-Wallet Balance: Rs. {e_wallet}\")\n",
    "        time.sleep(2)\n",
    "except Exception as e:\n",
    "    print(f\"\\nAn error occurred: {e}\")\n",
    "\n",
    "\n",
    "\n"
   ]
  },
  {
   "cell_type": "code",
   "execution_count": null,
   "id": "339b9661-7c54-4855-80e7-10ca43e96fec",
   "metadata": {},
   "outputs": [],
   "source": []
  }
 ],
 "metadata": {
  "kernelspec": {
   "display_name": "Python [conda env:base] *",
   "language": "python",
   "name": "conda-base-py"
  },
  "language_info": {
   "codemirror_mode": {
    "name": "ipython",
    "version": 3
   },
   "file_extension": ".py",
   "mimetype": "text/x-python",
   "name": "python",
   "nbconvert_exporter": "python",
   "pygments_lexer": "ipython3",
   "version": "3.12.7"
  }
 },
 "nbformat": 4,
 "nbformat_minor": 5
}
