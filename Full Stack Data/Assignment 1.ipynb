{
 "cells": [
  {
   "cell_type": "markdown",
   "id": "8cbd8667-3b51-41f9-a80d-dc51ca47d02b",
   "metadata": {},
   "source": [
    "# Ask the user to enter a number. Print out the square of the number"
   ]
  },
  {
   "cell_type": "code",
   "execution_count": 7,
   "id": "3a1ad17a-ecda-4824-9788-74eba0fedcea",
   "metadata": {},
   "outputs": [
    {
     "name": "stdout",
     "output_type": "stream",
     "text": [
      " Square of the 62 is 3844\n"
     ]
    }
   ],
   "source": [
    "import random\n",
    "m = random.randint(1,100)\n",
    "s = m*m\n",
    "print(f\" Square of the {m} is {s}\")"
   ]
  },
  {
   "cell_type": "markdown",
   "id": "65b4159c-5e84-4237-b3ed-2d86291f3791",
   "metadata": {},
   "source": [
    " # Ask the user to enter a number x. print out x,2x,3x,4x, and 5x each separated by three dashes"
   ]
  },
  {
   "cell_type": "code",
   "execution_count": 9,
   "id": "da9696f6-1ab5-445e-b298-9748fddcbe9a",
   "metadata": {},
   "outputs": [
    {
     "name": "stdin",
     "output_type": "stream",
     "text": [
      "Enter a number: 4\n"
     ]
    },
    {
     "name": "stdout",
     "output_type": "stream",
     "text": [
      "4---8---12---16---20\n"
     ]
    }
   ],
   "source": [
    "x = eval(input(\"Enter a number:\"))\n",
    "f = 2*x\n",
    "f1 = 3*x\n",
    "f2 = 4*x\n",
    "f3 = 5*x\n",
    "print(f\"{x}---{f}---{f1}---{f2}---{f3}\")\n",
    "\n",
    "         "
   ]
  },
  {
   "cell_type": "markdown",
   "id": "9018e946-8683-42d9-9117-2d97e038b71d",
   "metadata": {},
   "source": [
    "# WAP that asks the user for a weight in kg and converts it to pounds. There are 2.2 pounds in a kg"
   ]
  },
  {
   "cell_type": "code",
   "execution_count": 13,
   "id": "1eb7d180-d58e-49c8-a4d9-2aa7c8571c6f",
   "metadata": {},
   "outputs": [
    {
     "name": "stdin",
     "output_type": "stream",
     "text": [
      "Enter your weight:  50\n"
     ]
    },
    {
     "name": "stdout",
     "output_type": "stream",
     "text": [
      "The weight of the user is 50 in kg & 110.00000000000001 in pounds\n"
     ]
    }
   ],
   "source": [
    "kg = eval(input(\"Enter your weight: \"))\n",
    "p = kg * 2.2\n",
    "print(f\"The weight of the user is {kg} in kg & {p} in pounds\")"
   ]
  },
  {
   "cell_type": "markdown",
   "id": "5aad864e-0b13-4c71-bb00-2d3ae6e77e33",
   "metadata": {},
   "source": [
    "# Write a program that asks the user to enter three numbers(use three separate input statements). \n",
    "# Create variables called total and average that hold the sum and average of the\n",
    "# three numbers and print  out the values of the total and average"
   ]
  },
  {
   "cell_type": "code",
   "execution_count": 15,
   "id": "56175426-d00d-47c5-916f-9c1a75b472bf",
   "metadata": {},
   "outputs": [
    {
     "name": "stdin",
     "output_type": "stream",
     "text": [
      "Enter the first number:  10\n",
      "Enter the second number:  23\n",
      "Enter the third number:  23\n"
     ]
    },
    {
     "name": "stdout",
     "output_type": "stream",
     "text": [
      "The average of the 10, 23 and 23 is 18.666666666666668\n"
     ]
    }
   ],
   "source": [
    "x = eval(input(\"Enter the first number: \"))\n",
    "x1 = eval(input(\"Enter the second number: \"))\n",
    "x2 = eval(input(\"Enter the third number: \"))\n",
    "total = x+x1+x2\n",
    "average = total/3\n",
    "print(f\"The average of the {x}, {x1} and {x2} is {average}\")"
   ]
  },
  {
   "cell_type": "markdown",
   "id": "84c61040-9266-4552-a9dc-62538e712696",
   "metadata": {},
   "source": [
    "# A lot of cell phones have tip calculators. Write one. Ask the user for the price of the meal and the percent tip they want to leave.\n",
    "# Then print both the tip amount and the total bill with the tip included.\n"
   ]
  },
  {
   "cell_type": "code",
   "execution_count": 17,
   "id": "b3e74014-3d01-4d85-9a96-b92f7604462e",
   "metadata": {},
   "outputs": [
    {
     "name": "stdout",
     "output_type": "stream",
     "text": [
      "Waiter: Here is your bill sir!\n",
      "Customer: How much is it?\n"
     ]
    },
    {
     "name": "stdin",
     "output_type": "stream",
     "text": [
      "Waiter: 1000\n"
     ]
    },
    {
     "name": "stdout",
     "output_type": "stream",
     "text": [
      "Customer: Here is bill amount!\n",
      "Customer: Here is your tip\n"
     ]
    },
    {
     "name": "stdin",
     "output_type": "stream",
     "text": [
      " 100\n"
     ]
    },
    {
     "name": "stdout",
     "output_type": "stream",
     "text": [
      "The total bill is 1100\n"
     ]
    }
   ],
   "source": [
    "import time\n",
    "print(\"Waiter: Here is your bill sir!\")\n",
    "time.sleep(2)\n",
    "print(\"Customer: How much is it?\")\n",
    "time.sleep(2)\n",
    "cost = eval(input(\"Waiter:\"))\n",
    "time.sleep(2)\n",
    "print(\"Customer: Here is bill amount!\")\n",
    "time.sleep(2)\n",
    "print(\"Customer: Here is your tip\")\n",
    "tip = eval(input())\n",
    "total = cost + tip\n",
    "print(f\"The total bill is {total}\")\n",
    "     \n",
    "            "
   ]
  }
 ],
 "metadata": {
  "kernelspec": {
   "display_name": "Python [conda env:base] *",
   "language": "python",
   "name": "conda-base-py"
  },
  "language_info": {
   "codemirror_mode": {
    "name": "ipython",
    "version": 3
   },
   "file_extension": ".py",
   "mimetype": "text/x-python",
   "name": "python",
   "nbconvert_exporter": "python",
   "pygments_lexer": "ipython3",
   "version": "3.12.7"
  }
 },
 "nbformat": 4,
 "nbformat_minor": 5
}
