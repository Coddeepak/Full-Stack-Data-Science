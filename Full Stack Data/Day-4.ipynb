{
 "cells": [
  {
   "cell_type": "markdown",
   "id": "840eee74-48f3-4397-a25b-1450ecc892b3",
   "metadata": {},
   "source": [
    "#if-else Statements"
   ]
  },
  {
   "cell_type": "code",
   "execution_count": null,
   "id": "eae32dae-a520-4e5f-b203-a6b1929a6ba2",
   "metadata": {},
   "outputs": [],
   "source": [
    "if - else\n",
    "If Pak won the match they have more chance to go to SF\n",
    "otherwise, they have more chance to go home   (otherwise = else)\n",
    "if I will study pass\n",
    "else will fail"
   ]
  },
  {
   "cell_type": "code",
   "execution_count": null,
   "id": "a3523920-28a9-44cc-9ca3-fe126f821705",
   "metadata": {},
   "outputs": [],
   "source": [
    "name = \"python\"\n",
    "# I will make some conditions\n",
    "# Whenever the name == python ====> success\n",
    "#          otherwise =========> fail\n"
   ]
  },
  {
   "cell_type": "code",
   "execution_count": null,
   "id": "41e89748-08a0-4690-ab5c-0e2ceff97001",
   "metadata": {},
   "outputs": [],
   "source": [
    "name = \"python\"\n",
    "if <condition>:\n",
    "    pass\n",
    "else:\n",
    "    pass"
   ]
  },
  {
   "cell_type": "code",
   "execution_count": 6,
   "id": "4442be03-0f54-4fba-b58d-bc25b52c3a32",
   "metadata": {},
   "outputs": [
    {
     "name": "stdout",
     "output_type": "stream",
     "text": [
      "Won\n"
     ]
    }
   ],
   "source": [
    "name = \"Python\"  #Name\n",
    "if name == 'Python':  # is the name really eqaul to python\n",
    "    print(\"Won\")"
   ]
  },
  {
   "cell_type": "code",
   "execution_count": null,
   "id": "6b9812a8-b76f-461f-96f7-77ca9efd3bb4",
   "metadata": {},
   "outputs": [],
   "source": []
  },
  {
   "cell_type": "code",
   "execution_count": null,
   "id": "934524ae-b111-44a6-8383-7a4f0b0d9892",
   "metadata": {},
   "outputs": [],
   "source": [
    "a = 10  # value 10 stored in a variable 'a'%  (assign)\n",
    "a== 10  # the value of a really equal to 10  (conditions)"
   ]
  },
  {
   "cell_type": "code",
   "execution_count": 2,
   "id": "ebf8a8bf-d2c2-4e16-87f3-4bc886da158d",
   "metadata": {},
   "outputs": [
    {
     "data": {
      "text/plain": [
       "True"
      ]
     },
     "execution_count": 2,
     "metadata": {},
     "output_type": "execute_result"
    }
   ],
   "source": [
    "name = 'python'\n",
    "name == 'python'"
   ]
  },
  {
   "cell_type": "code",
   "execution_count": 10,
   "id": "551e9f2b-889b-434b-8e7d-3ca236774203",
   "metadata": {},
   "outputs": [
    {
     "name": "stdout",
     "output_type": "stream",
     "text": [
      "won\n"
     ]
    }
   ],
   "source": [
    "name = \"Python\"\n",
    "if name == 'Python':\n",
    "    print(\"won\")\n",
    "else:\n",
    "    print(\"lost\")\n"
   ]
  },
  {
   "cell_type": "code",
   "execution_count": 20,
   "id": "dc9e5ff9-532f-4fa8-ad85-fd4f805d07be",
   "metadata": {},
   "outputs": [
    {
     "name": "stdout",
     "output_type": "stream",
     "text": [
      "hello\n",
      "10\n"
     ]
    },
    {
     "name": "stdin",
     "output_type": "stream",
     "text": [
      "Enter a number1:  23\n",
      "Enter a number2:  43\n"
     ]
    },
    {
     "name": "stdout",
     "output_type": "stream",
     "text": [
      "This is False case\n",
      "We are doing multiplication\n",
      "The multiplication of 23 and 43 is: 989\n",
      "Subraction:  -20\n",
      "Great!\n"
     ]
    }
   ],
   "source": [
    "print('hello')\n",
    "print(10)\n",
    "num1 = eval(input(\"Enter a number1: \"))\n",
    "num2 = eval(input(\"Enter a number2: \"))\n",
    "try:\n",
    "    if num1 == num2:\n",
    "        print(\"This is True case\")\n",
    "        print(\"We are doing addition operation\")\n",
    "        print(\"The addition of {} and {} is: {}\".format(num1,num2,num1+num2))\n",
    "        print(\"Happy Ending\")\n",
    "    \n",
    "    else:\n",
    "        print(\"This is False case\")\n",
    "        print(\"We are doing multiplication\")\n",
    "        print(\"The multiplication of {} and {} is: {}\".format(num1,num2,num1*num2))\n",
    "    \n",
    "    subtraction = num1 - num2\n",
    "    print(\"Subraction: \", subtraction)\n",
    "    print(\"Great!\")\n",
    "except Exception as e:\n",
    "    print(e)"
   ]
  },
  {
   "cell_type": "code",
   "execution_count": 22,
   "id": "4d15edc3-405a-47ac-8f01-0805c259c4c2",
   "metadata": {},
   "outputs": [
    {
     "name": "stdin",
     "output_type": "stream",
     "text": [
      "Enter a number:  34\n"
     ]
    },
    {
     "name": "stdout",
     "output_type": "stream",
     "text": [
      "the 34 is even number\n"
     ]
    }
   ],
   "source": [
    "# WAP ask the user enter a number\n",
    "# find the number is odd or even\n",
    "# even number: if you divide with 2 the remainder is zero\n",
    "# Odd number: else code\n",
    "try:\n",
    "    n = eval(input(\"Enter a number: \"))\n",
    "    if(n%2 == 0):\n",
    "        print(\"the {} is even number\".format(n))\n",
    "    else:\n",
    "        print(\"the {} is odd number\".format(n))\n",
    "except Exception as e:\n",
    "    print(e)"
   ]
  },
  {
   "cell_type": "code",
   "execution_count": 32,
   "id": "32b07e37-692e-4856-abcb-61c72364bec7",
   "metadata": {},
   "outputs": [
    {
     "name": "stdout",
     "output_type": "stream",
     "text": [
      "The number 49 is odd\n"
     ]
    }
   ],
   "source": [
    "# WAP get a random number between 1 to 50\n",
    "# and check it is an even number or odd number\n",
    "\n",
    "import random\n",
    "try:\n",
    "    n = random.randint(1,50)\n",
    "    if n%2 == 0:\n",
    "        print(\"The number {} is even\".format(n))\n",
    "    else:\n",
    "        print(\"The number {} is odd\".format(n))\n",
    "except Exception as e:\n",
    "    print(e)"
   ]
  },
  {
   "cell_type": "code",
   "execution_count": 68,
   "id": "6b30e4ef-dc5a-467c-86ad-7a9b030e0b3d",
   "metadata": {},
   "outputs": [
    {
     "name": "stdout",
     "output_type": "stream",
     "text": [
      "Ther number 136 is losing\n"
     ]
    }
   ],
   "source": [
    "# WAP get a random number between 1 to 200\n",
    "# print you won, if the number is between 10 to 99\n",
    "# otherwise print you lost\n",
    "import random\n",
    "n = random.randint(1,200)\n",
    "try:\n",
    "    if 10<n<100:\n",
    "        print(f\"The number {n} is winning\")\n",
    "    else:\n",
    "        print(f\"Ther number {n} is losing\")\n",
    "except Exception as e:\n",
    "    print(e)\n",
    "    "
   ]
  },
  {
   "cell_type": "code",
   "execution_count": 76,
   "id": "72a59f15-9596-4d0e-baf8-1b14ec9a4b14",
   "metadata": {},
   "outputs": [
    {
     "name": "stdin",
     "output_type": "stream",
     "text": [
      "Enter a number: 342\n"
     ]
    },
    {
     "name": "stdout",
     "output_type": "stream",
     "text": [
      "The number 342 is positive\n"
     ]
    }
   ],
   "source": [
    "# WAP ask the user enter a number\n",
    "# if the number >=0 print it is a positive number \n",
    "# otherwise print it is a negative number\n",
    "\n",
    "num = eval(input(\"Enter a number:\"))\n",
    "try:\n",
    "    if num >= 0:\n",
    "        print(f\"The number {num} is positive\")\n",
    "except Exception as e:\n",
    "    print(e)\n",
    "        "
   ]
  },
  {
   "cell_type": "code",
   "execution_count": 78,
   "id": "12605b8c-8a77-4f57-b7ff-7784eb48faa5",
   "metadata": {},
   "outputs": [
    {
     "name": "stdin",
     "output_type": "stream",
     "text": [
      "Enter a number: 23\n"
     ]
    },
    {
     "name": "stdout",
     "output_type": "stream",
     "text": [
      "The number 23 is positive\n"
     ]
    }
   ],
   "source": [
    "num = eval(input(\"Enter a number:\"))\n",
    "try:\n",
    "    if num>0:\n",
    "        print(f\"The number {num} is positive\")\n",
    "    elif num<0:\n",
    "        print(f\"The number {num} is negative\")\n",
    "    else:\n",
    "        print(f\"The number is zero\")\n",
    "except Exception as e:\n",
    "    print(e)"
   ]
  },
  {
   "cell_type": "code",
   "execution_count": 88,
   "id": "d11d60dd-c574-41f0-ad59-425d13ba1d0b",
   "metadata": {},
   "outputs": [
    {
     "name": "stdin",
     "output_type": "stream",
     "text": [
      "Enter the percentage 343\n"
     ]
    },
    {
     "name": "stdout",
     "output_type": "stream",
     "text": [
      " You secured A\n"
     ]
    }
   ],
   "source": [
    "# WAP ask the user enter percentage of marks\n",
    "# if per>90 print A\n",
    "# if per between 70 to 90 print  B\n",
    "# if per between 50 to 70 print  c\n",
    "per = eval(input(\"Enter the percentage\"))\n",
    "try:\n",
    "    if per>90:\n",
    "        print(\" You secured A\")\n",
    "    elif per>=70:\n",
    "        print(\"You secured B\")\n",
    "    elif per>=50:\n",
    "        print(\"You secured C\")\n",
    "    else:\n",
    "        print(\"You secured less than required percentage\")\n",
    "\n",
    "except Exception as e:\n",
    "    print(e)\n",
    "\n",
    "\n",
    "\n",
    "\n",
    "\n"
   ]
  },
  {
   "cell_type": "code",
   "execution_count": 92,
   "id": "3ccdfd8a-8303-42d6-a145-ca924a91f17d",
   "metadata": {},
   "outputs": [
    {
     "name": "stdin",
     "output_type": "stream",
     "text": [
      "Enter the age: 23\n"
     ]
    },
    {
     "name": "stdout",
     "output_type": "stream",
     "text": [
      "Zen-Z\n"
     ]
    }
   ],
   "source": [
    "# WAP ask the user enter age\n",
    "\n",
    "age = eval(input(\"Enter the age:\"))\n",
    "try:\n",
    "    if age>60:\n",
    "        print(\"Senior Citizens\")\n",
    "    elif age>=45:\n",
    "        print(\"Aged\")\n",
    "    elif age>=30:\n",
    "        print(\"Middle Aged\")\n",
    "    elif age>=20:\n",
    "        print(\"Zen-Z\")\n",
    "    elif age>=10:\n",
    "        print(\"Teen Aged\")\n",
    "    else:\n",
    "        print(\"Child Aged\")\n",
    "except Exception as e:\n",
    "    print(e)"
   ]
  }
 ],
 "metadata": {
  "kernelspec": {
   "display_name": "Python [conda env:base] *",
   "language": "python",
   "name": "conda-base-py"
  },
  "language_info": {
   "codemirror_mode": {
    "name": "ipython",
    "version": 3
   },
   "file_extension": ".py",
   "mimetype": "text/x-python",
   "name": "python",
   "nbconvert_exporter": "python",
   "pygments_lexer": "ipython3",
   "version": "3.12.7"
  }
 },
 "nbformat": 4,
 "nbformat_minor": 5
}
