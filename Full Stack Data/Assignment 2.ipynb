{
 "cells": [
  {
   "cell_type": "code",
   "execution_count": 117,
   "id": "cc9122db-8dc0-4790-a472-f26a4ff32248",
   "metadata": {},
   "outputs": [
    {
     "name": "stdin",
     "output_type": "stream",
     "text": [
      "Enter Ramesh's basic salary:  34324\n"
     ]
    },
    {
     "name": "stdout",
     "output_type": "stream",
     "text": [
      "Ramesh's Gross Salary is: 54918.4\n"
     ]
    }
   ],
   "source": [
    "#Question 1:\n",
    "            # Ramesh's basic salary is input through the keyboard. His dearness allowance is 40% of basic salary and \n",
    "            # house rent allowance is 20% of basic salary. Write a program to calculate his gross salary.\n",
    "\n",
    "try:\n",
    "    # Input: Ramesh's basic salary\n",
    "    basic_salary = float(input(\"Enter Ramesh's basic salary: \"))\n",
    "    \n",
    "    # Calculate Dearness Allowance (40% of basic salary)\n",
    "    dearness_allowance = 0.40 * basic_salary\n",
    "    \n",
    "    # Calculate House Rent Allowance (20% of basic salary)\n",
    "    house_rent_allowance = 0.20 * basic_salary\n",
    "    \n",
    "    # Calculate Gross Salary\n",
    "    gross_salary = basic_salary + dearness_allowance + house_rent_allowance\n",
    "    \n",
    "    # Output the result\n",
    "    print(f\"Ramesh's Gross Salary is: {gross_salary}\")\n",
    "except Exception as e:\n",
    "    print(e) "
   ]
  },
  {
   "cell_type": "code",
   "execution_count": 121,
   "id": "2b17a4d5-2f44-4d15-9433-64b89a348540",
   "metadata": {},
   "outputs": [
    {
     "name": "stdin",
     "output_type": "stream",
     "text": [
      "Enter the distance between two cities (in kilometers):  10\n"
     ]
    },
    {
     "name": "stdout",
     "output_type": "stream",
     "text": [
      "Distance in meters: 10000.0 m\n",
      "Distance in centimeters: 1000000.0 cm\n",
      "Distance in feet: 32808.4 ft\n",
      "Distance in inches: 393700.80000000005 in\n"
     ]
    }
   ],
   "source": [
    "#Question 2:\n",
    "            # The distance between two cities (in km) is input through the keyboard. Write a program to convert and\n",
    "            # print this distance in meters, feet, inches, and centimeters\n",
    "\n",
    "try:\n",
    "    # Input: Distance between two cities in kilometers\n",
    "    distance_km = float(input(\"Enter the distance between two cities (in kilometers): \"))\n",
    "    \n",
    "    # Convert distance to meters\n",
    "    distance_m = distance_km * 1000\n",
    "    \n",
    "    # Convert distance to centimeters\n",
    "    distance_cm = distance_m * 100\n",
    "    \n",
    "    # Convert distance to feet\n",
    "    distance_ft = distance_m * 3.28084\n",
    "    \n",
    "    # Convert distance to inches\n",
    "    distance_in = distance_ft * 12\n",
    "    \n",
    "    # Output the results\n",
    "    print(f\"Distance in meters: {distance_m} m\")\n",
    "    print(f\"Distance in centimeters: {distance_cm} cm\")\n",
    "    print(f\"Distance in feet: {distance_ft} ft\")\n",
    "    print(f\"Distance in inches: {distance_in} in\")\n",
    "except Exception as e:\n",
    "    print(e)"
   ]
  },
  {
   "cell_type": "code",
   "execution_count": 123,
   "id": "6d3254d0-d2ec-4e4e-9f0f-e6fd43f92394",
   "metadata": {},
   "outputs": [
    {
     "name": "stdin",
     "output_type": "stream",
     "text": [
      "Enter marks obtained in Subject 1 (out of 100):  15\n",
      "Enter marks obtained in Subject 2 (out of 100):  25\n",
      "Enter marks obtained in Subject 3 (out of 100):  23\n",
      "Enter marks obtained in Subject 4 (out of 100):  56\n",
      "Enter marks obtained in Subject 5 (out of 100):  65\n"
     ]
    },
    {
     "name": "stdout",
     "output_type": "stream",
     "text": [
      "Aggregate Marks: 184.0\n",
      "Percentage: 36.80%\n"
     ]
    }
   ],
   "source": [
    "#Question 3:\n",
    "            # If the marks obtained by a student in five different subjects are input through the keyboard find out the aggregate\n",
    "            # marks and percentage of the marks obtained by the student. Assume that the maximum marks that can be obtained\n",
    "            # by a student in each subject is 100.\n",
    "\n",
    "try:\n",
    "    # Input: Marks obtained in five subjects\n",
    "    subject1 = float(input(\"Enter marks obtained in Subject 1 (out of 100): \"))\n",
    "    subject2 = float(input(\"Enter marks obtained in Subject 2 (out of 100): \"))\n",
    "    subject3 = float(input(\"Enter marks obtained in Subject 3 (out of 100): \"))\n",
    "    subject4 = float(input(\"Enter marks obtained in Subject 4 (out of 100): \"))\n",
    "    subject5 = float(input(\"Enter marks obtained in Subject 5 (out of 100): \"))\n",
    "    \n",
    "    # Calculate aggregate marks\n",
    "    aggregate_marks = subject1 + subject2 + subject3 + subject4 + subject5\n",
    "    \n",
    "    # Calculate percentage\n",
    "    total_marks = 500  # Maximum marks for 5 subjects (100 each)\n",
    "    percentage = (aggregate_marks / total_marks) * 100\n",
    "    \n",
    "    # Output the results\n",
    "    print(f\"Aggregate Marks: {aggregate_marks}\")\n",
    "    print(f\"Percentage: {percentage:.2f}%\")\n",
    "except Exception as e:\n",
    "    print(e)\n"
   ]
  },
  {
   "cell_type": "code",
   "execution_count": 125,
   "id": "71a03a6f-aad3-4b45-b9a1-e41a54beb7c2",
   "metadata": {},
   "outputs": [
    {
     "name": "stdin",
     "output_type": "stream",
     "text": [
      "Enter the temperature in Fahrenheit:  98.6\n"
     ]
    },
    {
     "name": "stdout",
     "output_type": "stream",
     "text": [
      "Temperature in Centigrade: 37.00 °C\n"
     ]
    }
   ],
   "source": [
    "# Question 4:\n",
    "            # The temperature of a city in Fahrenheit degrees is input through the keyboard. Write a program to\n",
    "            # convert this temperature into Centigrade degrees\n",
    "\n",
    "try: \n",
    "    # Input: Temperature in Fahrenheit\n",
    "    fahrenheit = float(input(\"Enter the temperature in Fahrenheit: \"))\n",
    "    \n",
    "    # Convert Fahrenheit to Centigrade\n",
    "    centigrade = (5 / 9) * (fahrenheit - 32)\n",
    "    \n",
    "    # Output the result\n",
    "    print(f\"Temperature in Centigrade: {centigrade:.2f} °C\")\n",
    "except Exception as e:\n",
    "    print(e)\n",
    "    "
   ]
  },
  {
   "cell_type": "code",
   "execution_count": 130,
   "id": "89ce99b2-b922-4f3b-9f0d-bfec03232624",
   "metadata": {},
   "outputs": [
    {
     "name": "stdin",
     "output_type": "stream",
     "text": [
      "Enter the length of the rectangle:  34\n",
      "Enter the breadth of the rectangle:  434\n",
      "Enter the radius of the circle:  4\n"
     ]
    },
    {
     "name": "stdout",
     "output_type": "stream",
     "text": [
      "\n",
      "Rectangle:\n",
      "Area: 14756.0\n",
      "Perimeter: 936.0\n",
      "\n",
      "Circle:\n",
      "Area: 50.27\n",
      "Circumference: 25.13\n"
     ]
    }
   ],
   "source": [
    "# Question 5:\n",
    "            #The length & breadth of a rectangle and the radius of a circle are input through the keyboard. \n",
    "            #Write a program to calculate the area &perimeter of the rectangle and the area & circumference of the circle.\n",
    "\n",
    "try:\n",
    "    import math\n",
    "    \n",
    "    # Input: Length and breadth of the rectangle\n",
    "    length = float(input(\"Enter the length of the rectangle: \"))\n",
    "    breadth = float(input(\"Enter the breadth of the rectangle: \"))\n",
    "    \n",
    "    # Input: Radius of the circle\n",
    "    radius = float(input(\"Enter the radius of the circle: \"))\n",
    "    \n",
    "    # Calculate area and perimeter of the rectangle\n",
    "    rectangle_area = length * breadth\n",
    "    rectangle_perimeter = 2 * (length + breadth)\n",
    "    \n",
    "    # Calculate area and circumference of the circle\n",
    "    circle_area = math.pi * radius**2\n",
    "    circle_circumference = 2 * math.pi * radius\n",
    "    \n",
    "    # Output the results\n",
    "    print(\"\\nRectangle:\")\n",
    "    print(f\"Area: {rectangle_area}\")\n",
    "    print(f\"Perimeter: {rectangle_perimeter}\")\n",
    "    \n",
    "    print(\"\\nCircle:\")\n",
    "    print(f\"Area: {circle_area:.2f}\")\n",
    "    print(f\"Circumference: {circle_circumference:.2f}\")\n",
    "    \n",
    "except Exception as e:\n",
    "    print(e)\n"
   ]
  },
  {
   "cell_type": "code",
   "execution_count": 13,
   "id": "8bb626af-c2f7-43c0-96b8-1e389f43eaac",
   "metadata": {},
   "outputs": [
    {
     "name": "stdin",
     "output_type": "stream",
     "text": [
      "Enter the first number: 454\n",
      "Enter the second number: 767\n"
     ]
    },
    {
     "name": "stdout",
     "output_type": "stream",
     "text": [
      "The contents of C after interchange is 767\n",
      "The contents of D after interchange is 454\n"
     ]
    }
   ],
   "source": [
    "# Question 6:\n",
    "            # Two numbers are input through the keyboard into locations C and D. Write a program to interchange the contents of C and D\n",
    "\n",
    "try:\n",
    "    # Input: Two numbers for locations C and D\n",
    "    C = float(input(\"Enter the value for C: \"))\n",
    "    D = float(input(\"Enter the value for D: \"))\n",
    "    \n",
    "    # Print original values\n",
    "    print(f\"Before interchange: C = {C}, D = {D}\")\n",
    "    \n",
    "    # Interchange the values without a temporary variable\n",
    "    C, D = D, C\n",
    "    \n",
    "    # Print values after interchange\n",
    "    print(f\"After interchange: C = {C}, D = {D}\")\n",
    "\n",
    "except  Exception as e:\n",
    "    print(e)\n",
    "\n"
   ]
  },
  {
   "cell_type": "code",
   "execution_count": 134,
   "id": "91a57ce6-9e78-44c3-b89c-4a8786c52a1f",
   "metadata": {},
   "outputs": [
    {
     "name": "stdin",
     "output_type": "stream",
     "text": [
      "Enter the number: 12345\n",
      "Enter a five-digit number:  12345\n"
     ]
    },
    {
     "name": "stdout",
     "output_type": "stream",
     "text": [
      "Reversed number: 54321\n"
     ]
    }
   ],
   "source": [
    "# Question 7:\n",
    "             # If a five-digit number is input through the keyboard, write a program to reverse the number\n",
    "try:\n",
    "    # Input: A five-digit number\n",
    "    number = int(input(\"Enter a five-digit number: \"))\n",
    "    \n",
    "    # Extract each digit\n",
    "    digit1 = number // 10000          # First digit\n",
    "    digit2 = (number // 1000) % 10    # Second digit\n",
    "    digit3 = (number // 100) % 10     # Third digit\n",
    "    digit4 = (number // 10) % 10      # Fourth digit\n",
    "    digit5 = number % 10              # Fifth digit\n",
    "    \n",
    "    # Reconstruct the reversed number\n",
    "    reversed_number = digit5 * 10000 + digit4 * 1000 + digit3 * 100 + digit2 * 10 + digit1\n",
    "    \n",
    "    # Output the reversed number\n",
    "    print(f\"Reversed number: {reversed_number}\")\n",
    "except Exception as e:\n",
    "    print(e)\n",
    "    \n"
   ]
  },
  {
   "cell_type": "code",
   "execution_count": 132,
   "id": "6fa5e901-31a0-4c3a-9764-8d39c99b591e",
   "metadata": {},
   "outputs": [
    {
     "name": "stdin",
     "output_type": "stream",
     "text": [
      "Enter a five-digit number:  1234\n"
     ]
    },
    {
     "name": "stdout",
     "output_type": "stream",
     "text": [
      "Reversed number: 43210\n"
     ]
    }
   ],
   "source": [
    "#### Question 8:\n",
    "            # If a four-digit number is input through the keyboard, write a program to obtain the sum of the \n",
    "            # first and last digit of this number.\n",
    "try:\n",
    "    \n",
    "    # Input: A four-digit number\n",
    "    number = int(input(\"Enter a four-digit number: \"))\n",
    "    \n",
    "    # Extract the first and last digits\n",
    "    first_digit = number // 1000      # First digit\n",
    "    last_digit = number % 10          # Last digit\n",
    "    \n",
    "    # Calculate the sum of the first and last digits\n",
    "    sum_digits = first_digit + last_digit\n",
    "    \n",
    "    # Output the result\n",
    "    print(f\"Sum of the first and last digits: {sum_digits}\")\n",
    "except Exception as e:\n",
    "    print(e)\n",
    "\n"
   ]
  },
  {
   "cell_type": "code",
   "execution_count": 103,
   "id": "4f9c0889-6a92-4e77-bcf5-f8b9318cd3e8",
   "metadata": {
    "scrolled": true
   },
   "outputs": [
    {
     "name": "stdout",
     "output_type": "stream",
     "text": [
      "Total number of illiterate men: 136000\n",
      "Total number of illiterate women: 280000\n"
     ]
    }
   ],
   "source": [
    "# Question 9:\n",
    "            # In a town, the percentage of men is 52%. The percentage of total literacy is 48%. If the total percentage \n",
    "            # of literate men is 35% of the total population. Write a program to find the total number of illiterate \n",
    "            # men and women, if the population of the town is 800000.\n",
    "try:\n",
    "    # Given data\n",
    "    total_population = 800000\n",
    "    percentage_men = 52\n",
    "    percentage_literacy = 48\n",
    "    percentage_literate_men = 35\n",
    "    \n",
    "    # Step 1: Calculate the number of men and women in the town\n",
    "    number_of_men = (percentage_men / 100) * total_population\n",
    "    number_of_women = total_population - number_of_men\n",
    "    \n",
    "    # Step 2: Calculate the number of literate people in the town\n",
    "    total_literate = (percentage_literacy / 100) * total_population\n",
    "    \n",
    "    # Step 3: Calculate the number of literate men\n",
    "    literate_men = (percentage_literate_men / 100) * total_population\n",
    "    \n",
    "    # Step 4: Calculate the number of literate women\n",
    "    literate_women = total_literate - literate_men\n",
    "    \n",
    "    # Step 5: Calculate the number of illiterate men and women\n",
    "    illiterate_men = number_of_men - literate_men\n",
    "    illiterate_women = number_of_women - literate_women\n",
    "    \n",
    "    # Output the results\n",
    "    print(f\"Total number of illiterate men: {int(illiterate_men)}\")\n",
    "    print(f\"Total number of illiterate women: {int(illiterate_women)}\")\n",
    "except Execution as e:\n",
    "    print(e)\n"
   ]
  },
  {
   "cell_type": "code",
   "execution_count": 115,
   "id": "1e53cc5c-92f2-4fba-b6c3-bb3f85d14b08",
   "metadata": {},
   "outputs": [
    {
     "name": "stdin",
     "output_type": "stream",
     "text": [
      "Enter the amount to be withdrawn (in hundreds):  2343.343\n"
     ]
    },
    {
     "name": "stdout",
     "output_type": "stream",
     "text": [
      "Number of 100 notes: 2343.0\n",
      "Number of 50 notes: 0.0\n",
      "Number of 10 notes: 3.0\n"
     ]
    }
   ],
   "source": [
    "# Question 10:\n",
    "            # A cashier has currency notes of denominations 10, 50, and 100. If the amount to be withdrawn is input\n",
    "            # through the keyboard in hundreds. find the total number of currency notes of  each denomination the \n",
    "            # The cashier will have to give to the withdrawer.\n",
    "try:\n",
    "    # Input: Amount to be withdrawn in hundreds\n",
    "    amount_in_hundreds = eval(input(\"Enter the amount to be withdrawn (in hundreds): \"))\n",
    "    \n",
    "    # Convert the amount to actual value (e.g., 500 hundreds = 50000)\n",
    "    amount = amount_in_hundreds * 100\n",
    "    \n",
    "    # Denominations in list\n",
    "    denominations = [100, 50, 10]\n",
    "    \n",
    "    # Initialize a dictionary to store the count of each denomination\n",
    "    notes_count = {}\n",
    "    \n",
    "    # Calculate the number of notes for each denomination\n",
    "    for denom in denominations:\n",
    "        if amount >= denom:\n",
    "            notes_count[denom] = amount // denom\n",
    "            amount = amount % denom\n",
    "        else:\n",
    "            notes_count[denom] = 0\n",
    "    \n",
    "    # Output the results\n",
    "    print(f\"Number of 100 notes: {notes_count[100]:.1f}\")\n",
    "    print(f\"Number of 50 notes: {notes_count[50]:.1f}\")\n",
    "    print(f\"Number of 10 notes: {notes_count[10]:.1f}\")\n",
    "except Exception as e:\n",
    "    print(e)\n",
    "                  "
   ]
  }
 ],
 "metadata": {
  "kernelspec": {
   "display_name": "Python [conda env:base] *",
   "language": "python",
   "name": "conda-base-py"
  },
  "language_info": {
   "codemirror_mode": {
    "name": "ipython",
    "version": 3
   },
   "file_extension": ".py",
   "mimetype": "text/x-python",
   "name": "python",
   "nbconvert_exporter": "python",
   "pygments_lexer": "ipython3",
   "version": "3.12.7"
  }
 },
 "nbformat": 4,
 "nbformat_minor": 5
}
