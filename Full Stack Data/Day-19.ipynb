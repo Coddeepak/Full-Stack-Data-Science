{
 "cells": [
  {
   "cell_type": "code",
   "execution_count": 8,
   "id": "802621d7-a1fe-44ad-974f-36abaa26ed0e",
   "metadata": {},
   "outputs": [
    {
     "name": "stdout",
     "output_type": "stream",
     "text": [
      "The sum of first 10 natural numbers is 55\n"
     ]
    }
   ],
   "source": [
    "# WAP ask the user get the  sum of 10 natural numbers\n",
    "# 1-2-3-4-5-6-7-8-9-10\n",
    "def s_n():\n",
    "    summ= 0\n",
    "    for i in range(1,11):\n",
    "        summ += i\n",
    "    print(f\"The sum of first 10 natural numbers is {summ}\")\n",
    "s_n()\n",
    "# Dry run\n",
    "            # 0+1 = 1\n",
    "            # 1+2 = 3\n",
    "            # 3+3 = 6\n",
    "            # 6+4 = 10\n",
    "            # 10+5 = 15\n",
    "            # 15+6 = 21\n",
    "            # 21+7 = 28\n",
    "            # 28+8 = 36\n",
    "            # 36+9 = 45\n",
    "            # 45+10 = 55"
   ]
  },
  {
   "cell_type": "code",
   "execution_count": null,
   "id": "ae69a279-b836-4ed8-b921-2e7e89105433",
   "metadata": {},
   "outputs": [],
   "source": [
    "# whenever if you want implement counter program\n",
    "\n",
    "# summ program\n",
    "\n",
    "# initialize the variable with zero\n",
    "\n",
    "# like: summ = 0 and count  = 0\n",
    "\n",
    "# Inside the loop based on the problem update the varaiable\n"
   ]
  },
  {
   "cell_type": "code",
   "execution_count": 10,
   "id": "368f6dbe-ea09-417f-bff9-c7873593bd96",
   "metadata": {},
   "outputs": [
    {
     "name": "stdout",
     "output_type": "stream",
     "text": [
      "The given 17 is Odd\n",
      "The given 11 is Odd\n",
      "The given 22 is Even\n",
      "The given 25 is Odd\n",
      "The given 13 is Odd\n",
      "The total odd number is 4\n",
      "The total even number is 1\n"
     ]
    }
   ],
   "source": [
    "import random\n",
    "e_count = 0\n",
    "o_count = 0\n",
    "for i in range(5):\n",
    "    num = random.randint(10,30)\n",
    "    if num%2 == 0:\n",
    "        print(f\"The given {num} is Even\")\n",
    "        e_count+=1\n",
    "    else:\n",
    "        print(f\"The given {num} is Odd\")\n",
    "        o_count+=1\n",
    "\n",
    "print(f\"The total odd number is {o_count}\")\n",
    "print(f\"The total even number is {e_count}\")\n"
   ]
  },
  {
   "cell_type": "code",
   "execution_count": 12,
   "id": "1b699552-c63d-4c62-8747-b1bc4c21170d",
   "metadata": {},
   "outputs": [
    {
     "name": "stdout",
     "output_type": "stream",
     "text": [
      "73\n",
      "82\n",
      "The number of the values more than 50 is 2\n"
     ]
    }
   ],
   "source": [
    "# WAP ask the user take a number between 1 to 99\n",
    "# iterate the loop 10 times\n",
    "# count how many  times a number is coming and greater than 50\n",
    "import random\n",
    "\n",
    "count = 0\n",
    "for i in range(10):\n",
    "    num = random.randint(1,100)\n",
    "    if num>50:\n",
    "        print(num)\n",
    "        count+=1\n",
    "print(f\"The number of the values more than 50 is {count}\")\n"
   ]
  },
  {
   "cell_type": "code",
   "execution_count": 15,
   "id": "738249cc-1327-4061-ac45-dffa18e90739",
   "metadata": {},
   "outputs": [
    {
     "name": "stdin",
     "output_type": "stream",
     "text": [
      "Enter which number divisor you want to know: 23\n"
     ]
    },
    {
     "name": "stdout",
     "output_type": "stream",
     "text": [
      "23 is divisible by 1\n",
      "23 is divisible by 23\n",
      "The number of divisors are:2\n",
      "The number of divisors are:21\n"
     ]
    }
   ],
   "source": [
    "# Number of divisors program\n",
    "# 10 is divisible by what numbers\n",
    "# 10/1 10/2 10/5 10/10\n",
    "\n",
    "def div():\n",
    "    d_count = 0\n",
    "    n_count = 0\n",
    "    num = eval(input(\"Enter which number divisor you want to know:\"))\n",
    "    for i in range(1,num+1):\n",
    "        if num%i == 0:\n",
    "            print(f\"{num} is divisible by {i}\")\n",
    "            d_count+=1\n",
    "        else:\n",
    "            n_count +=1\n",
    "    return(d_count,n_count)\n",
    "val1,val2 = div()\n",
    "print(f\"The number of divisors are:{val1}\")\n",
    "print(f\"The number of divisors are:{val}\")"
   ]
  },
  {
   "cell_type": "code",
   "execution_count": 12,
   "id": "2ab8ddfe-299f-46d6-a253-77ec0885bca7",
   "metadata": {},
   "outputs": [
    {
     "name": "stdin",
     "output_type": "stream",
     "text": [
      "Enter which number divisors want you know: 12\n"
     ]
    },
    {
     "name": "stdout",
     "output_type": "stream",
     "text": [
      "1\n",
      "12 is divisible by 1\n",
      "2\n",
      "12 is divisible by 2\n",
      "3\n",
      "12 is divisible by 3\n",
      "4\n",
      "12 is divisible by 4\n",
      "5\n",
      "6\n",
      "12 is divisible by 6\n",
      "7\n",
      "8\n",
      "9\n",
      "10\n",
      "11\n",
      "12\n",
      "12 is divisible by 12\n",
      "6 0\n"
     ]
    }
   ],
   "source": [
    "\n",
    "def condition(num,d_count,n_count,i):\n",
    "    if num%i == 0:\n",
    "        print(f\"{num} is divisible by {i}\")\n",
    "        d_count+=1\n",
    "    else:\n",
    "        n_count +=1\n",
    "    return(d_count,n_count)\n",
    "def div():\n",
    "    d_count = 0\n",
    "    n_count = 0\n",
    "    num = eval(input(\"Enter which number divisors want you know:\"))\n",
    "    for i in range(1,num+1):\n",
    "        print(i)\n",
    "        d_count,n_cound = condition(num,d_count,n_count,i)\n",
    "    return(d_count,n_count,)\n",
    "val1,val2 = div()\n",
    "print(val1,val2)\n",
    "    "
   ]
  },
  {
   "cell_type": "markdown",
   "id": "6a6483b3-67aa-447d-936a-f7443fe10065",
   "metadata": {},
   "source": [
    "#==============  Basic Python  =============#\n",
    "- Basic syntax\n",
    "- data types\n",
    "- type casting\n",
    "- overview of packages\n",
    "- random/math\n",
    "- eval input end sep\n",
    "- conditional if-else\n",
    "- functions\n",
    "- try exception\n",
    "- for\n",
    "- while\n",
    "\n",
    "#=================\n",
    "    strings \n",
    "    list\n",
    "    dictionary\n",
    "    tuple\n",
    "    set lambda function\n",
    "    file handling session\n",
    "==========================================\n",
    "\n",
    "    statistics : theory\n",
    "\n",
    "EDA with python:\n",
    "    pandaas\n",
    "    numpy\n",
    "    matplot"
   ]
  },
  {
   "cell_type": "markdown",
   "id": "3fb378ac-048e-4edd-baa3-8cb1f1bee62c",
   "metadata": {},
   "source": [
    "# While loop\n",
    "# Any loop, we need three things\n",
    "- Initialization\n",
    "\n",
    "- Condition\n",
    "\n",
    "- Increment/decrement"
   ]
  },
  {
   "cell_type": "code",
   "execution_count": 28,
   "id": "e91ec905-fabd-4a09-82e0-5603d8dadee3",
   "metadata": {},
   "outputs": [
    {
     "name": "stdout",
     "output_type": "stream",
     "text": [
      "1\n",
      "2\n",
      "3\n",
      "4\n",
      "5\n",
      "6\n",
      "7\n",
      "8\n",
      "9\n"
     ]
    }
   ],
   "source": [
    "for i in range(1,10):\n",
    "    print(i) \n",
    "    \n",
    "\n",
    "# but in while loop we need to provide all three are individually \n"
   ]
  },
  {
   "cell_type": "code",
   "execution_count": 32,
   "id": "82300963-625f-4a31-9557-36fa9261e13e",
   "metadata": {},
   "outputs": [],
   "source": [
    "i = 0  # initial point\n",
    "while <condition>:\n",
    "    # st1\n",
    "    # st2\n",
    "    # st3\n",
    "\n",
    "    i+=1\n",
    "    "
   ]
  },
  {
   "cell_type": "code",
   "execution_count": 38,
   "id": "45ee51d1-b3b1-4da9-a9a1-024474e56a4d",
   "metadata": {},
   "outputs": [
    {
     "name": "stdout",
     "output_type": "stream",
     "text": [
      "0 1 2 3 4 5 6 7 8 9 "
     ]
    }
   ],
   "source": [
    "i = 0\n",
    "while i<10:\n",
    "    print(i,end=' ')\n",
    "    i=i+1"
   ]
  },
  {
   "cell_type": "code",
   "execution_count": 42,
   "id": "69831a0d-5583-4a39-a233-807fd9046407",
   "metadata": {},
   "outputs": [
    {
     "name": "stdout",
     "output_type": "stream",
     "text": [
      "0 1 2 3 4 5 6 7 8 9 10 11 12 13 14 15 16 17 18 19 20 "
     ]
    }
   ],
   "source": [
    "i = 0\n",
    "while i<21:\n",
    "    print(i,end= ' ')\n",
    "    i=i+1 "
   ]
  },
  {
   "cell_type": "code",
   "execution_count": 1,
   "id": "8a6b9ca5-646f-4295-9965-d4785d7b6a5c",
   "metadata": {},
   "outputs": [
    {
     "name": "stdout",
     "output_type": "stream",
     "text": [
      "-1 -2 -3 -4 -5 -6 -7 -8 -9 -10 "
     ]
    }
   ],
   "source": [
    "i = -1\n",
    "while i>-11:\n",
    "    print(i,end=' ')\n",
    "    i=i-1"
   ]
  },
  {
   "cell_type": "code",
   "execution_count": 3,
   "id": "628747cb-c91b-45e3-a713-fe6e6e683613",
   "metadata": {},
   "outputs": [
    {
     "name": "stdout",
     "output_type": "stream",
     "text": [
      "-1 -2 -3 -4 -5 -6 -7 -8 -9 -10 "
     ]
    }
   ],
   "source": [
    "i = -1\n",
    "while True:\n",
    "    print(i,end=' ')\n",
    "    i = i-1\n",
    "    if i==-11:\n",
    "        break"
   ]
  },
  {
   "cell_type": "code",
   "execution_count": 7,
   "id": "c5953414-78e4-4fdb-be86-b1b733f3c9d8",
   "metadata": {},
   "outputs": [
    {
     "name": "stdin",
     "output_type": "stream",
     "text": [
      "Enter the number: 1\n"
     ]
    },
    {
     "name": "stdout",
     "output_type": "stream",
     "text": [
      "Square of 1 is 1\n"
     ]
    },
    {
     "name": "stdin",
     "output_type": "stream",
     "text": [
      "Enter the number: 2\n"
     ]
    },
    {
     "name": "stdout",
     "output_type": "stream",
     "text": [
      "Square of 2 is 4\n"
     ]
    },
    {
     "name": "stdin",
     "output_type": "stream",
     "text": [
      "Enter the number: 3\n"
     ]
    },
    {
     "name": "stdout",
     "output_type": "stream",
     "text": [
      "Square of 3 is 9\n"
     ]
    },
    {
     "name": "stdin",
     "output_type": "stream",
     "text": [
      "Enter the number: 4\n"
     ]
    },
    {
     "name": "stdout",
     "output_type": "stream",
     "text": [
      "Square of 4 is 16\n"
     ]
    },
    {
     "name": "stdin",
     "output_type": "stream",
     "text": [
      "Enter the number: 5\n"
     ]
    },
    {
     "name": "stdout",
     "output_type": "stream",
     "text": [
      "Square of 5 is 25\n"
     ]
    }
   ],
   "source": [
    "# Ask the user enter 5 times\n",
    "# print the square of the numbers\n",
    "for i in range(5):\n",
    "    n = eval(input(\"Enter the number:\"))\n",
    "    print(f\"Square of {n} is {n*n}\")\n"
   ]
  },
  {
   "cell_type": "code",
   "execution_count": 9,
   "id": "168f4efe-3e8d-4ed1-bcc7-000b032ab8a0",
   "metadata": {},
   "outputs": [
    {
     "name": "stdin",
     "output_type": "stream",
     "text": [
      "Enter the number: 1\n"
     ]
    },
    {
     "name": "stdout",
     "output_type": "stream",
     "text": [
      "Square of 1 is 1\n"
     ]
    },
    {
     "name": "stdin",
     "output_type": "stream",
     "text": [
      "Enter the number: 2\n"
     ]
    },
    {
     "name": "stdout",
     "output_type": "stream",
     "text": [
      "Square of 2 is 4\n"
     ]
    },
    {
     "name": "stdin",
     "output_type": "stream",
     "text": [
      "Enter the number: 3\n"
     ]
    },
    {
     "name": "stdout",
     "output_type": "stream",
     "text": [
      "Square of 3 is 9\n"
     ]
    },
    {
     "name": "stdin",
     "output_type": "stream",
     "text": [
      "Enter the number: 4\n"
     ]
    },
    {
     "name": "stdout",
     "output_type": "stream",
     "text": [
      "Square of 4 is 16\n"
     ]
    },
    {
     "name": "stdin",
     "output_type": "stream",
     "text": [
      "Enter the number: 5\n"
     ]
    },
    {
     "name": "stdout",
     "output_type": "stream",
     "text": [
      "Square of 5 is 25\n"
     ]
    }
   ],
   "source": [
    "i=0\n",
    "while i<5:\n",
    "    n = eval(input(\"Enter the number:\"))\n",
    "    print(f\"Square of {n} is {n*n}\")\n",
    "    i+=1\n"
   ]
  },
  {
   "cell_type": "code",
   "execution_count": 1,
   "id": "537910ba-62c4-4656-8574-9c299bf47d5e",
   "metadata": {},
   "outputs": [
    {
     "name": "stdout",
     "output_type": "stream",
     "text": [
      "Square of 16 is 256\n",
      "Square of 12 is 144\n",
      "Square of 15 is 225\n",
      "Square of 12 is 144\n",
      "Square of 15 is 225\n"
     ]
    }
   ],
   "source": [
    "# WAP take a random number 10 to 20 and print square of the number \n",
    "import random\n",
    "i = 0\n",
    "while i<5:\n",
    "    n = random.randint(10,20)\n",
    "    print(f\"Square of {n} is {n*n}\")\n",
    "    i+=1"
   ]
  },
  {
   "cell_type": "code",
   "execution_count": 7,
   "id": "0ace3301-e2c1-43fc-bc43-7923d25a942c",
   "metadata": {},
   "outputs": [
    {
     "name": "stdout",
     "output_type": "stream",
     "text": [
      "20 is even number\n",
      "16 is even number\n",
      "15 is odd number\n",
      "16 is even number\n",
      "10 is even number\n",
      "18 is even number\n",
      "12 is even number\n",
      "14 is even number\n",
      "19 is odd number\n",
      "16 is even number\n",
      "18 is even number\n"
     ]
    }
   ],
   "source": [
    "# WAP ask the user print a number is odd or even\n",
    "import random\n",
    "i = 10\n",
    "while i<21:\n",
    "    i+=1\n",
    "    n = random.randint(10,20)\n",
    "    if n%2 == 0:\n",
    "        print(f\"{n} is even number\")\n",
    "    else:\n",
    "        print(f\"{n} is odd number\")\n",
    "\n",
    "    "
   ]
  },
  {
   "cell_type": "code",
   "execution_count": 11,
   "id": "cf39dc7f-c17b-40bb-9798-e33c2b5836eb",
   "metadata": {},
   "outputs": [
    {
     "name": "stdout",
     "output_type": "stream",
     "text": [
      "Sum is: 55\n"
     ]
    }
   ],
   "source": [
    "# sum of first 10 natural numbers\n",
    "s = 0\n",
    "i = 1\n",
    "while i<=10:\n",
    "    s+=i\n",
    "    i+=1\n",
    "print(f\"Sum is: {s}\")"
   ]
  },
  {
   "cell_type": "code",
   "execution_count": 3,
   "id": "26bbc22c-14b3-476a-8279-7b2365762b5c",
   "metadata": {},
   "outputs": [
    {
     "name": "stdout",
     "output_type": "stream",
     "text": [
      "39\n",
      "94\n",
      "54\n",
      "88\n",
      "5\n",
      "87\n",
      "69\n",
      "91\n",
      "61\n",
      "77\n",
      "The sum of random 10 is 665\n"
     ]
    }
   ],
   "source": [
    "# WAP get 10 random numbers between 1 to 100 and sum them\n",
    "import random\n",
    "i = 0\n",
    "s = 0\n",
    "while i<10:\n",
    "    n = random.randint(1,100)\n",
    "    print(n)\n",
    "    s += n\n",
    "    i+=1\n",
    "print(f\"The sum of random 10 is {s}\")\n",
    "    "
   ]
  },
  {
   "cell_type": "code",
   "execution_count": 1,
   "id": "db14f52d-6355-47dd-866e-a8350c4422be",
   "metadata": {},
   "outputs": [
    {
     "name": "stdout",
     "output_type": "stream",
     "text": [
      "6 numbers is greater than 50\n"
     ]
    }
   ],
   "source": [
    "# WAP ask the user get 10 random number between 10 to 100\n",
    "# count how many are greater than 50\n",
    "import random\n",
    "i = 0\n",
    "count = 0\n",
    "while i<10:\n",
    "    n = random.randint(10,100)\n",
    "    if n > 50:\n",
    "        count+=1\n",
    "    i+=1\n",
    "print(f\"{count} numbers is greater than 50\")"
   ]
  },
  {
   "cell_type": "code",
   "execution_count": null,
   "id": "5f2843a2-f2b4-418b-99b1-d55c686f8590",
   "metadata": {},
   "outputs": [],
   "source": []
  }
 ],
 "metadata": {
  "kernelspec": {
   "display_name": "Python [conda env:base] *",
   "language": "python",
   "name": "conda-base-py"
  },
  "language_info": {
   "codemirror_mode": {
    "name": "ipython",
    "version": 3
   },
   "file_extension": ".py",
   "mimetype": "text/x-python",
   "name": "python",
   "nbconvert_exporter": "python",
   "pygments_lexer": "ipython3",
   "version": "3.12.7"
  }
 },
 "nbformat": 4,
 "nbformat_minor": 5
}
