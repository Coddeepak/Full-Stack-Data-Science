{
 "cells": [
  {
   "cell_type": "code",
   "execution_count": 2,
   "id": "295b8759-ba22-4631-9ab4-6e2b32ce9a9e",
   "metadata": {},
   "outputs": [
    {
     "name": "stdin",
     "output_type": "stream",
     "text": [
      "Enter a number1: 100\n",
      "Enter a number2: 123\n"
     ]
    },
    {
     "name": "stdout",
     "output_type": "stream",
     "text": [
      "223\n"
     ]
    }
   ],
   "source": [
    "num1 = eval(input(\"Enter a number1:\"))\n",
    "num2 = eval(input(\"Enter a number2:\"))\n",
    "add = num1+num2\n",
    "print(add)"
   ]
  },
  {
   "cell_type": "code",
   "execution_count": 4,
   "id": "b390b21b-6632-4c42-b09f-2a40ad792a29",
   "metadata": {},
   "outputs": [
    {
     "name": "stdin",
     "output_type": "stream",
     "text": [
      "Enter a number1: 100\n",
      "Enter a number2: 23\n"
     ]
    },
    {
     "ename": "NameError",
     "evalue": "name 'num3' is not defined",
     "output_type": "error",
     "traceback": [
      "\u001b[0;31m---------------------------------------------------------------------------\u001b[0m",
      "\u001b[0;31mNameError\u001b[0m                                 Traceback (most recent call last)",
      "Cell \u001b[0;32mIn[4], line 4\u001b[0m\n\u001b[1;32m      2\u001b[0m num1 \u001b[38;5;241m=\u001b[39m \u001b[38;5;28meval\u001b[39m(\u001b[38;5;28minput\u001b[39m(\u001b[38;5;124m\"\u001b[39m\u001b[38;5;124mEnter a number1:\u001b[39m\u001b[38;5;124m\"\u001b[39m))\n\u001b[1;32m      3\u001b[0m num2 \u001b[38;5;241m=\u001b[39m \u001b[38;5;28meval\u001b[39m(\u001b[38;5;28minput\u001b[39m(\u001b[38;5;124m\"\u001b[39m\u001b[38;5;124mEnter a number2:\u001b[39m\u001b[38;5;124m\"\u001b[39m))\n\u001b[0;32m----> 4\u001b[0m add \u001b[38;5;241m=\u001b[39m num1\u001b[38;5;241m+\u001b[39mnum3\n\u001b[1;32m      5\u001b[0m \u001b[38;5;28mprint\u001b[39m(add)\n",
      "\u001b[0;31mNameError\u001b[0m: name 'num3' is not defined"
     ]
    }
   ],
   "source": [
    "#Error 1: name 'num3\" not defined\n",
    "num1 = eval(input(\"Enter a number1:\"))\n",
    "num2 = eval(input(\"Enter a number2:\"))\n",
    "add = num1+num3\n",
    "print(add)"
   ]
  },
  {
   "cell_type": "code",
   "execution_count": 8,
   "id": "5960189b-9e38-43f4-a2ce-dbffbdd1c3f1",
   "metadata": {},
   "outputs": [
    {
     "ename": "SyntaxError",
     "evalue": "'(' was never closed (3491321145.py, line 2)",
     "output_type": "error",
     "traceback": [
      "\u001b[0;36m  Cell \u001b[0;32mIn[8], line 2\u001b[0;36m\u001b[0m\n\u001b[0;31m    num1 = eval(input(\"Enter a number1:\")\u001b[0m\n\u001b[0m               ^\u001b[0m\n\u001b[0;31mSyntaxError\u001b[0m\u001b[0;31m:\u001b[0m '(' was never closed\n"
     ]
    }
   ],
   "source": [
    "#Error 2: syntax error '(' was never closed\n",
    "num1 = eval(input(\"Enter a number1:\")\n",
    "num2 = eval(input(\"Enter a number2:\"))\n",
    "add = num1+num2\n",
    "print(add)"
   ]
  },
  {
   "cell_type": "code",
   "execution_count": 12,
   "id": "531f0058-bf91-4466-93ad-4732b9d9990e",
   "metadata": {},
   "outputs": [
    {
     "name": "stdin",
     "output_type": "stream",
     "text": [
      "Enter a number1: 100\n",
      "Enter a number2: 0\n"
     ]
    },
    {
     "ename": "ZeroDivisionError",
     "evalue": "division by zero",
     "output_type": "error",
     "traceback": [
      "\u001b[0;31m---------------------------------------------------------------------------\u001b[0m",
      "\u001b[0;31mZeroDivisionError\u001b[0m                         Traceback (most recent call last)",
      "Cell \u001b[0;32mIn[12], line 3\u001b[0m\n\u001b[1;32m      1\u001b[0m num1 \u001b[38;5;241m=\u001b[39m \u001b[38;5;28meval\u001b[39m(\u001b[38;5;28minput\u001b[39m(\u001b[38;5;124m\"\u001b[39m\u001b[38;5;124mEnter a number1:\u001b[39m\u001b[38;5;124m\"\u001b[39m))\n\u001b[1;32m      2\u001b[0m num2 \u001b[38;5;241m=\u001b[39m \u001b[38;5;28meval\u001b[39m(\u001b[38;5;28minput\u001b[39m(\u001b[38;5;124m\"\u001b[39m\u001b[38;5;124mEnter a number2:\u001b[39m\u001b[38;5;124m\"\u001b[39m))\n\u001b[0;32m----> 3\u001b[0m div \u001b[38;5;241m=\u001b[39m num1\u001b[38;5;241m/\u001b[39mnum2\n\u001b[1;32m      4\u001b[0m \u001b[38;5;28mprint\u001b[39m(div)\n",
      "\u001b[0;31mZeroDivisionError\u001b[0m: division by zero"
     ]
    }
   ],
   "source": [
    "#Error 3: ZeroDivisionError: division by zero\n",
    "num1 = eval(input(\"Enter a number1:\"))\n",
    "num2 = eval(input(\"Enter a number2:\"))\n",
    "div = num1/num2\n",
    "print(div)"
   ]
  },
  {
   "cell_type": "code",
   "execution_count": 14,
   "id": "a391df05-7b3f-4424-991b-6064fd356579",
   "metadata": {},
   "outputs": [
    {
     "name": "stdin",
     "output_type": "stream",
     "text": [
      "Enter a number1: 100\n",
      "Enter a number2: 34\n"
     ]
    },
    {
     "ename": "TypeError",
     "evalue": "unsupported operand type(s) for /: 'str' and 'int'",
     "output_type": "error",
     "traceback": [
      "\u001b[0;31m---------------------------------------------------------------------------\u001b[0m",
      "\u001b[0;31mTypeError\u001b[0m                                 Traceback (most recent call last)",
      "Cell \u001b[0;32mIn[14], line 3\u001b[0m\n\u001b[1;32m      1\u001b[0m num1 \u001b[38;5;241m=\u001b[39m (\u001b[38;5;28minput\u001b[39m(\u001b[38;5;124m\"\u001b[39m\u001b[38;5;124mEnter a number1:\u001b[39m\u001b[38;5;124m\"\u001b[39m))\n\u001b[1;32m      2\u001b[0m num2 \u001b[38;5;241m=\u001b[39m \u001b[38;5;28meval\u001b[39m(\u001b[38;5;28minput\u001b[39m(\u001b[38;5;124m\"\u001b[39m\u001b[38;5;124mEnter a number2:\u001b[39m\u001b[38;5;124m\"\u001b[39m))\n\u001b[0;32m----> 3\u001b[0m div \u001b[38;5;241m=\u001b[39m num1\u001b[38;5;241m/\u001b[39mnum2\n\u001b[1;32m      4\u001b[0m \u001b[38;5;28mprint\u001b[39m(div)\n",
      "\u001b[0;31mTypeError\u001b[0m: unsupported operand type(s) for /: 'str' and 'int'"
     ]
    }
   ],
   "source": [
    "\n",
    "#TypeError: unsupported operand type(s) for /: 'str' and 'int'num1 = (input(\"Enter a number1:\"))\n",
    "num2 = eval(input(\"Enter a number2:\"))\n",
    "div = num1/num2\n",
    "print(div)"
   ]
  },
  {
   "cell_type": "code",
   "execution_count": 16,
   "id": "621525c2-f333-487d-911b-6b561219a166",
   "metadata": {},
   "outputs": [
    {
     "ename": "SyntaxError",
     "evalue": "Missing parentheses in call to 'print'. Did you mean print(...)? (3825511512.py, line 4)",
     "output_type": "error",
     "traceback": [
      "\u001b[0;36m  Cell \u001b[0;32mIn[16], line 4\u001b[0;36m\u001b[0m\n\u001b[0;31m    print div\u001b[0m\n\u001b[0m    ^\u001b[0m\n\u001b[0;31mSyntaxError\u001b[0m\u001b[0;31m:\u001b[0m Missing parentheses in call to 'print'. Did you mean print(...)?\n"
     ]
    }
   ],
   "source": [
    "# SyntaxError: Missing parentheses in call to 'print'. Did you mean print(...)?\n",
    "num1 = eval(input(\"Enter a number1:\"))\n",
    "num2 = eval(input(\"Enter a number2:\"))\n",
    "div = num1/num2\n",
    "print div"
   ]
  },
  {
   "cell_type": "markdown",
   "id": "d8739e75-9d6e-4db9-b393-ef4b143924ed",
   "metadata": {},
   "source": [
    "### Possible Errors:\n",
    "\n",
    "- Name error\n",
    "- Syntax error: '(' was never closed\n",
    "- Zero division error: division by zero\n",
    "- Type error: unsupported operand type(s) for /:'str' and 'int'\n",
    "- Missing parentheses in call to 'print'. Did you mean print?\n"
   ]
  },
  {
   "cell_type": "markdown",
   "id": "68aac945-7643-4c25-9dfe-9b826a9e0b48",
   "metadata": {},
   "source": [
    "# try and except blocks\n"
   ]
  },
  {
   "cell_type": "code",
   "execution_count": 32,
   "id": "b4694e02-96fc-4b18-95c5-5e4a31a94d8e",
   "metadata": {},
   "outputs": [
    {
     "name": "stdout",
     "output_type": "stream",
     "text": [
      "30\n"
     ]
    }
   ],
   "source": [
    "try:\n",
    "    num = 10\n",
    "    num2 = 20\n",
    "    add = num + num2\n",
    "    print(add)\n",
    "except:\n",
    "    print(\"Error is in code, check code\")\n",
    "\n"
   ]
  },
  {
   "cell_type": "code",
   "execution_count": 38,
   "id": "5312e59a-cefc-4bf2-a08a-65a4c96e391d",
   "metadata": {},
   "outputs": [
    {
     "name": "stdout",
     "output_type": "stream",
     "text": [
      "Error is in code, check code\n"
     ]
    }
   ],
   "source": [
    "try:\n",
    "    num = 10\n",
    "    num2 = 0\n",
    "    add = num / num2\n",
    "    print(add)\n",
    "except:\n",
    "    print(\"Error is in code, check code\")\n",
    "\n"
   ]
  },
  {
   "cell_type": "code",
   "execution_count": 36,
   "id": "4e434a3b-76c9-461b-bacd-aa2b7cbf7fb4",
   "metadata": {},
   "outputs": [
    {
     "ename": "ZeroDivisionError",
     "evalue": "division by zero",
     "output_type": "error",
     "traceback": [
      "\u001b[0;31m---------------------------------------------------------------------------\u001b[0m",
      "\u001b[0;31mZeroDivisionError\u001b[0m                         Traceback (most recent call last)",
      "Cell \u001b[0;32mIn[36], line 3\u001b[0m\n\u001b[1;32m      1\u001b[0m num \u001b[38;5;241m=\u001b[39m \u001b[38;5;241m10\u001b[39m\n\u001b[1;32m      2\u001b[0m num2 \u001b[38;5;241m=\u001b[39m \u001b[38;5;241m0\u001b[39m\n\u001b[0;32m----> 3\u001b[0m add \u001b[38;5;241m=\u001b[39m num \u001b[38;5;241m/\u001b[39m num2\n\u001b[1;32m      4\u001b[0m \u001b[38;5;28mprint\u001b[39m(add)\n",
      "\u001b[0;31mZeroDivisionError\u001b[0m: division by zero"
     ]
    }
   ],
   "source": [
    "num = 10\n",
    "num2 = 0\n",
    "add = num / num2\n",
    "print(add)"
   ]
  },
  {
   "cell_type": "code",
   "execution_count": 42,
   "id": "ae37ceb4-9952-4f57-b824-d40a6decbc7b",
   "metadata": {},
   "outputs": [
    {
     "name": "stdin",
     "output_type": "stream",
     "text": [
      "Enter the number-1: 10\n",
      "Enter the number-2: 23\n",
      "Enter the number-3: 12\n"
     ]
    },
    {
     "name": "stdout",
     "output_type": "stream",
     "text": [
      "15.0\n"
     ]
    }
   ],
   "source": [
    "# WAP ask the user enter 3 numbers and find the average\n",
    "num1 = eval(input(\"Enter the number-1:\"))\n",
    "num2 = eval(input(\"Enter the number-2:\"))\n",
    "num3 = eval(input(\"Enter the number-3:\"))\n",
    "average = (num1+num2+num3)/3\n",
    "print(average)\n"
   ]
  },
  {
   "cell_type": "code",
   "execution_count": 46,
   "id": "5a9af944-5974-43af-9a68-d10717487018",
   "metadata": {},
   "outputs": [
    {
     "name": "stdin",
     "output_type": "stream",
     "text": [
      "Enter the number-1: 12\n",
      "Enter the number-2: 123\n",
      "Enter the number-3: 23\n"
     ]
    },
    {
     "name": "stdout",
     "output_type": "stream",
     "text": [
      "name 'num3333' is not defined\n"
     ]
    }
   ],
   "source": [
    "try:\n",
    "    num1 = eval(input(\"Enter the number-1:\"))\n",
    "    num2 = eval(input(\"Enter the number-2:\"))\n",
    "    num3 = eval(input(\"Enter the number-3:\"))\n",
    "    average = (num1+num2+num3333)/3\n",
    "    print(average)\n",
    "# except:\n",
    "#     print(\"Check the code\")\n",
    "except Exception as e:\n",
    "    print(e)\n"
   ]
  },
  {
   "cell_type": "code",
   "execution_count": 50,
   "id": "6159d205-3c34-4db0-8d23-b05223768403",
   "metadata": {},
   "outputs": [
    {
     "name": "stdin",
     "output_type": "stream",
     "text": [
      "Enter the number-1: 21\n",
      "Enter the number-2: 123\n",
      "Enter the number-3: 123\n"
     ]
    },
    {
     "name": "stdout",
     "output_type": "stream",
     "text": [
      "division by zero\n"
     ]
    }
   ],
   "source": [
    "try:\n",
    "    num1 = eval(input(\"Enter the number-1:\"))\n",
    "    num2 = eval(input(\"Enter the number-2:\"))\n",
    "    num3 = eval(input(\"Enter the number-3:\"))\n",
    "    average = (num1+num2+num3)/0\n",
    "    print(average)\n",
    "# except:\n",
    "#     print(\"Check the code\")\n",
    "except Exception as e:\n",
    "    print(e)\n"
   ]
  },
  {
   "cell_type": "code",
   "execution_count": 54,
   "id": "5b8fe830-3b82-4794-ad11-6b490aabb68a",
   "metadata": {},
   "outputs": [
    {
     "name": "stdin",
     "output_type": "stream",
     "text": [
      "Enter a number:  23\n"
     ]
    },
    {
     "name": "stdout",
     "output_type": "stream",
     "text": [
      "529\n"
     ]
    }
   ],
   "source": [
    "# WAP ask the user enter a number and find the square of the number.\n",
    "try:\n",
    "    n = eval(input(\"Enter a number: \"))\n",
    "    s = n*n\n",
    "    print(s)\n",
    "\n",
    "except Exception as e:\n",
    "    print(e)"
   ]
  },
  {
   "cell_type": "code",
   "execution_count": 60,
   "id": "68661e90-16b6-4717-a2ea-c3a39b7a4032",
   "metadata": {},
   "outputs": [
    {
     "name": "stdin",
     "output_type": "stream",
     "text": [
      "Enter a number:  23\n"
     ]
    },
    {
     "name": "stdout",
     "output_type": "stream",
     "text": [
      "name 'n1' is not defined\n"
     ]
    }
   ],
   "source": [
    "try:\n",
    "    n = eval(input(\"Enter a number: \"))\n",
    "    s = n*n1\n",
    "    print(\"The square of {} is {}\".format(n,s))\n",
    "\n",
    "except Exception as e:\n",
    "    print(e)"
   ]
  },
  {
   "cell_type": "code",
   "execution_count": 68,
   "id": "63120ab3-0a76-4d78-a749-cce066884569",
   "metadata": {},
   "outputs": [
    {
     "name": "stdin",
     "output_type": "stream",
     "text": [
      "Enter a number:  4\n"
     ]
    },
    {
     "name": "stdout",
     "output_type": "stream",
     "text": [
      "HI\n",
      "name 'n1' is not defined\n"
     ]
    },
    {
     "ename": "NameError",
     "evalue": "name 'Hello' is not defined",
     "output_type": "error",
     "traceback": [
      "\u001b[0;31m---------------------------------------------------------------------------\u001b[0m",
      "\u001b[0;31mNameError\u001b[0m                                 Traceback (most recent call last)",
      "Cell \u001b[0;32mIn[68], line 3\u001b[0m\n\u001b[1;32m      2\u001b[0m n \u001b[38;5;241m=\u001b[39m \u001b[38;5;28meval\u001b[39m(\u001b[38;5;28minput\u001b[39m(\u001b[38;5;124m\"\u001b[39m\u001b[38;5;124mEnter a number: \u001b[39m\u001b[38;5;124m\"\u001b[39m))\n\u001b[0;32m----> 3\u001b[0m s \u001b[38;5;241m=\u001b[39m n\u001b[38;5;241m*\u001b[39mn1\n\u001b[1;32m      4\u001b[0m \u001b[38;5;28mprint\u001b[39m(\u001b[38;5;124m\"\u001b[39m\u001b[38;5;124mThe square of \u001b[39m\u001b[38;5;132;01m{}\u001b[39;00m\u001b[38;5;124m is \u001b[39m\u001b[38;5;132;01m{}\u001b[39;00m\u001b[38;5;124m\"\u001b[39m\u001b[38;5;241m.\u001b[39mformat(n,s))\n",
      "\u001b[0;31mNameError\u001b[0m: name 'n1' is not defined",
      "\nDuring handling of the above exception, another exception occurred:\n",
      "\u001b[0;31mNameError\u001b[0m                                 Traceback (most recent call last)",
      "Cell \u001b[0;32mIn[68], line 9\u001b[0m\n\u001b[1;32m      7\u001b[0m     \u001b[38;5;28mprint\u001b[39m(\u001b[38;5;124m\"\u001b[39m\u001b[38;5;124mHI\u001b[39m\u001b[38;5;124m\"\u001b[39m)\n\u001b[1;32m      8\u001b[0m     \u001b[38;5;28mprint\u001b[39m(e)\n\u001b[0;32m----> 9\u001b[0m     \u001b[38;5;28mprint\u001b[39m(Hello)\n\u001b[1;32m     10\u001b[0m \u001b[38;5;28mprint\u001b[39m(\u001b[38;5;124m\"\u001b[39m\u001b[38;5;124mHello\u001b[39m\u001b[38;5;124m\"\u001b[39m)\n",
      "\u001b[0;31mNameError\u001b[0m: name 'Hello' is not defined"
     ]
    }
   ],
   "source": [
    "try:\n",
    "    n = eval(input(\"Enter a number: \"))\n",
    "    s = n*n1\n",
    "    print(\"The square of {} is {}\".format(n,s))\n",
    "\n",
    "except Exception as e:\n",
    "    print(\"HI\")\n",
    "    print(e)\n",
    "    print(Hello)\n",
    "print(\"Hello\")"
   ]
  }
 ],
 "metadata": {
  "kernelspec": {
   "display_name": "Python [conda env:base] *",
   "language": "python",
   "name": "conda-base-py"
  },
  "language_info": {
   "codemirror_mode": {
    "name": "ipython",
    "version": 3
   },
   "file_extension": ".py",
   "mimetype": "text/x-python",
   "name": "python",
   "nbconvert_exporter": "python",
   "pygments_lexer": "ipython3",
   "version": "3.12.7"
  }
 },
 "nbformat": 4,
 "nbformat_minor": 5
}
