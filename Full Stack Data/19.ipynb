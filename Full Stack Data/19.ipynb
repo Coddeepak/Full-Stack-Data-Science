{
 "cells": [
  {
   "cell_type": "markdown",
   "id": "6c36ba51-3a96-4f85-b07e-ee99c21aff5d",
   "metadata": {},
   "source": [
    "How to read the string"
   ]
  },
  {
   "cell_type": "code",
   "execution_count": 4,
   "id": "e776b371-1221-468f-857b-2c63c2bb0d81",
   "metadata": {},
   "outputs": [
    {
     "data": {
      "text/plain": [
       "'python'"
      ]
     },
     "execution_count": 4,
     "metadata": {},
     "output_type": "execute_result"
    }
   ],
   "source": [
    "string1 = 'python'   # single quote\n",
    "\n",
    "string1"
   ]
  },
  {
   "cell_type": "code",
   "execution_count": 6,
   "id": "a77e86fc-fb0f-431f-9ce6-0b05b9e9ee52",
   "metadata": {},
   "outputs": [
    {
     "data": {
      "text/plain": [
       "'python'"
      ]
     },
     "execution_count": 6,
     "metadata": {},
     "output_type": "execute_result"
    }
   ],
   "source": [
    "string2 = \"python\"  # double quote\n",
    "string2\n"
   ]
  },
  {
   "cell_type": "code",
   "execution_count": null,
   "id": "d6056664-8a6c-45dc-aeec-73bd91232862",
   "metadata": {},
   "outputs": [],
   "source": [
    "# Triple quotes\n",
    "Doc string is used to say some information about your Python code\n"
   ]
  },
  {
   "cell_type": "code",
   "execution_count": 8,
   "id": "e087edfc-caa6-4947-87c0-ca4b42e2dab5",
   "metadata": {},
   "outputs": [],
   "source": [
    "\"\"\"\n",
    "I am creating a hello world function\n",
    "arguments: None\n",
    "return: None\n",
    "\"\"\"\n",
    "def hello():\n",
    "    print(\"hello, world\")"
   ]
  },
  {
   "cell_type": "code",
   "execution_count": 10,
   "id": "f825c152-504b-42da-b0b9-3795d8549d09",
   "metadata": {},
   "outputs": [
    {
     "name": "stdout",
     "output_type": "stream",
     "text": [
      "hello,'python'\n"
     ]
    }
   ],
   "source": [
    "'hello python'   # I want highlight the python then\n",
    "string3 = \"hello,'python'\"\n",
    "print(string3)"
   ]
  },
  {
   "cell_type": "code",
   "execution_count": 12,
   "id": "890bf9fd-021c-4e1c-aeb2-cfd6a96e6333",
   "metadata": {},
   "outputs": [
    {
     "name": "stdout",
     "output_type": "stream",
     "text": [
      "hello,\"python\"\n"
     ]
    }
   ],
   "source": [
    "'hello python'   # I want highlight the python then\n",
    "string3 = 'hello,\"python\"'\n",
    "print(string3)"
   ]
  },
  {
   "cell_type": "markdown",
   "id": "63172001-1055-4036-b3a8-dfbe1560379b",
   "metadata": {},
   "source": [
    "- type\n",
    "- len\n",
    "- max\n",
    "- min"
   ]
  },
  {
   "cell_type": "code",
   "execution_count": 14,
   "id": "a13f29a3-a6c8-471e-aec8-72df8ed68400",
   "metadata": {},
   "outputs": [
    {
     "data": {
      "text/plain": [
       "'python'"
      ]
     },
     "execution_count": 14,
     "metadata": {},
     "output_type": "execute_result"
    }
   ],
   "source": [
    "string1"
   ]
  },
  {
   "cell_type": "code",
   "execution_count": 16,
   "id": "adfe647c-7f6f-4a97-bb69-7543ec6f9394",
   "metadata": {},
   "outputs": [
    {
     "data": {
      "text/plain": [
       "str"
      ]
     },
     "execution_count": 16,
     "metadata": {},
     "output_type": "execute_result"
    }
   ],
   "source": [
    "type(string1)"
   ]
  },
  {
   "cell_type": "code",
   "execution_count": 18,
   "id": "1cdf38cf-4c86-494a-8e5f-489fb98aff5c",
   "metadata": {},
   "outputs": [
    {
     "data": {
      "text/plain": [
       "6"
      ]
     },
     "execution_count": 18,
     "metadata": {},
     "output_type": "execute_result"
    }
   ],
   "source": [
    "len(string1)"
   ]
  },
  {
   "cell_type": "code",
   "execution_count": 20,
   "id": "e260bfc9-7c9c-4ffa-ad0d-a251f867c249",
   "metadata": {},
   "outputs": [
    {
     "data": {
      "text/plain": [
       "'y'"
      ]
     },
     "execution_count": 20,
     "metadata": {},
     "output_type": "execute_result"
    }
   ],
   "source": [
    "max(string1)\n",
    "# As per the ASCII value:"
   ]
  },
  {
   "cell_type": "code",
   "execution_count": 26,
   "id": "754f4ad5-da22-4d33-86aa-1537c56fea8e",
   "metadata": {},
   "outputs": [
    {
     "name": "stdout",
     "output_type": "stream",
     "text": [
      "y\n"
     ]
    }
   ],
   "source": [
    "print(max(string1))"
   ]
  },
  {
   "cell_type": "code",
   "execution_count": 22,
   "id": "7c7ede21-16ae-4bb3-8ee8-67a10d1ac49e",
   "metadata": {},
   "outputs": [
    {
     "data": {
      "text/plain": [
       "'h'"
      ]
     },
     "execution_count": 22,
     "metadata": {},
     "output_type": "execute_result"
    }
   ],
   "source": [
    "min(string1)"
   ]
  },
  {
   "cell_type": "code",
   "execution_count": 28,
   "id": "3a2c3b3d-94d5-4696-9dff-01c190307506",
   "metadata": {},
   "outputs": [
    {
     "data": {
      "text/plain": [
       "(112, 121, 116, 104, 111, 110)"
      ]
     },
     "execution_count": 28,
     "metadata": {},
     "output_type": "execute_result"
    }
   ],
   "source": [
    "ord('p'),ord('y'),ord('t'),ord('h'),ord('o'),ord('n')"
   ]
  },
  {
   "cell_type": "code",
   "execution_count": 30,
   "id": "f9a19b2f-8eb9-4d32-96b0-24804d073ccb",
   "metadata": {},
   "outputs": [
    {
     "data": {
      "text/plain": [
       "('p', 'y', 't', 'h', 'o', 'n')"
      ]
     },
     "execution_count": 30,
     "metadata": {},
     "output_type": "execute_result"
    }
   ],
   "source": [
    "chr(112),chr(121),chr(116),chr(104),chr(111),chr(110)"
   ]
  },
  {
   "cell_type": "code",
   "execution_count": null,
   "id": "f9b137c0-2a9d-43bf-9893-85343148f16c",
   "metadata": {},
   "outputs": [],
   "source": [
    "for i in range(10):    # range === mathematics\n",
    "    "
   ]
  },
  {
   "cell_type": "code",
   "execution_count": 32,
   "id": "d12ff5bb-3020-4e78-b31f-5f110ba9f26e",
   "metadata": {},
   "outputs": [
    {
     "data": {
      "text/plain": [
       "True"
      ]
     },
     "execution_count": 32,
     "metadata": {},
     "output_type": "execute_result"
    }
   ],
   "source": [
    "string1 = 'python'\n",
    "'p' in string1"
   ]
  },
  {
   "cell_type": "code",
   "execution_count": 34,
   "id": "3e7a8eca-4774-4ba9-bca2-8b603bd24cda",
   "metadata": {},
   "outputs": [
    {
     "name": "stdout",
     "output_type": "stream",
     "text": [
      "p y t h o n "
     ]
    }
   ],
   "source": [
    "for i in string1:\n",
    "    print(i, end=\" \")"
   ]
  },
  {
   "cell_type": "code",
   "execution_count": 42,
   "id": "3598d495-e494-4cec-a5f7-e1ef560dff8b",
   "metadata": {},
   "outputs": [
    {
     "name": "stdout",
     "output_type": "stream",
     "text": [
      "112\n",
      "121\n",
      "116\n",
      "104\n",
      "111\n",
      "110\n"
     ]
    }
   ],
   "source": [
    "for i in string1:\n",
    "    print(ord(i))"
   ]
  },
  {
   "cell_type": "code",
   "execution_count": 44,
   "id": "885f822a-0670-4b53-9bfa-8a8cc1919d4c",
   "metadata": {},
   "outputs": [
    {
     "name": "stdout",
     "output_type": "stream",
     "text": [
      "p\n",
      "y\n",
      "t\n",
      "h\n",
      "o\n",
      "n\n"
     ]
    }
   ],
   "source": [
    "for i in string1:\n",
    "    print(chr(ord(i)))"
   ]
  },
  {
   "cell_type": "code",
   "execution_count": 66,
   "id": "06c3af1a-9d98-497c-866d-e8569d39d24a",
   "metadata": {},
   "outputs": [
    {
     "name": "stdout",
     "output_type": "stream",
     "text": [
      "A 65\n",
      "B 66\n",
      "C 67\n",
      "D 68\n",
      "E 69\n",
      "F 70\n",
      "G 71\n",
      "H 72\n",
      "I 73\n",
      "J 74\n",
      "K 75\n",
      "L 76\n",
      "M 77\n",
      "N 78\n",
      "O 79\n",
      "P 80\n",
      "Q 81\n",
      "R 82\n",
      "S 83\n",
      "T 84\n",
      "U 85\n",
      "V 86\n",
      "W 87\n",
      "X 88\n",
      "Y 89\n",
      "Z 90\n"
     ]
    }
   ],
   "source": [
    "# ASCII value of A to Z\n",
    "# package_name\n",
    "\n",
    "import string\n",
    "# dir(string)\n",
    "n = string.ascii_uppercase\n",
    "for i in n:\n",
    "    print(i,end=\" \")\n",
    "    print(ord(i))"
   ]
  },
  {
   "cell_type": "code",
   "execution_count": 72,
   "id": "49e174c3-3f2a-4938-920e-5833d9fe1590",
   "metadata": {},
   "outputs": [
    {
     "name": "stdout",
     "output_type": "stream",
     "text": [
      "33 !\n",
      "34 \"\n",
      "35 #\n",
      "36 $\n",
      "37 %\n",
      "38 &\n",
      "39 '\n",
      "40 (\n",
      "41 )\n",
      "42 *\n",
      "43 +\n",
      "44 ,\n",
      "45 -\n",
      "46 .\n",
      "47 /\n",
      "48 0\n",
      "49 1\n",
      "50 2\n",
      "51 3\n",
      "52 4\n",
      "53 5\n",
      "54 6\n",
      "55 7\n",
      "56 8\n",
      "57 9\n",
      "58 :\n",
      "59 ;\n",
      "60 <\n",
      "61 =\n",
      "62 >\n",
      "63 ?\n",
      "64 @\n",
      "65 A\n",
      "66 B\n",
      "67 C\n",
      "68 D\n",
      "69 E\n",
      "70 F\n",
      "71 G\n",
      "72 H\n",
      "73 I\n",
      "74 J\n",
      "75 K\n",
      "76 L\n",
      "77 M\n",
      "78 N\n",
      "79 O\n",
      "80 P\n",
      "81 Q\n",
      "82 R\n",
      "83 S\n",
      "84 T\n",
      "85 U\n",
      "86 V\n",
      "87 W\n",
      "88 X\n",
      "89 Y\n",
      "90 Z\n",
      "91 [\n",
      "92 \\\n",
      "93 ]\n",
      "94 ^\n",
      "95 _\n",
      "96 `\n",
      "97 a\n",
      "98 b\n",
      "99 c\n",
      "100 d\n",
      "101 e\n",
      "102 f\n",
      "103 g\n",
      "104 h\n",
      "105 i\n",
      "106 j\n",
      "107 k\n",
      "108 l\n",
      "109 m\n",
      "110 n\n",
      "111 o\n",
      "112 p\n",
      "113 q\n",
      "114 r\n",
      "115 s\n",
      "116 t\n",
      "117 u\n",
      "118 v\n",
      "119 w\n",
      "120 x\n",
      "121 y\n",
      "122 z\n",
      "123 {\n",
      "124 |\n",
      "125 }\n",
      "126 ~\n",
      "983 ϗ\n",
      "984 Ϙ\n",
      "985 ϙ\n",
      "986 Ϛ\n",
      "987 ϛ\n",
      "988 Ϝ\n",
      "989 ϝ\n",
      "990 Ϟ\n",
      "991 ϟ\n",
      "992 Ϡ\n",
      "993 ϡ\n",
      "994 Ϣ\n",
      "995 ϣ\n",
      "996 Ϥ\n",
      "997 ϥ\n",
      "998 Ϧ\n",
      "999 ϧ\n"
     ]
    }
   ],
   "source": [
    "for i in range(33,127):\n",
    "    print(i, chr(i))\n",
    "\n",
    "for i in range(983,1000):\n",
    "    print(i, chr(i))\n",
    "\n",
    "# Total ascii = 97"
   ]
  },
  {
   "cell_type": "code",
   "execution_count": 76,
   "id": "536d7323-4a8a-40df-937e-5bb1ed96a59d",
   "metadata": {},
   "outputs": [
    {
     "name": "stdout",
     "output_type": "stream",
     "text": [
      " The total count of 'a' is 2\n"
     ]
    }
   ],
   "source": [
    "# WAP ask the user find number of \"a\" letters in a given string \n",
    "string = \" hey, how are you and how do you do \"\n",
    "# ans = 2\n",
    "count = 0\n",
    "for i in string:\n",
    "    if i == 'a':\n",
    "        count+= 1\n",
    "print(f\" The total count of 'a' is {count}\")\n"
   ]
  },
  {
   "cell_type": "code",
   "execution_count": 82,
   "id": "f1207d93-ad5e-4608-9b10-9d7f0084f048",
   "metadata": {},
   "outputs": [
    {
     "name": "stdout",
     "output_type": "stream",
     "text": [
      " The total count of 'a' is 6\n"
     ]
    }
   ],
   "source": [
    "# WAP count the number of vowels in a given string\n",
    "string = \"hey, how are you\"\n",
    "count = 0\n",
    "# for i in string:\n",
    "#     if i == 'a':\n",
    "#         count+= 1\n",
    "#     elif i == 'e':\n",
    "#         count+=1\n",
    "#     elif i == 'i':\n",
    "#         count+=1\n",
    "#     elif i == 'o':\n",
    "#         count+=1\n",
    "#     elif i == 'u':\n",
    "#         count+=1\n",
    "# print(f\" The total count of 'a' is {count}\")\n",
    "for i in string:\n",
    "    if i in  'aeiou':\n",
    "        count+= 1\n",
    "print(f\" The total count of 'a' is {count}\")"
   ]
  },
  {
   "cell_type": "code",
   "execution_count": 128,
   "id": "39bceb18-f015-4dc2-90b0-514963628538",
   "metadata": {},
   "outputs": [],
   "source": [
    "# WAP to count unique vowels"
   ]
  },
  {
   "cell_type": "code",
   "execution_count": 116,
   "id": "3a54d81c-dc21-4b3d-87e9-0817d35a5046",
   "metadata": {},
   "outputs": [
    {
     "name": "stdout",
     "output_type": "stream",
     "text": [
      "The total count of unique vowels is: 4\n",
      "The unique vowels are: e, o, a, u\n"
     ]
    }
   ],
   "source": [
    "string = \"hey, how are you\"\n",
    "string1 = \"\"  # To store unique vowels\n",
    "count = 0     # To count unique vowels\n",
    "\n",
    "for char in string:\n",
    "    # Check if the character is a vowel and not already in string1\n",
    "    if char.lower() in 'aeiou' and char.lower() not in string1:\n",
    "        string1 += char.lower()  # Add the lowercase vowel to string1\n",
    "        count += 1              # Increment the count\n",
    "\n",
    "print(f\"The total count of unique vowels is: {count}\")\n",
    "print(f\"The unique vowels are: {', '.join(string1)}\")"
   ]
  },
  {
   "cell_type": "code",
   "execution_count": 140,
   "id": "1f5c9d90-25dc-457b-8289-f7d2b6b4258e",
   "metadata": {},
   "outputs": [
    {
     "ename": "TypeError",
     "evalue": "can't multiply sequence by non-int of type 'str'",
     "output_type": "error",
     "traceback": [
      "\u001b[0;31m---------------------------------------------------------------------------\u001b[0m",
      "\u001b[0;31mTypeError\u001b[0m                                 Traceback (most recent call last)",
      "Cell \u001b[0;32mIn[140], line 7\u001b[0m\n\u001b[1;32m      4\u001b[0m str1 \u001b[38;5;241m+\u001b[39m str2\n\u001b[1;32m      5\u001b[0m \u001b[38;5;66;03m# str1 - str2    # unsupported operand type(s) for -: 'str' and 'str'\u001b[39;00m\n\u001b[1;32m      6\u001b[0m \u001b[38;5;66;03m# str1 / str2    # unsupported operand type(s) for -: 'str' and 'str'\u001b[39;00m\n\u001b[0;32m----> 7\u001b[0m str1 \u001b[38;5;241m*\u001b[39m str2\n",
      "\u001b[0;31mTypeError\u001b[0m: can't multiply sequence by non-int of type 'str'"
     ]
    }
   ],
   "source": [
    "# Concatenation \n",
    "str1 = \"Hello, \"\n",
    "str2 = \"Python\"\n",
    "str1 + str2\n",
    "str1 - str2    # unsupported operand type(s) for -: 'str' and 'str'\n",
    "str1 / str2    # unsupported operand type(s) for -: 'str' and 'str'\n",
    "str1 * str2    # can't multiply sequence by non-int of type 'str'"
   ]
  },
  {
   "cell_type": "code",
   "execution_count": 142,
   "id": "70cefb5a-e879-46e0-ac63-9fdfd520eb24",
   "metadata": {},
   "outputs": [
    {
     "data": {
      "text/plain": [
       "'Hello, Hello, Hello, '"
      ]
     },
     "execution_count": 142,
     "metadata": {},
     "output_type": "execute_result"
    }
   ],
   "source": [
    "3*str1"
   ]
  },
  {
   "cell_type": "markdown",
   "id": "1c4a3121-265c-418a-957d-7e58ba04cca1",
   "metadata": {},
   "source": [
    "index"
   ]
  },
  {
   "cell_type": "code",
   "execution_count": 144,
   "id": "84657b09-619a-43ef-8aac-d2fc96940932",
   "metadata": {},
   "outputs": [
    {
     "data": {
      "text/plain": [
       "('p', 'y', 't', 'h', 'o', 'n')"
      ]
     },
     "execution_count": 144,
     "metadata": {},
     "output_type": "execute_result"
    }
   ],
   "source": [
    "string111 = 'python'\n",
    "string111[0],string111[1],string111[2],string111[3],string111[4],string111[5]"
   ]
  },
  {
   "cell_type": "code",
   "execution_count": 146,
   "id": "836474d9-49ea-49b0-a3a3-edaf59d0ca43",
   "metadata": {},
   "outputs": [
    {
     "name": "stdout",
     "output_type": "stream",
     "text": [
      "p\n",
      "y\n",
      "t\n",
      "h\n",
      "o\n"
     ]
    }
   ],
   "source": [
    "for i in range(5):\n",
    "    print(string111[i])"
   ]
  },
  {
   "cell_type": "code",
   "execution_count": 154,
   "id": "96863e1f-36e2-4759-a0fa-253351b73e70",
   "metadata": {},
   "outputs": [
    {
     "name": "stdout",
     "output_type": "stream",
     "text": [
      "['p']\n",
      "['y']\n",
      "['t']\n",
      "['h']\n",
      "['o']\n",
      "['n']\n",
      "0 p\n",
      "1 y\n",
      "2 t\n",
      "3 h\n",
      "4 o\n",
      "5 n\n"
     ]
    }
   ],
   "source": [
    "for i in string111:\n",
    "    print([i])\n",
    "for i in range(len(string111)):\n",
    "    print(i,string111[i])"
   ]
  },
  {
   "cell_type": "code",
   "execution_count": 158,
   "id": "254ff3d3-74a9-4a49-905e-e4638ecde03b",
   "metadata": {},
   "outputs": [],
   "source": [
    "string1 = 'python'\n",
    "# I want to print the letters using for loop\n",
    "# in \n",
    "# range\n",
    "\n"
   ]
  },
  {
   "cell_type": "code",
   "execution_count": 182,
   "id": "672b17cb-8ddb-4c90-8988-fc2bfa991020",
   "metadata": {},
   "outputs": [
    {
     "name": "stdout",
     "output_type": "stream",
     "text": [
      "p y t h o n  \n",
      "0 p\n",
      "1 y\n",
      "2 t\n",
      "3 h\n",
      "4 o\n",
      "5 n\n"
     ]
    }
   ],
   "source": [
    "for i in string1:\n",
    "    print(i,end=\" \")\n",
    "print(\" \")\n",
    "for i in range(len(string1)):\n",
    "    print(i,string1[i])"
   ]
  },
  {
   "cell_type": "code",
   "execution_count": 184,
   "id": "7b610eb3-5abe-407b-b68b-c6c79c1105bd",
   "metadata": {},
   "outputs": [
    {
     "data": {
      "text/plain": [
       "'y'"
      ]
     },
     "execution_count": 184,
     "metadata": {},
     "output_type": "execute_result"
    }
   ],
   "source": [
    "string1[1]"
   ]
  },
  {
   "cell_type": "code",
   "execution_count": 190,
   "id": "3b21a351-74f2-420e-b575-9dc5454ed8e1",
   "metadata": {},
   "outputs": [
    {
     "name": "stdout",
     "output_type": "stream",
     "text": [
      "The index of p is 0\n",
      "The index of y is 1\n",
      "The index of t is 2\n",
      "The index of h is 3\n",
      "The index of o is 4\n",
      "The index of n is 5\n"
     ]
    }
   ],
   "source": [
    "for i in range(len(string1)):\n",
    "    print(f\"The index of {string1[i]} is {i}\")"
   ]
  },
  {
   "cell_type": "code",
   "execution_count": 222,
   "id": "64dfd32f-d7b7-47fc-9335-ce9977b601e8",
   "metadata": {},
   "outputs": [
    {
     "name": "stdout",
     "output_type": "stream",
     "text": [
      "The index of H is -13\n",
      "The index of e is -12\n",
      "The index of l is -11\n",
      "The index of l is -10\n",
      "The index of o is -9\n",
      "The index of , is -8\n",
      "The index of   is -7\n",
      "The index of D is -6\n",
      "The index of e is -5\n",
      "The index of e is -4\n",
      "The index of p is -3\n",
      "The index of a is -2\n",
      "The index of k is -1\n"
     ]
    }
   ],
   "source": [
    "stri= \"Hello, Deepak\"\n",
    "for i in range(-len(stri),0):\n",
    "    print(f\"The index of {stri[i]} is {i}\")\n"
   ]
  },
  {
   "cell_type": "code",
   "execution_count": 228,
   "id": "6b3ba3ed-2353-43a9-8fb1-98c6ab69172a",
   "metadata": {},
   "outputs": [
    {
     "name": "stdout",
     "output_type": "stream",
     "text": [
      "The positive index of H is 0 and negative index is -13\n",
      "The positive index of e is 1 and negative index is -12\n",
      "The positive index of l is 2 and negative index is -11\n",
      "The positive index of l is 3 and negative index is -10\n",
      "The positive index of o is 4 and negative index is -9\n",
      "The positive index of , is 5 and negative index is -8\n",
      "The positive index of   is 6 and negative index is -7\n",
      "The positive index of D is 7 and negative index is -6\n",
      "The positive index of e is 8 and negative index is -5\n",
      "The positive index of e is 9 and negative index is -4\n",
      "The positive index of p is 10 and negative index is -3\n",
      "The positive index of a is 11 and negative index is -2\n",
      "The positive index of k is 12 and negative index is -1\n"
     ]
    }
   ],
   "source": [
    "stri= \"Hello, Deepak\"\n",
    "for i in range(len(stri)):\n",
    "    print(f\"The positive index of {stri[i]} is {i} and negative index is {i-(len(stri))}\")"
   ]
  },
  {
   "cell_type": "code",
   "execution_count": 240,
   "id": "46da98b4-790c-4a51-8d5b-3171fc2c8bc1",
   "metadata": {},
   "outputs": [
    {
     "name": "stdout",
     "output_type": "stream",
     "text": [
      "The positive index of H is 0 and negative index is -13\n",
      "The positive index of e is 1 and negative index is -12\n",
      "The positive index of l is 2 and negative index is -11\n",
      "The positive index of l is 3 and negative index is -10\n",
      "The positive index of o is 4 and negative index is -9\n",
      "The positive index of , is 5 and negative index is -8\n",
      "The positive index of   is 6 and negative index is -7\n",
      "The positive index of D is 7 and negative index is -6\n",
      "The positive index of e is 8 and negative index is -5\n",
      "The positive index of e is 9 and negative index is -4\n",
      "The positive index of p is 10 and negative index is -3\n",
      "The positive index of a is 11 and negative index is -2\n",
      "The positive index of k is 12 and negative index is -1\n"
     ]
    }
   ],
   "source": [
    "stri= \"Hello, Deepak\"\n",
    "for i in range(-len(stri),0):\n",
    "    print(f\"The positive index of {stri[i]} is {i+(len(stri))} and negative index is {i}\")"
   ]
  },
  {
   "cell_type": "code",
   "execution_count": 11,
   "id": "ea63705d-5de0-416e-ab0d-fc46cd090462",
   "metadata": {},
   "outputs": [
    {
     "name": "stdout",
     "output_type": "stream",
     "text": [
      "The positive index of d is 0 and negative index is -6\n",
      "The positive index of e is 1 and negative index is -5\n",
      "The positive index of e is 2 and negative index is -4\n",
      "The positive index of p is 3 and negative index is -3\n",
      "The positive index of a is 4 and negative index is -2\n",
      "The positive index of k is 5 and negative index is -1\n"
     ]
    }
   ],
   "source": [
    "stri1 = 'deepak'\n",
    "i = 0\n",
    "while i<len(stri1):\n",
    "    print(f\"The positive index of {stri1[i]} is {i} and negative index is {i-(len(stri1))}\")\n",
    "    i += 1"
   ]
  },
  {
   "cell_type": "code",
   "execution_count": 13,
   "id": "05542f47-60d3-48ee-916d-ae1238e393f3",
   "metadata": {},
   "outputs": [
    {
     "ename": "NameError",
     "evalue": "name 'string' is not defined",
     "output_type": "error",
     "traceback": [
      "\u001b[0;31m---------------------------------------------------------------------------\u001b[0m",
      "\u001b[0;31mNameError\u001b[0m                                 Traceback (most recent call last)",
      "Cell \u001b[0;32mIn[13], line 8\u001b[0m\n\u001b[1;32m      1\u001b[0m \u001b[38;5;66;03m# mutible and immutable concept\u001b[39;00m\n\u001b[1;32m      2\u001b[0m \n\u001b[1;32m      3\u001b[0m \n\u001b[1;32m      4\u001b[0m \u001b[38;5;66;03m# mutable ======== we can change\u001b[39;00m\n\u001b[1;32m      5\u001b[0m \u001b[38;5;66;03m# immutable ======== we cannot change\u001b[39;00m\n\u001b[1;32m      7\u001b[0m st \u001b[38;5;241m=\u001b[39m \u001b[38;5;124m'\u001b[39m\u001b[38;5;124mpython\u001b[39m\u001b[38;5;124m'\u001b[39m\n\u001b[0;32m----> 8\u001b[0m string[\u001b[38;5;241m0\u001b[39m] \u001b[38;5;241m=\u001b[39m \u001b[38;5;124m'\u001b[39m\u001b[38;5;124mP\u001b[39m\u001b[38;5;124m'\u001b[39m\n",
      "\u001b[0;31mNameError\u001b[0m: name 'string' is not defined"
     ]
    }
   ],
   "source": [
    "# mutible and immutable concept\n",
    "\n",
    "\n",
    "# mutable ======== we can change\n",
    "# immutable ======== we cannot change\n",
    "\n",
    "st = 'python'\n",
    "string[0] = 'P'\n"
   ]
  },
  {
   "cell_type": "code",
   "execution_count": null,
   "id": "d896eb6e-31f9-4e89-9582-7e23a13bd50b",
   "metadata": {},
   "outputs": [],
   "source": [
    "# so, strings are immutable as we cannot change value by assigning operations"
   ]
  },
  {
   "cell_type": "code",
   "execution_count": 15,
   "id": "20f679ee-9fae-41e5-ba78-4758afd90cd8",
   "metadata": {},
   "outputs": [
    {
     "name": "stdout",
     "output_type": "stream",
     "text": [
      "[5000, 200, 300]\n"
     ]
    }
   ],
   "source": [
    "list = [100,200,300]\n",
    "list[0] = 5000\n",
    "print(list)"
   ]
  },
  {
   "cell_type": "code",
   "execution_count": null,
   "id": "a512d571-5c3e-4a95-b3c5-774e36896602",
   "metadata": {},
   "outputs": [],
   "source": [
    "# so, list are mutable as we can change value by assigning operation"
   ]
  },
  {
   "cell_type": "code",
   "execution_count": 17,
   "id": "237369da-fd41-4aa3-9307-b3cf6702554a",
   "metadata": {},
   "outputs": [
    {
     "name": "stdout",
     "output_type": "stream",
     "text": [
      "how ar\n"
     ]
    }
   ],
   "source": [
    "st1 = 'Hi how are you'\n",
    "print(st1[3:9])"
   ]
  },
  {
   "cell_type": "code",
   "execution_count": 19,
   "id": "39c4cd36-8280-4d2e-ac72-6bdf66be9d97",
   "metadata": {},
   "outputs": [
    {
     "name": "stdout",
     "output_type": "stream",
     "text": [
      "hwa\n"
     ]
    }
   ],
   "source": [
    "st1 = 'Hi how are you'\n",
    "print(st1[3:9:2])"
   ]
  },
  {
   "cell_type": "code",
   "execution_count": 35,
   "id": "5d2f4da8-421f-41f6-ac42-dd51925464dc",
   "metadata": {},
   "outputs": [
    {
     "name": "stdout",
     "output_type": "stream",
     "text": [
      "Hi how are you\n"
     ]
    }
   ],
   "source": [
    "# nothing mention means take start and end as default\n",
    "print(st1[:])"
   ]
  },
  {
   "cell_type": "code",
   "execution_count": 51,
   "id": "01c32a2b-2542-4af4-9b70-71ce50a50440",
   "metadata": {},
   "outputs": [
    {
     "name": "stdout",
     "output_type": "stream",
     "text": [
      "Hi how are you\n"
     ]
    }
   ],
   "source": [
    "print(st1[::])\n",
    "# here st = 0\n",
    "# step = 1 \n",
    "# and end = end of the string"
   ]
  },
  {
   "cell_type": "code",
   "execution_count": 53,
   "id": "1dad2c75-84d0-40ea-bad8-a1640d44d5bb",
   "metadata": {},
   "outputs": [
    {
     "data": {
      "text/plain": [
       "''"
      ]
     },
     "execution_count": 53,
     "metadata": {},
     "output_type": "execute_result"
    }
   ],
   "source": [
    "st1[2:10:-3]"
   ]
  },
  {
   "cell_type": "code",
   "execution_count": 55,
   "id": "fc6affb0-c8ad-43c8-b9df-d7a1b876788f",
   "metadata": {},
   "outputs": [],
   "source": [
    "for i in range(2,10,-3):\n",
    "    print(i)"
   ]
  },
  {
   "cell_type": "code",
   "execution_count": 71,
   "id": "00e5daef-36ee-4fd0-8e29-55ad533796b6",
   "metadata": {},
   "outputs": [
    {
     "data": {
      "text/plain": [
       "'a'"
      ]
     },
     "execution_count": 71,
     "metadata": {},
     "output_type": "execute_result"
    }
   ],
   "source": [
    "st1= 'deepakjaiswal'\n",
    "# st1[2:14:2]  #P  'eajiwl'\n",
    "# st1[2:14:-2] #np\n",
    "# st1[2:-14:2]  #np\n",
    "# st1[2:-14:-2] #p  'ed'\n",
    "st1[-2:14:2]  #p   'a'\n",
    "# st1[2:14:-2]  #np\n",
    " "
   ]
  },
  {
   "cell_type": "markdown",
   "id": "848b1166-27a0-4689-85a5-08326e7f70b9",
   "metadata": {},
   "source": [
    "string methods"
   ]
  },
  {
   "cell_type": "code",
   "execution_count": 73,
   "id": "523310d1-0852-45b2-a205-882379471683",
   "metadata": {},
   "outputs": [
    {
     "data": {
      "text/plain": [
       "['Formatter',\n",
       " 'Template',\n",
       " '_ChainMap',\n",
       " '__all__',\n",
       " '__builtins__',\n",
       " '__cached__',\n",
       " '__doc__',\n",
       " '__file__',\n",
       " '__loader__',\n",
       " '__name__',\n",
       " '__package__',\n",
       " '__spec__',\n",
       " '_re',\n",
       " '_sentinel_dict',\n",
       " '_string',\n",
       " 'ascii_letters',\n",
       " 'ascii_lowercase',\n",
       " 'ascii_uppercase',\n",
       " 'capwords',\n",
       " 'digits',\n",
       " 'hexdigits',\n",
       " 'octdigits',\n",
       " 'printable',\n",
       " 'punctuation',\n",
       " 'whitespace']"
      ]
     },
     "execution_count": 73,
     "metadata": {},
     "output_type": "execute_result"
    }
   ],
   "source": [
    "import string\n",
    "dir(string)"
   ]
  },
  {
   "cell_type": "code",
   "execution_count": 75,
   "id": "5e1d1869-94bb-4a85-9150-8a44a31e1cdd",
   "metadata": {},
   "outputs": [
    {
     "data": {
      "text/plain": [
       "['__add__',\n",
       " '__class__',\n",
       " '__contains__',\n",
       " '__delattr__',\n",
       " '__dir__',\n",
       " '__doc__',\n",
       " '__eq__',\n",
       " '__format__',\n",
       " '__ge__',\n",
       " '__getattribute__',\n",
       " '__getitem__',\n",
       " '__getnewargs__',\n",
       " '__getstate__',\n",
       " '__gt__',\n",
       " '__hash__',\n",
       " '__init__',\n",
       " '__init_subclass__',\n",
       " '__iter__',\n",
       " '__le__',\n",
       " '__len__',\n",
       " '__lt__',\n",
       " '__mod__',\n",
       " '__mul__',\n",
       " '__ne__',\n",
       " '__new__',\n",
       " '__reduce__',\n",
       " '__reduce_ex__',\n",
       " '__repr__',\n",
       " '__rmod__',\n",
       " '__rmul__',\n",
       " '__setattr__',\n",
       " '__sizeof__',\n",
       " '__str__',\n",
       " '__subclasshook__',\n",
       " 'capitalize',\n",
       " 'casefold',\n",
       " 'center',\n",
       " 'count',\n",
       " 'encode',\n",
       " 'endswith',\n",
       " 'expandtabs',\n",
       " 'find',\n",
       " 'format',\n",
       " 'format_map',\n",
       " 'index',\n",
       " 'isalnum',\n",
       " 'isalpha',\n",
       " 'isascii',\n",
       " 'isdecimal',\n",
       " 'isdigit',\n",
       " 'isidentifier',\n",
       " 'islower',\n",
       " 'isnumeric',\n",
       " 'isprintable',\n",
       " 'isspace',\n",
       " 'istitle',\n",
       " 'isupper',\n",
       " 'join',\n",
       " 'ljust',\n",
       " 'lower',\n",
       " 'lstrip',\n",
       " 'maketrans',\n",
       " 'partition',\n",
       " 'removeprefix',\n",
       " 'removesuffix',\n",
       " 'replace',\n",
       " 'rfind',\n",
       " 'rindex',\n",
       " 'rjust',\n",
       " 'rpartition',\n",
       " 'rsplit',\n",
       " 'rstrip',\n",
       " 'split',\n",
       " 'splitlines',\n",
       " 'startswith',\n",
       " 'strip',\n",
       " 'swapcase',\n",
       " 'title',\n",
       " 'translate',\n",
       " 'upper',\n",
       " 'zfill']"
      ]
     },
     "execution_count": 75,
     "metadata": {},
     "output_type": "execute_result"
    }
   ],
   "source": [
    "dir('')"
   ]
  },
  {
   "cell_type": "code",
   "execution_count": 87,
   "id": "fedea7c3-e1c3-4eff-bdee-8e4753e5f16b",
   "metadata": {},
   "outputs": [
    {
     "name": "stdout",
     "output_type": "stream",
     "text": [
      "Welcome\n"
     ]
    }
   ],
   "source": [
    "# capitalize method\n",
    "string1 = 'welcome'\n",
    "print(string1.capitalize())"
   ]
  },
  {
   "cell_type": "code",
   "execution_count": 91,
   "id": "28ce74aa-dcfc-467e-bbdd-f4134ce9252d",
   "metadata": {},
   "outputs": [
    {
     "name": "stdout",
     "output_type": "stream",
     "text": [
      "HELLO\n"
     ]
    }
   ],
   "source": [
    "# upper method\n",
    "string2 = 'hello'\n",
    "print(string2.upper())\n"
   ]
  },
  {
   "cell_type": "code",
   "execution_count": 93,
   "id": "2b5a877e-4688-4fc9-afdf-37860c5924ef",
   "metadata": {},
   "outputs": [
    {
     "name": "stdout",
     "output_type": "stream",
     "text": [
      "hello\n"
     ]
    }
   ],
   "source": [
    "# lower method\n",
    "string2 = 'hello'\n",
    "print(string2.lower())"
   ]
  },
  {
   "cell_type": "code",
   "execution_count": 29,
   "id": "89a0455f-110a-4938-86f7-986ef28f8b80",
   "metadata": {},
   "outputs": [
    {
     "data": {
      "text/plain": [
       "'heLp'"
      ]
     },
     "execution_count": 29,
     "metadata": {},
     "output_type": "execute_result"
    }
   ],
   "source": [
    "string3 = 'help'\n",
    "# make help as heLp\n",
    "str1 = string3[0:2]\n",
    "str2 = string3[3]\n",
    "str1+'L'+str2\n",
    "\n"
   ]
  },
  {
   "cell_type": "code",
   "execution_count": 31,
   "id": "2ddc0d5b-7605-49cb-9da9-6e331fa13e68",
   "metadata": {},
   "outputs": [
    {
     "data": {
      "text/plain": [
       "'heLp'"
      ]
     },
     "execution_count": 31,
     "metadata": {},
     "output_type": "execute_result"
    }
   ],
   "source": [
    "string3.replace('l','L')"
   ]
  }
 ],
 "metadata": {
  "kernelspec": {
   "display_name": "Python [conda env:base] *",
   "language": "python",
   "name": "conda-base-py"
  },
  "language_info": {
   "codemirror_mode": {
    "name": "ipython",
    "version": 3
   },
   "file_extension": ".py",
   "mimetype": "text/x-python",
   "name": "python",
   "nbconvert_exporter": "python",
   "pygments_lexer": "ipython3",
   "version": "3.12.7"
  }
 },
 "nbformat": 4,
 "nbformat_minor": 5
}
